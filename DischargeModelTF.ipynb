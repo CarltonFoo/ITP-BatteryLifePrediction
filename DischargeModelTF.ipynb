{
 "cells": [
  {
   "cell_type": "code",
   "execution_count": null,
   "metadata": {},
   "outputs": [],
   "source": [
    "%pip install -q numpy pandas matplotlib seaborn scikit-learn tensorflow h5py"
   ]
  },
  {
   "cell_type": "code",
   "execution_count": 1,
   "metadata": {},
   "outputs": [],
   "source": [
    "import matplotlib.pyplot as plt\n",
    "import numpy as np\n",
    "import pandas as pd\n",
    "import seaborn as sns\n",
    "\n",
    "# Make NumPy printouts easier to read.\n",
    "np.set_printoptions(precision=3, suppress=True)"
   ]
  },
  {
   "cell_type": "code",
   "execution_count": 2,
   "metadata": {},
   "outputs": [
    {
     "name": "stdout",
     "output_type": "stream",
     "text": [
      "2.9.1\n"
     ]
    }
   ],
   "source": [
    "import tensorflow as tf\n",
    "\n",
    "from tensorflow import keras\n",
    "from tensorflow.keras import layers\n",
    "\n",
    "print(tf.__version__)"
   ]
  },
  {
   "cell_type": "markdown",
   "metadata": {},
   "source": [
    "## Read Data"
   ]
  },
  {
   "cell_type": "code",
   "execution_count": 3,
   "metadata": {},
   "outputs": [],
   "source": [
    "featFileName = \"./Data/features_combined.csv\"\n",
    "batch_pd = pd.read_csv(featFileName, index_col=False)"
   ]
  },
  {
   "cell_type": "code",
   "execution_count": 4,
   "metadata": {},
   "outputs": [
    {
     "data": {
      "text/html": [
       "<div>\n",
       "<style scoped>\n",
       "    .dataframe tbody tr th:only-of-type {\n",
       "        vertical-align: middle;\n",
       "    }\n",
       "\n",
       "    .dataframe tbody tr th {\n",
       "        vertical-align: top;\n",
       "    }\n",
       "\n",
       "    .dataframe thead th {\n",
       "        text-align: right;\n",
       "    }\n",
       "</style>\n",
       "<table border=\"1\" class=\"dataframe\">\n",
       "  <thead>\n",
       "    <tr style=\"text-align: right;\">\n",
       "      <th></th>\n",
       "      <th>policy</th>\n",
       "      <th>barcode</th>\n",
       "      <th>cycle_life</th>\n",
       "    </tr>\n",
       "  </thead>\n",
       "  <tbody>\n",
       "    <tr>\n",
       "      <th>0</th>\n",
       "      <td>3_6C-80PER_3_6C</td>\n",
       "      <td>???</td>\n",
       "      <td>1189</td>\n",
       "    </tr>\n",
       "    <tr>\n",
       "      <th>1</th>\n",
       "      <td>3_6C-80PER_3_6C</td>\n",
       "      <td>???</td>\n",
       "      <td>1178</td>\n",
       "    </tr>\n",
       "    <tr>\n",
       "      <th>2</th>\n",
       "      <td>3_6C-80PER_3_6C</td>\n",
       "      <td>???</td>\n",
       "      <td>1176</td>\n",
       "    </tr>\n",
       "    <tr>\n",
       "      <th>3</th>\n",
       "      <td>4C-80PER_4C</td>\n",
       "      <td>???</td>\n",
       "      <td>1225</td>\n",
       "    </tr>\n",
       "    <tr>\n",
       "      <th>4</th>\n",
       "      <td>4C-80PER_4C</td>\n",
       "      <td>???</td>\n",
       "      <td>1226</td>\n",
       "    </tr>\n",
       "    <tr>\n",
       "      <th>...</th>\n",
       "      <td>...</td>\n",
       "      <td>...</td>\n",
       "      <td>...</td>\n",
       "    </tr>\n",
       "    <tr>\n",
       "      <th>75</th>\n",
       "      <td>6C_31PER_4_25C</td>\n",
       "      <td>???</td>\n",
       "      <td>462</td>\n",
       "    </tr>\n",
       "    <tr>\n",
       "      <th>76</th>\n",
       "      <td>6C_40PER_4C</td>\n",
       "      <td>???</td>\n",
       "      <td>457</td>\n",
       "    </tr>\n",
       "    <tr>\n",
       "      <th>77</th>\n",
       "      <td>6C_4PER_4_75C</td>\n",
       "      <td>???</td>\n",
       "      <td>487</td>\n",
       "    </tr>\n",
       "    <tr>\n",
       "      <th>78</th>\n",
       "      <td>6C_52PER_3_5C</td>\n",
       "      <td>???</td>\n",
       "      <td>429</td>\n",
       "    </tr>\n",
       "    <tr>\n",
       "      <th>79</th>\n",
       "      <td>6C_60PER_3C</td>\n",
       "      <td>???</td>\n",
       "      <td>713</td>\n",
       "    </tr>\n",
       "  </tbody>\n",
       "</table>\n",
       "<p>80 rows × 3 columns</p>\n",
       "</div>"
      ],
      "text/plain": [
       "             policy barcode  cycle_life\n",
       "0   3_6C-80PER_3_6C     ???        1189\n",
       "1   3_6C-80PER_3_6C     ???        1178\n",
       "2   3_6C-80PER_3_6C     ???        1176\n",
       "3       4C-80PER_4C     ???        1225\n",
       "4       4C-80PER_4C     ???        1226\n",
       "..              ...     ...         ...\n",
       "75   6C_31PER_4_25C     ???         462\n",
       "76      6C_40PER_4C     ???         457\n",
       "77    6C_4PER_4_75C     ???         487\n",
       "78    6C_52PER_3_5C     ???         429\n",
       "79      6C_60PER_3C     ???         713\n",
       "\n",
       "[80 rows x 3 columns]"
      ]
     },
     "execution_count": 4,
     "metadata": {},
     "output_type": "execute_result"
    }
   ],
   "source": [
    "bat_info = batch_pd.loc[:,'policy':'cycle_life']\n",
    "bat_info"
   ]
  },
  {
   "cell_type": "code",
   "execution_count": 5,
   "metadata": {},
   "outputs": [
    {
     "data": {
      "text/plain": [
       "array([[ 1.071,  0.468,  1.076, ...,  1.091,  0.   ,  1.072],\n",
       "       [ 1.075,  0.009,  1.081, ...,  1.081, -0.   ,  1.085],\n",
       "       [ 1.08 ,  0.008,  1.085, ...,  1.085, -0.   ,  1.089],\n",
       "       ...,\n",
       "       [ 1.07 ,  0.005,  1.073, ...,  1.075, -0.   ,  1.081],\n",
       "       [ 1.073,  0.007,  1.08 , ...,  1.078, -0.   ,  1.081],\n",
       "       [ 1.042,  0.008,  1.047, ...,  1.049, -0.   ,  1.055]])"
      ]
     },
     "execution_count": 5,
     "metadata": {},
     "output_type": "execute_result"
    }
   ],
   "source": [
    "feat = batch_pd.drop(['policy','barcode','cycle_life','QDiffLinVar'], axis=1).to_numpy()\n",
    "feat"
   ]
  },
  {
   "cell_type": "markdown",
   "metadata": {},
   "source": [
    "## Clean the Data"
   ]
  },
  {
   "cell_type": "code",
   "execution_count": 6,
   "metadata": {},
   "outputs": [],
   "source": [
    "# quoted: \"data fix\"\n",
    "feat[0,9] = 1.692e-5;\n",
    "feat[0,10] = 1.0750;\n",
    "\n",
    "feat[14,1] = 0.00397;\n",
    "feat[14,9] = -4.8296e-5;\n",
    "feat[14,10] = 1.0705;"
   ]
  },
  {
   "cell_type": "markdown",
   "metadata": {},
   "source": [
    "## Train-Test split"
   ]
  },
  {
   "cell_type": "code",
   "execution_count": 7,
   "metadata": {},
   "outputs": [],
   "source": [
    "feat_train = feat[0::2]\n",
    "feat_test = feat[1::2]\n",
    "label_train = bat_info[\"cycle_life\"][0::2]\n",
    "label_test = bat_info[\"cycle_life\"][1::2]"
   ]
  },
  {
   "cell_type": "markdown",
   "metadata": {},
   "source": [
    "## Normalization"
   ]
  },
  {
   "cell_type": "code",
   "execution_count": 8,
   "metadata": {},
   "outputs": [
    {
     "data": {
      "text/html": [
       "<div>\n",
       "<style scoped>\n",
       "    .dataframe tbody tr th:only-of-type {\n",
       "        vertical-align: middle;\n",
       "    }\n",
       "\n",
       "    .dataframe tbody tr th {\n",
       "        vertical-align: top;\n",
       "    }\n",
       "\n",
       "    .dataframe thead th {\n",
       "        text-align: right;\n",
       "    }\n",
       "</style>\n",
       "<table border=\"1\" class=\"dataframe\">\n",
       "  <thead>\n",
       "    <tr style=\"text-align: right;\">\n",
       "      <th></th>\n",
       "      <th>count</th>\n",
       "      <th>mean</th>\n",
       "      <th>std</th>\n",
       "      <th>min</th>\n",
       "      <th>25%</th>\n",
       "      <th>50%</th>\n",
       "      <th>75%</th>\n",
       "      <th>max</th>\n",
       "    </tr>\n",
       "  </thead>\n",
       "  <tbody>\n",
       "    <tr>\n",
       "      <th>cycle_life</th>\n",
       "      <td>80.0</td>\n",
       "      <td>658.425000</td>\n",
       "      <td>237.515344</td>\n",
       "      <td>148.000000</td>\n",
       "      <td>480.750000</td>\n",
       "      <td>578.000000</td>\n",
       "      <td>844.000000</td>\n",
       "      <td>1226.000000</td>\n",
       "    </tr>\n",
       "    <tr>\n",
       "      <th>QD2</th>\n",
       "      <td>80.0</td>\n",
       "      <td>1.074407</td>\n",
       "      <td>0.008425</td>\n",
       "      <td>1.042137</td>\n",
       "      <td>1.070368</td>\n",
       "      <td>1.074676</td>\n",
       "      <td>1.079112</td>\n",
       "      <td>1.094639</td>\n",
       "    </tr>\n",
       "    <tr>\n",
       "      <th>QD(Max-2)</th>\n",
       "      <td>80.0</td>\n",
       "      <td>0.033860</td>\n",
       "      <td>0.208521</td>\n",
       "      <td>0.001546</td>\n",
       "      <td>0.004169</td>\n",
       "      <td>0.005161</td>\n",
       "      <td>0.006591</td>\n",
       "      <td>1.817914</td>\n",
       "    </tr>\n",
       "    <tr>\n",
       "      <th>QD100</th>\n",
       "      <td>80.0</td>\n",
       "      <td>1.074702</td>\n",
       "      <td>0.016475</td>\n",
       "      <td>0.968339</td>\n",
       "      <td>1.071743</td>\n",
       "      <td>1.078276</td>\n",
       "      <td>1.082280</td>\n",
       "      <td>1.095762</td>\n",
       "    </tr>\n",
       "    <tr>\n",
       "      <th>QDiffMin</th>\n",
       "      <td>80.0</td>\n",
       "      <td>-1.366400</td>\n",
       "      <td>0.193884</td>\n",
       "      <td>-2.072648</td>\n",
       "      <td>-1.430311</td>\n",
       "      <td>-1.345441</td>\n",
       "      <td>-1.248456</td>\n",
       "      <td>-0.860038</td>\n",
       "    </tr>\n",
       "    <tr>\n",
       "      <th>QDiffMean</th>\n",
       "      <td>80.0</td>\n",
       "      <td>-1.712803</td>\n",
       "      <td>0.232730</td>\n",
       "      <td>-2.541602</td>\n",
       "      <td>-1.794486</td>\n",
       "      <td>-1.681735</td>\n",
       "      <td>-1.586377</td>\n",
       "      <td>-1.109668</td>\n",
       "    </tr>\n",
       "    <tr>\n",
       "      <th>QDiffVar</th>\n",
       "      <td>80.0</td>\n",
       "      <td>-3.700346</td>\n",
       "      <td>0.394717</td>\n",
       "      <td>-5.014861</td>\n",
       "      <td>-3.845688</td>\n",
       "      <td>-3.648272</td>\n",
       "      <td>-3.487896</td>\n",
       "      <td>-2.726901</td>\n",
       "    </tr>\n",
       "    <tr>\n",
       "      <th>QDiffSkew</th>\n",
       "      <td>80.0</td>\n",
       "      <td>-0.835239</td>\n",
       "      <td>0.418983</td>\n",
       "      <td>-2.337813</td>\n",
       "      <td>-1.047574</td>\n",
       "      <td>-0.834964</td>\n",
       "      <td>-0.544644</td>\n",
       "      <td>0.033502</td>\n",
       "    </tr>\n",
       "    <tr>\n",
       "      <th>QDiffKurtosis</th>\n",
       "      <td>80.0</td>\n",
       "      <td>0.083591</td>\n",
       "      <td>0.083133</td>\n",
       "      <td>-0.457627</td>\n",
       "      <td>0.082972</td>\n",
       "      <td>0.103917</td>\n",
       "      <td>0.117703</td>\n",
       "      <td>0.142137</td>\n",
       "    </tr>\n",
       "    <tr>\n",
       "      <th>QDiffStart</th>\n",
       "      <td>80.0</td>\n",
       "      <td>-4.227185</td>\n",
       "      <td>0.525039</td>\n",
       "      <td>-5.820917</td>\n",
       "      <td>-4.540804</td>\n",
       "      <td>-4.149654</td>\n",
       "      <td>-3.793068</td>\n",
       "      <td>-3.399592</td>\n",
       "    </tr>\n",
       "    <tr>\n",
       "      <th>R3Coef</th>\n",
       "      <td>80.0</td>\n",
       "      <td>-0.000036</td>\n",
       "      <td>0.000139</td>\n",
       "      <td>-0.001088</td>\n",
       "      <td>-0.000020</td>\n",
       "      <td>-0.000004</td>\n",
       "      <td>0.000014</td>\n",
       "      <td>0.000036</td>\n",
       "    </tr>\n",
       "    <tr>\n",
       "      <th>R3Intercept</th>\n",
       "      <td>80.0</td>\n",
       "      <td>1.079544</td>\n",
       "      <td>0.008523</td>\n",
       "      <td>1.049359</td>\n",
       "      <td>1.075104</td>\n",
       "      <td>1.079341</td>\n",
       "      <td>1.083805</td>\n",
       "      <td>1.101303</td>\n",
       "    </tr>\n",
       "    <tr>\n",
       "      <th>R1Coef</th>\n",
       "      <td>80.0</td>\n",
       "      <td>-0.000089</td>\n",
       "      <td>0.000172</td>\n",
       "      <td>-0.001378</td>\n",
       "      <td>-0.000085</td>\n",
       "      <td>-0.000042</td>\n",
       "      <td>-0.000031</td>\n",
       "      <td>0.000039</td>\n",
       "    </tr>\n",
       "    <tr>\n",
       "      <th>R1Intercept</th>\n",
       "      <td>80.0</td>\n",
       "      <td>1.083564</td>\n",
       "      <td>0.008948</td>\n",
       "      <td>1.050106</td>\n",
       "      <td>1.079798</td>\n",
       "      <td>1.083385</td>\n",
       "      <td>1.088577</td>\n",
       "      <td>1.106627</td>\n",
       "    </tr>\n",
       "  </tbody>\n",
       "</table>\n",
       "</div>"
      ],
      "text/plain": [
       "               count        mean         std         min         25%  \\\n",
       "cycle_life      80.0  658.425000  237.515344  148.000000  480.750000   \n",
       "QD2             80.0    1.074407    0.008425    1.042137    1.070368   \n",
       "QD(Max-2)       80.0    0.033860    0.208521    0.001546    0.004169   \n",
       "QD100           80.0    1.074702    0.016475    0.968339    1.071743   \n",
       "QDiffMin        80.0   -1.366400    0.193884   -2.072648   -1.430311   \n",
       "QDiffMean       80.0   -1.712803    0.232730   -2.541602   -1.794486   \n",
       "QDiffVar        80.0   -3.700346    0.394717   -5.014861   -3.845688   \n",
       "QDiffSkew       80.0   -0.835239    0.418983   -2.337813   -1.047574   \n",
       "QDiffKurtosis   80.0    0.083591    0.083133   -0.457627    0.082972   \n",
       "QDiffStart      80.0   -4.227185    0.525039   -5.820917   -4.540804   \n",
       "R3Coef          80.0   -0.000036    0.000139   -0.001088   -0.000020   \n",
       "R3Intercept     80.0    1.079544    0.008523    1.049359    1.075104   \n",
       "R1Coef          80.0   -0.000089    0.000172   -0.001378   -0.000085   \n",
       "R1Intercept     80.0    1.083564    0.008948    1.050106    1.079798   \n",
       "\n",
       "                      50%         75%          max  \n",
       "cycle_life     578.000000  844.000000  1226.000000  \n",
       "QD2              1.074676    1.079112     1.094639  \n",
       "QD(Max-2)        0.005161    0.006591     1.817914  \n",
       "QD100            1.078276    1.082280     1.095762  \n",
       "QDiffMin        -1.345441   -1.248456    -0.860038  \n",
       "QDiffMean       -1.681735   -1.586377    -1.109668  \n",
       "QDiffVar        -3.648272   -3.487896    -2.726901  \n",
       "QDiffSkew       -0.834964   -0.544644     0.033502  \n",
       "QDiffKurtosis    0.103917    0.117703     0.142137  \n",
       "QDiffStart      -4.149654   -3.793068    -3.399592  \n",
       "R3Coef          -0.000004    0.000014     0.000036  \n",
       "R3Intercept      1.079341    1.083805     1.101303  \n",
       "R1Coef          -0.000042   -0.000031     0.000039  \n",
       "R1Intercept      1.083385    1.088577     1.106627  "
      ]
     },
     "execution_count": 8,
     "metadata": {},
     "output_type": "execute_result"
    }
   ],
   "source": [
    "batch_pd.drop(['policy','barcode','QDiffLinVar'], axis=1).describe().transpose()"
   ]
  },
  {
   "cell_type": "code",
   "execution_count": 9,
   "metadata": {},
   "outputs": [],
   "source": [
    "# label_train = np.log10(label_train)\n",
    "# label_test = np.log10(label_test)"
   ]
  },
  {
   "cell_type": "code",
   "execution_count": 9,
   "metadata": {},
   "outputs": [],
   "source": [
    "# equivalent to step \"scale data\" in original version\n",
    "normalizer = layers.Normalization(input_shape=[13, ], axis=None)\n",
    "normalizer.adapt(feat_train)"
   ]
  },
  {
   "cell_type": "code",
   "execution_count": 10,
   "metadata": {},
   "outputs": [
    {
     "name": "stdout",
     "output_type": "stream",
     "text": [
      "[[-0.571]]\n"
     ]
    }
   ],
   "source": [
    "print(normalizer.mean.numpy())"
   ]
  },
  {
   "cell_type": "markdown",
   "metadata": {},
   "source": [
    "## Linear regression"
   ]
  },
  {
   "cell_type": "code",
   "execution_count": 11,
   "metadata": {},
   "outputs": [],
   "source": [
    "# simulate training the model against log10(cycle_life)\n",
    "power10 = layers.Lambda(lambda x: tf.constant(10.0)**x)"
   ]
  },
  {
   "cell_type": "code",
   "execution_count": 12,
   "metadata": {},
   "outputs": [
    {
     "name": "stdout",
     "output_type": "stream",
     "text": [
      "Model: \"sequential\"\n",
      "_________________________________________________________________\n",
      " Layer (type)                Output Shape              Param #   \n",
      "=================================================================\n",
      " normalization (Normalizatio  (None, 13)               3         \n",
      " n)                                                              \n",
      "                                                                 \n",
      " dense (Dense)               (None, 1)                 14        \n",
      "                                                                 \n",
      " lambda (Lambda)             (None, 1)                 0         \n",
      "                                                                 \n",
      "=================================================================\n",
      "Total params: 17\n",
      "Trainable params: 14\n",
      "Non-trainable params: 3\n",
      "_________________________________________________________________\n"
     ]
    }
   ],
   "source": [
    "discharge_model = tf.keras.Sequential([\n",
    "    normalizer,\n",
    "    layers.Dense(units=1),\n",
    "    power10\n",
    "])\n",
    "\n",
    "discharge_model.summary()"
   ]
  },
  {
   "cell_type": "markdown",
   "metadata": {},
   "source": [
    "Run the untrained model on the first 10 batteries' features. The output won't be good, but notice that it has the expected shape of `(10, 13)`:"
   ]
  },
  {
   "cell_type": "code",
   "execution_count": 13,
   "metadata": {},
   "outputs": [
    {
     "name": "stdout",
     "output_type": "stream",
     "text": [
      "1/1 [==============================] - 0s 79ms/step\n"
     ]
    },
    {
     "data": {
      "text/plain": [
       "array([[17.176],\n",
       "       [10.804],\n",
       "       [11.005],\n",
       "       [ 4.566],\n",
       "       [ 6.337],\n",
       "       [ 7.422],\n",
       "       [ 5.685],\n",
       "       [ 6.004],\n",
       "       [ 5.889],\n",
       "       [ 5.459]], dtype=float32)"
      ]
     },
     "execution_count": 13,
     "metadata": {},
     "output_type": "execute_result"
    }
   ],
   "source": [
    "discharge_model.predict(feat_train[:10])"
   ]
  },
  {
   "cell_type": "code",
   "execution_count": 14,
   "metadata": {},
   "outputs": [],
   "source": [
    "discharge_model.compile(\n",
    "    optimizer=tf.keras.optimizers.Adam(learning_rate=0.001),\n",
    "    loss='mean_squared_error')"
   ]
  },
  {
   "cell_type": "code",
   "execution_count": 15,
   "metadata": {},
   "outputs": [
    {
     "name": "stdout",
     "output_type": "stream",
     "text": [
      "CPU times: total: 1min 54s\n",
      "Wall time: 1min 38s\n"
     ]
    }
   ],
   "source": [
    "%%time\n",
    "history = discharge_model.fit(\n",
    "    feat_train,\n",
    "    label_train,\n",
    "    epochs=5000,\n",
    "    # Suppress logging.\n",
    "    verbose=0,\n",
    "    # Calculate validation results on 20% of the training data.\n",
    "    validation_split = 0.2)"
   ]
  },
  {
   "cell_type": "markdown",
   "metadata": {},
   "source": [
    "## Evaluation\n",
    "Note: since model has been configured to use Mean Squared Error to evaluate loss/cost, will need to square root the loss statistic to get **Root** Mean Squared Error as measured by authors."
   ]
  },
  {
   "cell_type": "code",
   "execution_count": 23,
   "metadata": {},
   "outputs": [],
   "source": [
    "def plot_loss(history):\n",
    "  plt.plot(np.sqrt(history.history['loss']), label='loss')\n",
    "  plt.plot(np.sqrt(history.history['val_loss']), label='val_loss')\n",
    "  # plt.ylim([200, 130])\n",
    "  plt.ylim([50, 300])\n",
    "  plt.xlabel('Epoch')\n",
    "  plt.ylabel('Error [cycles]')\n",
    "  plt.legend()\n",
    "  plt.grid(True)"
   ]
  },
  {
   "cell_type": "code",
   "execution_count": 24,
   "metadata": {},
   "outputs": [
    {
     "data": {
      "image/png": "[encoded data removed]",
      "text/plain": [
       "<Figure size 432x288 with 1 Axes>"
      ]
     },
     "metadata": {
      "needs_background": "light"
     },
     "output_type": "display_data"
    }
   ],
   "source": [
    "plot_loss(history)"
   ]
  },
  {
   "cell_type": "code",
   "execution_count": 20,
   "metadata": {},
   "outputs": [
    {
     "data": {
      "text/html": [
       "<div>\n",
       "<style scoped>\n",
       "    .dataframe tbody tr th:only-of-type {\n",
       "        vertical-align: middle;\n",
       "    }\n",
       "\n",
       "    .dataframe tbody tr th {\n",
       "        vertical-align: top;\n",
       "    }\n",
       "\n",
       "    .dataframe thead th {\n",
       "        text-align: right;\n",
       "    }\n",
       "</style>\n",
       "<table border=\"1\" class=\"dataframe\">\n",
       "  <thead>\n",
       "    <tr style=\"text-align: right;\">\n",
       "      <th></th>\n",
       "      <th>loss</th>\n",
       "      <th>val_loss</th>\n",
       "      <th>epoch</th>\n",
       "    </tr>\n",
       "  </thead>\n",
       "  <tbody>\n",
       "    <tr>\n",
       "      <th>4995</th>\n",
       "      <td>92.764613</td>\n",
       "      <td>116.880865</td>\n",
       "      <td>4995</td>\n",
       "    </tr>\n",
       "    <tr>\n",
       "      <th>4996</th>\n",
       "      <td>92.764229</td>\n",
       "      <td>116.880590</td>\n",
       "      <td>4996</td>\n",
       "    </tr>\n",
       "    <tr>\n",
       "      <th>4997</th>\n",
       "      <td>92.763945</td>\n",
       "      <td>116.880953</td>\n",
       "      <td>4997</td>\n",
       "    </tr>\n",
       "    <tr>\n",
       "      <th>4998</th>\n",
       "      <td>92.763497</td>\n",
       "      <td>116.880916</td>\n",
       "      <td>4998</td>\n",
       "    </tr>\n",
       "    <tr>\n",
       "      <th>4999</th>\n",
       "      <td>92.763229</td>\n",
       "      <td>116.881617</td>\n",
       "      <td>4999</td>\n",
       "    </tr>\n",
       "  </tbody>\n",
       "</table>\n",
       "</div>"
      ],
      "text/plain": [
       "           loss    val_loss  epoch\n",
       "4995  92.764613  116.880865   4995\n",
       "4996  92.764229  116.880590   4996\n",
       "4997  92.763945  116.880953   4997\n",
       "4998  92.763497  116.880916   4998\n",
       "4999  92.763229  116.881617   4999"
      ]
     },
     "execution_count": 20,
     "metadata": {},
     "output_type": "execute_result"
    }
   ],
   "source": [
    "hist = pd.DataFrame(history.history)\n",
    "hist = hist.pow(0.5) # Power 1/2 is the same as square root\n",
    "hist['epoch'] = history.epoch\n",
    "hist.tail()"
   ]
  },
  {
   "cell_type": "code",
   "execution_count": 27,
   "metadata": {},
   "outputs": [
    {
     "data": {
      "text/plain": [
       "149.03570251788662"
      ]
     },
     "execution_count": 27,
     "metadata": {},
     "output_type": "execute_result"
    }
   ],
   "source": [
    "# Power 1/2 is the same as square root\n",
    "discharge_model.evaluate(\n",
    "    feat_test,\n",
    "    label_test, verbose=0) ** 0.5"
   ]
  },
  {
   "cell_type": "code",
   "execution_count": 21,
   "metadata": {},
   "outputs": [],
   "source": [
    "def plot_accuracy(y_train, y_test):\n",
    "  plt.scatter(y_train, label_train, label='Predictions (train)')\n",
    "  plt.scatter(y_test, label_test, label='Predictions (test)')\n",
    "  plt.plot([0, 2000], [0, 2000], color='k', label='Perfection')\n",
    "  plt.xlabel('Predicted Cycle life')\n",
    "  plt.ylabel('Actual Cycle life')\n",
    "  plt.legend()"
   ]
  },
  {
   "cell_type": "code",
   "execution_count": 22,
   "metadata": {},
   "outputs": [
    {
     "name": "stdout",
     "output_type": "stream",
     "text": [
      "2/2 [==============================] - 0s 3ms/step\n",
      "2/2 [==============================] - 0s 2ms/step\n"
     ]
    },
    {
     "data": {
      "image/png": "[encoded data removed]",
      "text/plain": [
       "<Figure size 432x288 with 1 Axes>"
      ]
     },
     "metadata": {
      "needs_background": "light"
     },
     "output_type": "display_data"
    }
   ],
   "source": [
    "plot_accuracy(discharge_model.predict(feat_train), discharge_model.predict(feat_test))"
   ]
  }
 ],
 "metadata": {
  "kernelspec": {
   "display_name": "Python 3.10.2 ('.venv': venv)",
   "language": "python",
   "name": "python3"
  },
  "language_info": {
   "codemirror_mode": {
    "name": "ipython",
    "version": 3
   },
   "file_extension": ".py",
   "mimetype": "text/x-python",
   "name": "python",
   "nbconvert_exporter": "python",
   "pygments_lexer": "ipython3",
   "version": "3.10.2"
  },
  "orig_nbformat": 4,
  "vscode": {
   "interpreter": {
    "hash": "28bd94140b22442a5e361fe5f585021fa619f223c95f307eda248247a2d6f02a"
   }
  }
 },
 "nbformat": 4,
 "nbformat_minor": 2
}
