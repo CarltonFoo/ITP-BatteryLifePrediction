{
 "cells": [
  {
   "cell_type": "code",
   "execution_count": null,
   "metadata": {},
   "outputs": [],
   "source": [
    "%pip install numpy pandas matplotlib scikit-learn h5py"
   ]
  },
  {
   "cell_type": "code",
   "execution_count": null,
   "metadata": {},
   "outputs": [],
   "source": [
    "# import h5py\n",
    "import scipy.io\n",
    "import scipy.stats\n",
    "import sklearn.metrics\n",
    "from sklearn import linear_model\n",
    "from sklearn.model_selection import train_test_split\n",
    "import matplotlib.pyplot as plt\n",
    "import numpy as np\n",
    "import pandas as pd"
   ]
  },
  {
   "cell_type": "markdown",
   "metadata": {},
   "source": [
    "### Load data"
   ]
  },
  {
   "cell_type": "code",
   "execution_count": null,
   "metadata": {},
   "outputs": [],
   "source": [
    "featFileName = \"../data/features_combined.csv\"\n",
    "batch_pd = pd.read_csv(featFileName, index_col=False)\n",
    "batch_pd"
   ]
  },
  {
   "cell_type": "markdown",
   "metadata": {},
   "source": [
    "## Features"
   ]
  },
  {
   "cell_type": "code",
   "execution_count": null,
   "metadata": {},
   "outputs": [],
   "source": [
    "feat = batch_pd['QDiffLinVar'].to_numpy() # Selecting the feature to use\n",
    "bat_info = batch_pd.loc[:,'policy':'cycle_life']\n",
    "feat"
   ]
  },
  {
   "cell_type": "code",
   "execution_count": null,
   "metadata": {},
   "outputs": [],
   "source": [
    "# Plotting the feature vs the cycle life\n",
    "plt.figure(figsize=(8,8), dpi=80, facecolor='w', edgecolor='k', )\n",
    "plt.scatter(feat, bat_info[\"cycle_life\"]) \n",
    "plt.xlabel(\"QDiffLinVar\")\n",
    "plt.ylabel(\"cycle_life\")\n",
    "plt.grid(True)\n",
    "plt.show()"
   ]
  },
  {
   "cell_type": "markdown",
   "metadata": {},
   "source": [
    "## Model Building"
   ]
  },
  {
   "cell_type": "code",
   "execution_count": null,
   "metadata": {},
   "outputs": [],
   "source": [
    "# shaping the data\n",
    "feat_train = np.reshape(feat[0::2], (-1,1))\n",
    "feat_test = np.reshape(feat[1::2], (-1,1))\n",
    "label_train = bat_info[\"cycle_life\"][0::2]\n",
    "label_test = bat_info[\"cycle_life\"][1::2]\n"
   ]
  },
  {
   "cell_type": "code",
   "execution_count": null,
   "metadata": {},
   "outputs": [],
   "source": [
    "# scale data\n",
    "feat_train_scaled = scipy.stats.zscore(feat_train)\n",
    "feat_test_scaled = scipy.stats.zmap(feat_test, feat_train)"
   ]
  },
  {
   "cell_type": "markdown",
   "metadata": {},
   "source": [
    "## Training Model"
   ]
  },
  {
   "cell_type": "code",
   "execution_count": null,
   "metadata": {},
   "outputs": [],
   "source": [
    "B = linear_model.LinearRegression()\n",
    "B.fit(feat_train_scaled, label_train)"
   ]
  },
  {
   "cell_type": "markdown",
   "metadata": {},
   "source": [
    "## Predicting"
   ]
  },
  {
   "cell_type": "code",
   "execution_count": null,
   "metadata": {},
   "outputs": [],
   "source": [
    "# make predictions\n",
    "ypred_train = B.predict(feat_train_scaled)\n",
    "ypred_test = B.predict(feat_test_scaled)\n",
    "ypred_train"
   ]
  },
  {
   "cell_type": "code",
   "execution_count": null,
   "metadata": {},
   "outputs": [],
   "source": [
    "label_train.to_numpy()"
   ]
  },
  {
   "cell_type": "code",
   "execution_count": null,
   "metadata": {},
   "outputs": [],
   "source": [
    "plt.figure(\"Sk-learn basemode prediction\", figsize=(8,8), dpi=100, facecolor='w', edgecolor='k')\n",
    "plt.axes(aspect='equal')\n",
    "plt.scatter(label_train, ypred_train, label=\"train\", marker=\"o\")\n",
    "plt.scatter(label_test, ypred_test, label=\"test\", marker=\"^\")\n",
    "plt.xlabel('Predicted Cycle life')\n",
    "plt.ylabel('Actual Cycle life')\n",
    "lims = [0, 2000]\n",
    "plt.xlim(lims)\n",
    "plt.ylim(lims)\n",
    "plt.plot(lims, lims, 'k', )\n",
    "plt.legend()\n",
    "plt.savefig(\"../variance_model/figures/sk-learn-basemode-prediction.png\")\n",
    "plt.show()"
   ]
  },
  {
   "cell_type": "markdown",
   "metadata": {},
   "source": [
    "## Evaluation"
   ]
  },
  {
   "cell_type": "code",
   "execution_count": null,
   "metadata": {},
   "outputs": [],
   "source": [
    "# Printing the RMSE of the model\n",
    "print(sklearn.metrics.mean_squared_error(label_train, ypred_train, squared=False))\n",
    "print(sklearn.metrics.mean_squared_error(label_test, ypred_test, squared=False))"
   ]
  },
  {
   "cell_type": "markdown",
   "metadata": {},
   "source": [
    "### Coefficient of Determination (R-Squared)"
   ]
  },
  {
   "cell_type": "code",
   "execution_count": null,
   "metadata": {},
   "outputs": [],
   "source": [
    "print(B.score(np.reshape(feat_train_scaled, (-1, 1)), label_train))\n",
    "print(B.score(np.reshape(feat_test_scaled, (-1,1)), label_test))"
   ]
  },
  {
   "cell_type": "code",
   "execution_count": null,
   "metadata": {},
   "outputs": [],
   "source": [
    "# plt.scatter(feat_train_scaled[:,0], np.log10(label_train), label=\"train\", marker=\"o\")\n",
    "# plt.scatter(feat_test_scaled[:,0], np.log10(label_test), label=\"test\", marker=\"^\")\n",
    "# sorting_order = np.argsort(feat_train_scaled[:,0])\n",
    "# plt.plot(feat_train_scaled[:,0][sorting_order], np.log10(ypred_train[sorting_order]))\n",
    "# plt.legend()\n",
    "# plt.show()"
   ]
  }
 ],
 "metadata": {
  "kernelspec": {
   "display_name": "Python 3.9.13 64-bit",
   "language": "python",
   "name": "python3"
  },
  "language_info": {
   "codemirror_mode": {
    "name": "ipython",
    "version": 3
   },
   "file_extension": ".py",
   "mimetype": "text/x-python",
   "name": "python",
   "nbconvert_exporter": "python",
   "pygments_lexer": "ipython3",
   "version": "3.9.13"
  },
  "orig_nbformat": 4,
  "vscode": {
   "interpreter": {
    "hash": "aee8b7b246df8f9039afb4144a1f6fd8d2ca17a180786b69acc140d282b71a49"
   }
  }
 },
 "nbformat": 4,
 "nbformat_minor": 2
}
