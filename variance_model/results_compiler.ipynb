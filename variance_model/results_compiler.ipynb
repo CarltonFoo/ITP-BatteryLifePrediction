{
 "cells": [
  {
   "cell_type": "code",
   "execution_count": 1,
   "metadata": {},
   "outputs": [],
   "source": [
    "import pandas as pd"
   ]
  },
  {
   "cell_type": "markdown",
   "metadata": {},
   "source": [
    "# Compile results from multiple runs"
   ]
  },
  {
   "cell_type": "code",
   "execution_count": 2,
   "metadata": {},
   "outputs": [],
   "source": [
    "PARENT_DIR = '../variance_model/results/64u_test_run#'\n",
    "COMPILED_RESULTS_FILE_NAME = '64u_compiled_results.csv'"
   ]
  },
  {
   "cell_type": "code",
   "execution_count": 3,
   "metadata": {},
   "outputs": [],
   "source": [
    "fastcharge_basemodel_result_file = '/fastcharge_basemodel_result_RUN#'\n",
    "normalcharge_basemodel_result_file = '/normalcharge_basemodel_result_RUN#'\n",
    "normalcharge_transfermodel_result_file = '/normalcharge_transfermodel_result_RUN#'\n",
    "NUM_TEST_PERFORMED = 5\n",
    "compiled_data = { 'Test No.': [], 'models': [], 'RMSE': [], 'MAE': [], 'MSE': [] }\n",
    "\n",
    "def append_results(df, num):\n",
    "    compiled_data['models'].append(df['models'].values[0])\n",
    "    compiled_data['RMSE'].append(df['RMSE'].values[0])\n",
    "    compiled_data['MAE'].append(df['MAE'].values[0])\n",
    "    compiled_data['MSE'].append(df['MSE'].values[0])\n",
    "    compiled_data['Test No.'].append(num)\n",
    "\n",
    "def compile_data():\n",
    "    # read all the files and store RMSE value of the models into a dictionary\n",
    "    for i in range(1, NUM_TEST_PERFORMED + 1):\n",
    "        fc_basemodel_res_fp = PARENT_DIR + str(i)  + fastcharge_basemodel_result_file + str(i) + '.csv'\n",
    "        nc_basemodel_res_fp = PARENT_DIR + str(i)  + normalcharge_basemodel_result_file + str(i) + '.csv'\n",
    "        nc_transfermodel_res_fp = PARENT_DIR + str(i)  + normalcharge_transfermodel_result_file + str(i) + '.csv'\n",
    "\n",
    "        fc_basemodel_res = pd.read_csv(fc_basemodel_res_fp)\n",
    "        nc_basemodel_res = pd.read_csv(nc_basemodel_res_fp)\n",
    "        nc_transfermodel_res = pd.read_csv(nc_transfermodel_res_fp)\n",
    "\n",
    "        fc_basemodel_res.rename(columns={'Unnamed: 0': 'models'}, inplace=True)\n",
    "        nc_basemodel_res.rename(columns={'Unnamed: 0': 'models'}, inplace=True)\n",
    "        nc_transfermodel_res.rename(columns={'Unnamed: 0': 'models'}, inplace=True)\n",
    "\n",
    "        append_results(fc_basemodel_res, i)\n",
    "        append_results(nc_basemodel_res, i)\n",
    "        append_results(nc_transfermodel_res, i)\n",
    "\n",
    "    # convert the dictionary to dataframe\n",
    "    compiled_data = pd.DataFrame(compiled_data)\n",
    "\n",
    "    #sort by models\n",
    "    compiled_data = compiled_data.sort_values(by=['models'])\n",
    "\n",
    "    #average the results for variance_fastcharge_basemodel\n",
    "    compiled_data['RMSE_avg'] = compiled_data['RMSE'].groupby(compiled_data['models']).transform('mean')\n",
    "    compiled_data['MAE_avg'] = compiled_data['MAE'].groupby(compiled_data['models']).transform('mean')\n",
    "    compiled_data['MSE_avg'] = compiled_data['MSE'].groupby(compiled_data['models']).transform('mean')\n",
    "\n",
    "    # save to csv file without the index\n",
    "    compiled_data.to_csv('../variance_model/results/' + COMPILED_RESULTS_FILE_NAME, index=False)    "
   ]
  },
  {
   "cell_type": "code",
   "execution_count": 70,
   "metadata": {},
   "outputs": [],
   "source": [
    "def collate_data():\n",
    "    node64 = pd.read_csv('../variance_model/results/64u_compiled_results.csv')\n",
    "    node16 = pd.read_csv('../variance_model/results/16u_compiled_results.csv')\n",
    "    node1 = pd.read_csv('../variance_model/results/compiled_results.csv')\n",
    "\n",
    "    node64.iloc[[0,5,10],[1]] = node64.iloc[[0,5,10],[1]] + '_64u'\n",
    "    node16.iloc[[0,5,10],[1]] = node16.iloc[[0,5,10],[1]] + '_16u'\n",
    "    node1.iloc[[0,5,10],[1]] = node1.iloc[[0,5,10],[1]] + '_1u'\n",
    "\n",
    "    x= node64.iloc[[0, 5, 10], [1,5,6,7]]\n",
    "    y= node16.iloc[[0, 5, 10], [1,5,6,7]]\n",
    "    z= node1.iloc[[0, 5, 10], [1,5,6,7]]\n",
    "\n",
    "    res = pd.concat([x, y, z], axis=0)\n",
    "    res.sort_index(inplace=True)\n",
    "    res.to_csv('../variance_model/results/collated_results.csv', index=False)\n"
   ]
  },
  {
   "cell_type": "code",
   "execution_count": 72,
   "metadata": {},
   "outputs": [],
   "source": [
    "def main():\n",
    "    # compile_data()\n",
    "    collate_data()\n",
    "\n",
    "main()"
   ]
  }
 ],
 "metadata": {
  "kernelspec": {
   "display_name": "Python 3.9.13 ('.venv': venv)",
   "language": "python",
   "name": "python3"
  },
  "language_info": {
   "codemirror_mode": {
    "name": "ipython",
    "version": 3
   },
   "file_extension": ".py",
   "mimetype": "text/x-python",
   "name": "python",
   "nbconvert_exporter": "python",
   "pygments_lexer": "ipython3",
   "version": "3.9.13"
  },
  "orig_nbformat": 4,
  "vscode": {
   "interpreter": {
    "hash": "fa8930a7197b489e49b22ce0be0acfdea3c455a79a3fdaa498eaf8f0b77d2696"
   }
  }
 },
 "nbformat": 4,
 "nbformat_minor": 2
}
