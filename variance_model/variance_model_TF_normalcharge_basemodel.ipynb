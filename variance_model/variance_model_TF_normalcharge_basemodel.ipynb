{
 "cells": [
  {
   "cell_type": "code",
   "execution_count": null,
   "metadata": {},
   "outputs": [],
   "source": [
    "import os\n",
    "# os.add_dll_directory(\"C:/Program Files/NVIDIA GPU Computing Toolkit/CUDA/v11.7/bin\") // path to nvidia dlls, must have CUDA drivers installed\n",
    "import tensorflow as tf\n",
    "import numpy as np\n",
    "import matplotlib.pyplot as plt\n",
    "import pandas as pd\n",
    "import seaborn as sns\n",
    "\n",
    "from tensorflow import keras\n",
    "from sklearn.model_selection import train_test_split\n",
    "from sklearn.model_selection import KFold\n",
    "\n",
    "from keras.models import Sequential\n",
    "from keras.layers import Dense\n",
    "from tensorflow import keras\n",
    "from tensorflow.keras import layers\n",
    "from tensorflow.keras.optimizers import Adam\n",
    "from tensorflow.keras import mixed_precision"
   ]
  },
  {
   "cell_type": "markdown",
   "metadata": {},
   "source": [
    "### Loading Data"
   ]
  },
  {
   "cell_type": "code",
   "execution_count": null,
   "metadata": {},
   "outputs": [],
   "source": [
    "fp = \"../data/features_combined.csv\"\n",
    "batch_pd = pd.read_csv(fp, index_col=False)\n",
    "dataset = batch_pd.copy()\n",
    "dataset.sort_values(by=['policy'], ascending=True, inplace=True)\n",
    "\n",
    "# dataset\n",
    "dataset.isna().sum()\n",
    "dataset = dataset.dropna().drop(columns=['policy', 'barcode'])"
   ]
  },
  {
   "cell_type": "code",
   "execution_count": null,
   "metadata": {},
   "outputs": [],
   "source": [
    "## Global Model Config\n",
    "EPOCHS = 2500\n",
    "UNITS = 1\n",
    "LEARNING_RATE = 0.01\n",
    "CALLBACK = tf.keras.callbacks.EarlyStopping(monitor='mae', patience=15, min_delta=0.01)"
   ]
  },
  {
   "cell_type": "markdown",
   "metadata": {},
   "source": [
    "## Data split\n",
    "Split by policy fast charge first(5C - 8C), and then by policy slow charge (1C - 4C)\n"
   ]
  },
  {
   "cell_type": "code",
   "execution_count": null,
   "metadata": {},
   "outputs": [],
   "source": [
    "normal_charge_dataset = dataset.iloc[0:29, :] # 29 data points\n",
    "print(normal_charge_dataset.shape)"
   ]
  },
  {
   "cell_type": "markdown",
   "metadata": {},
   "source": [
    "## Fast-Charge Test-Train split\n",
    "Selecting alternate batteries for training and testing"
   ]
  },
  {
   "cell_type": "code",
   "execution_count": null,
   "metadata": {},
   "outputs": [],
   "source": [
    "normal_charge_train_ds = normal_charge_dataset.iloc[0::2, :]\n",
    "normal_charge_test_ds = normal_charge_dataset.iloc[1::2, :]\n",
    "\n",
    "normalcharge_train_features = normal_charge_train_ds.copy()\n",
    "normalcharge_test_features = normal_charge_test_ds.copy()\n",
    "\n",
    "normal_train_labels = normalcharge_train_features.pop('cycle_life')\n",
    "normal_test_labels = normalcharge_test_features.pop('cycle_life')"
   ]
  },
  {
   "cell_type": "markdown",
   "metadata": {},
   "source": [
    "# Linear Regress\n",
    "### Layering and Build Model"
   ]
  },
  {
   "cell_type": "code",
   "execution_count": null,
   "metadata": {},
   "outputs": [],
   "source": [
    "# Normalize layer\n",
    "QDiffLinVar = np.array(normalcharge_train_features['QDiffLinVar'])\n",
    "QDiffLinVar_normalizer = layers.Normalization(input_shape=[1,], axis=None)\n",
    "QDiffLinVar_normalizer.adapt(QDiffLinVar)\n",
    "\n",
    "variance_model_normal_charge_traditional = tf.keras.Sequential([\n",
    "    QDiffLinVar_normalizer,\n",
    "    layers.Dense(UNITS, input_dim=1, activation='relu'),\n",
    "    layers.Dense(1, activation='linear', dtype='float32', name='predictions')\n",
    "])\n",
    "variance_model_normal_charge_traditional.compile(\n",
    "    optimizer=tf.keras.optimizers.Adam(learning_rate=LEARNING_RATE),\n",
    "    loss=tf.keras.losses.MeanSquaredError(),\n",
    "    metrics=['mae']\n",
    "    )\n"
   ]
  },
  {
   "cell_type": "markdown",
   "metadata": {},
   "source": [
    "### Train the Model"
   ]
  },
  {
   "cell_type": "code",
   "execution_count": null,
   "metadata": {},
   "outputs": [],
   "source": [
    "%%time\n",
    "history_traditional = variance_model_normal_charge_traditional.fit(\n",
    "    normalcharge_train_features['QDiffLinVar'],\n",
    "    normal_train_labels,\n",
    "    epochs=EPOCHS,\n",
    "    verbose=2,\n",
    "    # callbacks=[CALLBACK],\n",
    "    validation_data=(normalcharge_test_features['QDiffLinVar'], normal_test_labels))"
   ]
  },
  {
   "cell_type": "markdown",
   "metadata": {},
   "source": [
    "### Plot loss graph and Evaluate"
   ]
  },
  {
   "cell_type": "code",
   "execution_count": null,
   "metadata": {},
   "outputs": [],
   "source": [
    "def plot_loss(hist_trad, hist_tl):\n",
    "  plt.figure(\"Normal-charge base model loss\", figsize=(5,5), dpi=100, facecolor='w', edgecolor='k')\n",
    "  plt.plot(np.sqrt(hist_trad.history['loss']), label='loss_traditional')\n",
    "  plt.plot(np.sqrt(hist_trad.history['val_loss']), label='val_loss_traditional')\n",
    "  plt.ylim([0, 800])\n",
    "  plt.xlabel('Epoch')\n",
    "  plt.ylabel('Error [cycles]')\n",
    "  plt.legend()\n",
    "  plt.grid(True)\n",
    "  plt.title('Normal-charge base model loss')\n",
    "\n",
    "plot_loss(history_traditional)"
   ]
  },
  {
   "cell_type": "code",
   "execution_count": null,
   "metadata": {},
   "outputs": [],
   "source": [
    "test_results = {}\n",
    "test_results['normal_charge_variance_model_traditional'] = variance_model_normal_charge_traditional.evaluate(\n",
    "    normalcharge_test_features['QDiffLinVar'],\n",
    "    normal_test_labels, verbose=1) #sqrt for mse"
   ]
  },
  {
   "cell_type": "markdown",
   "metadata": {},
   "source": [
    "### Make Predictions"
   ]
  },
  {
   "cell_type": "code",
   "execution_count": null,
   "metadata": {},
   "outputs": [],
   "source": [
    "def plot_prediction(y_train, y_test):\n",
    "  plt.figure(\"Transfer Learning vs Traditional\", figsize=(5,5), dpi=100, facecolor='w', edgecolor='k')\n",
    "  plt.axes(aspect='equal')\n",
    "  plt.scatter(y_train, normal_train_labels, label='Predictions (train)')\n",
    "  plt.scatter(y_test, normal_test_labels, label='Predictions (test)')\n",
    "  lims = [0, 2000]\n",
    "  plt.xlim(lims)\n",
    "  plt.ylim(lims)\n",
    "  plt.plot(lims, lims, 'k', )\n",
    "  plt.xlabel('Predicted Cycle life')\n",
    "  plt.ylabel('Actual Cycle life')\n",
    "  plt.legend()\n",
    "\n",
    "normal_train_prediction2 = variance_model_normal_charge_traditional.predict(normal_charge_train_ds['QDiffLinVar'])\n",
    "normal_test_prediction2 = variance_model_normal_charge_traditional.predict(normal_charge_test_ds['QDiffLinVar'])\n",
    "plot_prediction(normal_train_prediction2, normal_test_prediction2)"
   ]
  },
  {
   "cell_type": "markdown",
   "metadata": {},
   "source": [
    "### Final Results and conclusions"
   ]
  },
  {
   "cell_type": "code",
   "execution_count": null,
   "metadata": {},
   "outputs": [],
   "source": [
    "test_results['normal_charge_variance_model_traditional'][0] = test_results['normal_charge_variance_model_traditional'][0] ** 0.5\n",
    "pd.DataFrame(test_results, index=['RMSE', 'MAE']).T"
   ]
  }
 ],
 "metadata": {
  "kernelspec": {
   "display_name": "Python 3.9.13 64-bit",
   "language": "python",
   "name": "python3"
  },
  "language_info": {
   "codemirror_mode": {
    "name": "ipython",
    "version": 3
   },
   "file_extension": ".py",
   "mimetype": "text/x-python",
   "name": "python",
   "nbconvert_exporter": "python",
   "pygments_lexer": "ipython3",
   "version": "3.9.13"
  },
  "orig_nbformat": 4,
  "vscode": {
   "interpreter": {
    "hash": "aee8b7b246df8f9039afb4144a1f6fd8d2ca17a180786b69acc140d282b71a49"
   }
  }
 },
 "nbformat": 4,
 "nbformat_minor": 2
}
