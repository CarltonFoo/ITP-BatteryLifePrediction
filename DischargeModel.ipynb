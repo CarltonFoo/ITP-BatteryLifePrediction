{
 "cells": [
  {
   "cell_type": "code",
   "execution_count": 1,
   "metadata": {},
   "outputs": [
    {
     "name": "stdout",
     "output_type": "stream",
     "text": [
      "\u001b[33mDEPRECATION: Configuring installation scheme with distutils config files is deprecated and will no longer work in the near future. If you are using a Homebrew or Linuxbrew Python, please see discussion at https://github.com/Homebrew/homebrew-core/issues/76621\u001b[0m\u001b[33m\n",
      "\u001b[0mRequirement already satisfied: numpy in /usr/local/lib/python3.9/site-packages (1.21.4)\n",
      "Requirement already satisfied: pandas in /usr/local/lib/python3.9/site-packages (1.3.5)\n",
      "Requirement already satisfied: matplotlib in /usr/local/lib/python3.9/site-packages (3.5.2)\n",
      "Requirement already satisfied: scikit-learn in /usr/local/lib/python3.9/site-packages (1.1.1)\n",
      "Requirement already satisfied: h5py in /usr/local/lib/python3.9/site-packages (3.6.0)\n",
      "Requirement already satisfied: python-dateutil>=2.7.3 in /usr/local/lib/python3.9/site-packages (from pandas) (2.8.2)\n",
      "Requirement already satisfied: pytz>=2017.3 in /usr/local/lib/python3.9/site-packages (from pandas) (2021.3)\n",
      "Requirement already satisfied: fonttools>=4.22.0 in /usr/local/lib/python3.9/site-packages (from matplotlib) (4.33.3)\n",
      "Requirement already satisfied: pyparsing>=2.2.1 in /usr/local/lib/python3.9/site-packages (from matplotlib) (3.0.9)\n",
      "Requirement already satisfied: packaging>=20.0 in /usr/local/lib/python3.9/site-packages (from matplotlib) (21.3)\n",
      "Requirement already satisfied: pillow>=6.2.0 in /usr/local/lib/python3.9/site-packages (from matplotlib) (9.1.1)\n",
      "Requirement already satisfied: kiwisolver>=1.0.1 in /usr/local/lib/python3.9/site-packages (from matplotlib) (1.4.3)\n",
      "Requirement already satisfied: cycler>=0.10 in /usr/local/lib/python3.9/site-packages (from matplotlib) (0.11.0)\n",
      "Requirement already satisfied: joblib>=1.0.0 in /usr/local/lib/python3.9/site-packages (from scikit-learn) (1.1.0)\n",
      "Requirement already satisfied: scipy>=1.3.2 in /usr/local/lib/python3.9/site-packages (from scikit-learn) (1.8.1)\n",
      "Requirement already satisfied: threadpoolctl>=2.0.0 in /usr/local/lib/python3.9/site-packages (from scikit-learn) (3.1.0)\n",
      "Requirement already satisfied: six>=1.5 in /usr/local/lib/python3.9/site-packages (from python-dateutil>=2.7.3->pandas) (1.16.0)\n",
      "\u001b[33mDEPRECATION: Configuring installation scheme with distutils config files is deprecated and will no longer work in the near future. If you are using a Homebrew or Linuxbrew Python, please see discussion at https://github.com/Homebrew/homebrew-core/issues/76621\u001b[0m\u001b[33m\n",
      "\u001b[0m\u001b[33mWARNING: There was an error checking the latest version of pip.\u001b[0m\u001b[33m\n",
      "\u001b[0mNote: you may need to restart the kernel to use updated packages.\n"
     ]
    }
   ],
   "source": [
    "%pip install numpy pandas matplotlib scikit-learn h5py"
   ]
  },
  {
   "cell_type": "code",
   "execution_count": 2,
   "metadata": {},
   "outputs": [],
   "source": [
    "# import h5py\n",
    "import scipy.io\n",
    "import scipy.stats\n",
    "import sklearn.metrics\n",
    "from sklearn import linear_model\n",
    "from sklearn.model_selection import train_test_split\n",
    "import matplotlib.pyplot as plt\n",
    "import numpy as np\n",
    "import pandas as pd"
   ]
  },
  {
   "cell_type": "code",
   "execution_count": 3,
   "metadata": {},
   "outputs": [],
   "source": [
    "# matFilename = './Data/2017-05-12_batchdata_updated_struct_errorcorrect.mat'\n",
    "# f = h5py.File(matFilename)"
   ]
  },
  {
   "cell_type": "code",
   "execution_count": 4,
   "metadata": {},
   "outputs": [],
   "source": [
    "# matFilename = './Data/2017-05-12_batchdata_updated_struct_errorcorrect.mat'\n",
    "# f1 = h5py.File(matFilename)"
   ]
  },
  {
   "cell_type": "code",
   "execution_count": 5,
   "metadata": {},
   "outputs": [],
   "source": [
    "# matFilename = './Data/2017-06-30_batchdata_updated_struct_errorcorrect.mat'\n",
    "# f2 = h5py.File(matFilename)"
   ]
  },
  {
   "cell_type": "code",
   "execution_count": 6,
   "metadata": {},
   "outputs": [],
   "source": [
    "# batch = f['batch']\n",
    "# list(batch.keys())"
   ]
  },
  {
   "cell_type": "code",
   "execution_count": 7,
   "metadata": {},
   "outputs": [],
   "source": [
    "# summary = f[batch['summary'][0,0]]\n",
    "# summary.keys()"
   ]
  },
  {
   "cell_type": "code",
   "execution_count": 8,
   "metadata": {},
   "outputs": [],
   "source": [
    "# num_cells = batch['summary'].shape[0]\n",
    "# num_cells"
   ]
  },
  {
   "cell_type": "code",
   "execution_count": 10,
   "metadata": {},
   "outputs": [
    {
     "data": {
      "text/html": [
       "<div>\n",
       "<style scoped>\n",
       "    .dataframe tbody tr th:only-of-type {\n",
       "        vertical-align: middle;\n",
       "    }\n",
       "\n",
       "    .dataframe tbody tr th {\n",
       "        vertical-align: top;\n",
       "    }\n",
       "\n",
       "    .dataframe thead th {\n",
       "        text-align: right;\n",
       "    }\n",
       "</style>\n",
       "<table border=\"1\" class=\"dataframe\">\n",
       "  <thead>\n",
       "    <tr style=\"text-align: right;\">\n",
       "      <th></th>\n",
       "      <th>policy</th>\n",
       "      <th>barcode</th>\n",
       "      <th>cycle_life</th>\n",
       "      <th>QD2</th>\n",
       "      <th>QD(Max-2)</th>\n",
       "      <th>QD100</th>\n",
       "      <th>QDiffMin</th>\n",
       "      <th>QDiffMean</th>\n",
       "      <th>QDiffVar</th>\n",
       "      <th>QDiffSkew</th>\n",
       "      <th>QDiffKurtosis</th>\n",
       "      <th>QDiffStart</th>\n",
       "      <th>R3Coef</th>\n",
       "      <th>R3Intercept</th>\n",
       "      <th>R1Coef</th>\n",
       "      <th>R1Intercept</th>\n",
       "      <th>QDiffLinVar</th>\n",
       "    </tr>\n",
       "  </thead>\n",
       "  <tbody>\n",
       "    <tr>\n",
       "      <th>0</th>\n",
       "      <td>3_6C-80PER_3_6C</td>\n",
       "      <td>???</td>\n",
       "      <td>1189.0</td>\n",
       "      <td>1.070689</td>\n",
       "      <td>0.468365</td>\n",
       "      <td>1.075913</td>\n",
       "      <td>-2.072648</td>\n",
       "      <td>-2.541602</td>\n",
       "      <td>-5.014861</td>\n",
       "      <td>-0.274041</td>\n",
       "      <td>0.129790</td>\n",
       "      <td>-4.261444</td>\n",
       "      <td>-0.000210</td>\n",
       "      <td>1.091262</td>\n",
       "      <td>0.000039</td>\n",
       "      <td>1.072078</td>\n",
       "      <td>-5.013791</td>\n",
       "    </tr>\n",
       "    <tr>\n",
       "      <th>1</th>\n",
       "      <td>3_6C-80PER_3_6C</td>\n",
       "      <td>???</td>\n",
       "      <td>1178.0</td>\n",
       "      <td>1.075301</td>\n",
       "      <td>0.009288</td>\n",
       "      <td>1.080630</td>\n",
       "      <td>-1.958457</td>\n",
       "      <td>-2.387257</td>\n",
       "      <td>-5.013960</td>\n",
       "      <td>-0.367163</td>\n",
       "      <td>0.012464</td>\n",
       "      <td>-3.803325</td>\n",
       "      <td>0.000006</td>\n",
       "      <td>1.080945</td>\n",
       "      <td>-0.000041</td>\n",
       "      <td>1.084710</td>\n",
       "      <td>-5.017121</td>\n",
       "    </tr>\n",
       "    <tr>\n",
       "      <th>2</th>\n",
       "      <td>3_6C-80PER_3_6C</td>\n",
       "      <td>???</td>\n",
       "      <td>1176.0</td>\n",
       "      <td>1.079922</td>\n",
       "      <td>0.008131</td>\n",
       "      <td>1.084940</td>\n",
       "      <td>-1.764058</td>\n",
       "      <td>-2.348070</td>\n",
       "      <td>-4.737000</td>\n",
       "      <td>0.033502</td>\n",
       "      <td>-0.457627</td>\n",
       "      <td>-5.056484</td>\n",
       "      <td>0.000011</td>\n",
       "      <td>1.084826</td>\n",
       "      <td>-0.000044</td>\n",
       "      <td>1.089331</td>\n",
       "      <td>-4.734378</td>\n",
       "    </tr>\n",
       "    <tr>\n",
       "      <th>3</th>\n",
       "      <td>4C-80PER_4C</td>\n",
       "      <td>???</td>\n",
       "      <td>1225.0</td>\n",
       "      <td>1.079723</td>\n",
       "      <td>0.006530</td>\n",
       "      <td>1.084750</td>\n",
       "      <td>-1.722149</td>\n",
       "      <td>-2.127507</td>\n",
       "      <td>-4.442613</td>\n",
       "      <td>-0.357486</td>\n",
       "      <td>0.039579</td>\n",
       "      <td>-3.739833</td>\n",
       "      <td>0.000018</td>\n",
       "      <td>1.084053</td>\n",
       "      <td>-0.000003</td>\n",
       "      <td>1.085031</td>\n",
       "      <td>-4.438865</td>\n",
       "    </tr>\n",
       "    <tr>\n",
       "      <th>4</th>\n",
       "      <td>4C-80PER_4C</td>\n",
       "      <td>???</td>\n",
       "      <td>1226.0</td>\n",
       "      <td>1.078417</td>\n",
       "      <td>0.005900</td>\n",
       "      <td>1.082646</td>\n",
       "      <td>-1.855177</td>\n",
       "      <td>-2.240332</td>\n",
       "      <td>-4.647744</td>\n",
       "      <td>-0.440634</td>\n",
       "      <td>0.125101</td>\n",
       "      <td>-4.380559</td>\n",
       "      <td>0.000020</td>\n",
       "      <td>1.081850</td>\n",
       "      <td>-0.000033</td>\n",
       "      <td>1.085851</td>\n",
       "      <td>-4.642574</td>\n",
       "    </tr>\n",
       "    <tr>\n",
       "      <th>...</th>\n",
       "      <td>...</td>\n",
       "      <td>...</td>\n",
       "      <td>...</td>\n",
       "      <td>...</td>\n",
       "      <td>...</td>\n",
       "      <td>...</td>\n",
       "      <td>...</td>\n",
       "      <td>...</td>\n",
       "      <td>...</td>\n",
       "      <td>...</td>\n",
       "      <td>...</td>\n",
       "      <td>...</td>\n",
       "      <td>...</td>\n",
       "      <td>...</td>\n",
       "      <td>...</td>\n",
       "      <td>...</td>\n",
       "      <td>...</td>\n",
       "    </tr>\n",
       "    <tr>\n",
       "      <th>75</th>\n",
       "      <td>6C_31PER_4_25C</td>\n",
       "      <td>???</td>\n",
       "      <td>462.0</td>\n",
       "      <td>1.073565</td>\n",
       "      <td>0.007075</td>\n",
       "      <td>1.079078</td>\n",
       "      <td>-1.226029</td>\n",
       "      <td>-1.547619</td>\n",
       "      <td>-3.394968</td>\n",
       "      <td>-1.993884</td>\n",
       "      <td>0.134112</td>\n",
       "      <td>-4.417652</td>\n",
       "      <td>0.000013</td>\n",
       "      <td>1.078951</td>\n",
       "      <td>-0.000031</td>\n",
       "      <td>1.082138</td>\n",
       "      <td>-3.391890</td>\n",
       "    </tr>\n",
       "    <tr>\n",
       "      <th>76</th>\n",
       "      <td>6C_40PER_4C</td>\n",
       "      <td>???</td>\n",
       "      <td>457.0</td>\n",
       "      <td>1.070887</td>\n",
       "      <td>0.006366</td>\n",
       "      <td>1.076360</td>\n",
       "      <td>-1.244632</td>\n",
       "      <td>-1.577172</td>\n",
       "      <td>-3.452581</td>\n",
       "      <td>-1.389835</td>\n",
       "      <td>0.111612</td>\n",
       "      <td>-4.012170</td>\n",
       "      <td>0.000023</td>\n",
       "      <td>1.075190</td>\n",
       "      <td>-0.000017</td>\n",
       "      <td>1.078153</td>\n",
       "      <td>-3.453071</td>\n",
       "    </tr>\n",
       "    <tr>\n",
       "      <th>77</th>\n",
       "      <td>6C_4PER_4_75C</td>\n",
       "      <td>???</td>\n",
       "      <td>487.0</td>\n",
       "      <td>1.070473</td>\n",
       "      <td>0.005186</td>\n",
       "      <td>1.073041</td>\n",
       "      <td>-1.361351</td>\n",
       "      <td>-1.680775</td>\n",
       "      <td>-3.688418</td>\n",
       "      <td>-1.539699</td>\n",
       "      <td>0.113010</td>\n",
       "      <td>-4.279524</td>\n",
       "      <td>-0.000006</td>\n",
       "      <td>1.074844</td>\n",
       "      <td>-0.000079</td>\n",
       "      <td>1.080819</td>\n",
       "      <td>-3.691468</td>\n",
       "    </tr>\n",
       "    <tr>\n",
       "      <th>78</th>\n",
       "      <td>6C_52PER_3_5C</td>\n",
       "      <td>???</td>\n",
       "      <td>429.0</td>\n",
       "      <td>1.072614</td>\n",
       "      <td>0.007384</td>\n",
       "      <td>1.079520</td>\n",
       "      <td>-1.219913</td>\n",
       "      <td>-1.521692</td>\n",
       "      <td>-3.368943</td>\n",
       "      <td>-1.205534</td>\n",
       "      <td>0.132095</td>\n",
       "      <td>-4.142284</td>\n",
       "      <td>0.000030</td>\n",
       "      <td>1.077609</td>\n",
       "      <td>-0.000013</td>\n",
       "      <td>1.080783</td>\n",
       "      <td>-3.369759</td>\n",
       "    </tr>\n",
       "    <tr>\n",
       "      <th>79</th>\n",
       "      <td>6C_60PER_3C</td>\n",
       "      <td>???</td>\n",
       "      <td>713.0</td>\n",
       "      <td>1.042137</td>\n",
       "      <td>0.008113</td>\n",
       "      <td>1.047023</td>\n",
       "      <td>-1.528514</td>\n",
       "      <td>-1.921234</td>\n",
       "      <td>-4.033931</td>\n",
       "      <td>-0.566280</td>\n",
       "      <td>0.083098</td>\n",
       "      <td>-4.372719</td>\n",
       "      <td>-0.000009</td>\n",
       "      <td>1.049359</td>\n",
       "      <td>-0.000083</td>\n",
       "      <td>1.055271</td>\n",
       "      <td>-4.019013</td>\n",
       "    </tr>\n",
       "  </tbody>\n",
       "</table>\n",
       "<p>80 rows × 17 columns</p>\n",
       "</div>"
      ],
      "text/plain": [
       "             policy barcode  cycle_life       QD2  QD(Max-2)     QD100  \\\n",
       "0   3_6C-80PER_3_6C     ???      1189.0  1.070689   0.468365  1.075913   \n",
       "1   3_6C-80PER_3_6C     ???      1178.0  1.075301   0.009288  1.080630   \n",
       "2   3_6C-80PER_3_6C     ???      1176.0  1.079922   0.008131  1.084940   \n",
       "3       4C-80PER_4C     ???      1225.0  1.079723   0.006530  1.084750   \n",
       "4       4C-80PER_4C     ???      1226.0  1.078417   0.005900  1.082646   \n",
       "..              ...     ...         ...       ...        ...       ...   \n",
       "75   6C_31PER_4_25C     ???       462.0  1.073565   0.007075  1.079078   \n",
       "76      6C_40PER_4C     ???       457.0  1.070887   0.006366  1.076360   \n",
       "77    6C_4PER_4_75C     ???       487.0  1.070473   0.005186  1.073041   \n",
       "78    6C_52PER_3_5C     ???       429.0  1.072614   0.007384  1.079520   \n",
       "79      6C_60PER_3C     ???       713.0  1.042137   0.008113  1.047023   \n",
       "\n",
       "    QDiffMin  QDiffMean  QDiffVar  QDiffSkew  QDiffKurtosis  QDiffStart  \\\n",
       "0  -2.072648  -2.541602 -5.014861  -0.274041       0.129790   -4.261444   \n",
       "1  -1.958457  -2.387257 -5.013960  -0.367163       0.012464   -3.803325   \n",
       "2  -1.764058  -2.348070 -4.737000   0.033502      -0.457627   -5.056484   \n",
       "3  -1.722149  -2.127507 -4.442613  -0.357486       0.039579   -3.739833   \n",
       "4  -1.855177  -2.240332 -4.647744  -0.440634       0.125101   -4.380559   \n",
       "..       ...        ...       ...        ...            ...         ...   \n",
       "75 -1.226029  -1.547619 -3.394968  -1.993884       0.134112   -4.417652   \n",
       "76 -1.244632  -1.577172 -3.452581  -1.389835       0.111612   -4.012170   \n",
       "77 -1.361351  -1.680775 -3.688418  -1.539699       0.113010   -4.279524   \n",
       "78 -1.219913  -1.521692 -3.368943  -1.205534       0.132095   -4.142284   \n",
       "79 -1.528514  -1.921234 -4.033931  -0.566280       0.083098   -4.372719   \n",
       "\n",
       "      R3Coef  R3Intercept    R1Coef  R1Intercept  QDiffLinVar  \n",
       "0  -0.000210     1.091262  0.000039     1.072078    -5.013791  \n",
       "1   0.000006     1.080945 -0.000041     1.084710    -5.017121  \n",
       "2   0.000011     1.084826 -0.000044     1.089331    -4.734378  \n",
       "3   0.000018     1.084053 -0.000003     1.085031    -4.438865  \n",
       "4   0.000020     1.081850 -0.000033     1.085851    -4.642574  \n",
       "..       ...          ...       ...          ...          ...  \n",
       "75  0.000013     1.078951 -0.000031     1.082138    -3.391890  \n",
       "76  0.000023     1.075190 -0.000017     1.078153    -3.453071  \n",
       "77 -0.000006     1.074844 -0.000079     1.080819    -3.691468  \n",
       "78  0.000030     1.077609 -0.000013     1.080783    -3.369759  \n",
       "79 -0.000009     1.049359 -0.000083     1.055271    -4.019013  \n",
       "\n",
       "[80 rows x 17 columns]"
      ]
     },
     "execution_count": 10,
     "metadata": {},
     "output_type": "execute_result"
    }
   ],
   "source": [
    "featFileName = \"/Users/guancong/Desktop/sch/3110_ITP/BatteryLifeTimeML/Data/features_combined.csv\"\n",
    "batch_pd = pd.read_csv(featFileName, index_col=False)\n",
    "batch_pd"
   ]
  },
  {
   "cell_type": "code",
   "execution_count": 11,
   "metadata": {},
   "outputs": [
    {
     "data": {
      "text/plain": [
       "array([[ 1.07068920e+00,  4.68365200e-01,  1.07591260e+00, ...,\n",
       "         1.09126183e+00,  3.90283333e-05,  1.07207769e+00],\n",
       "       [ 1.07530120e+00,  9.28830000e-03,  1.08062970e+00, ...,\n",
       "         1.08094533e+00, -4.06916667e-05,  1.08471002e+00],\n",
       "       [ 1.07992230e+00,  8.13120000e-03,  1.08494040e+00, ...,\n",
       "         1.08482585e+00, -4.38450000e-05,  1.08933135e+00],\n",
       "       ...,\n",
       "       [ 1.07047260e+00,  5.18560000e-03,  1.07304080e+00, ...,\n",
       "         1.07484368e+00, -7.90550000e-05,  1.08081930e+00],\n",
       "       [ 1.07261380e+00,  7.38420000e-03,  1.07951970e+00, ...,\n",
       "         1.07760921e+00, -1.25166667e-05,  1.08078345e+00],\n",
       "       [ 1.04213750e+00,  8.11270000e-03,  1.04702290e+00, ...,\n",
       "         1.04935858e+00, -8.31183333e-05,  1.05527146e+00]])"
      ]
     },
     "execution_count": 11,
     "metadata": {},
     "output_type": "execute_result"
    }
   ],
   "source": [
    "feat = batch_pd.drop(['policy','barcode','cycle_life','QDiffLinVar'], axis=1).to_numpy()\n",
    "feat"
   ]
  },
  {
   "cell_type": "code",
   "execution_count": 12,
   "metadata": {},
   "outputs": [],
   "source": [
    "bat_info = batch_pd.loc[:,'policy':'cycle_life']"
   ]
  },
  {
   "cell_type": "markdown",
   "metadata": {},
   "source": [
    "## Features"
   ]
  },
  {
   "cell_type": "code",
   "execution_count": 13,
   "metadata": {},
   "outputs": [],
   "source": [
    "# bat_info = pd.DataFrame(\n",
    "#     [\n",
    "#         [str(row), str(row), '???', '???', int(f[batch['cycle_life'][row,0]][0,0])]\n",
    "#         for row in range(num_cells)\n",
    "#     ],\n",
    "#     columns=('battery_id','channel_id','policy','policy_readable','cycle_life'))\n",
    "# feat = np.zeros([num_cells,13], dtype=np.float32)\n",
    "# for i in range(num_cells):\n",
    "#     summary = f[batch['summary'][i,0]]\n",
    "#     # capacity features\n",
    "#     feat[i,0] = summary['QDischarge'][0,1]\n",
    "#     feat[i,1] = max(\n",
    "#         summary['QDischarge'][0,0:99]\n",
    "#     ) - feat[i,0]\n",
    "#     # quoted: \"fix data issue\"\n",
    "#     feat[1,1] = 0.0064\n",
    "#     feat[i,2] = summary['QDischarge'][0,99]\n",
    "\n",
    "#     # Q features\n",
    "#     cycles = f[batch['cycles'][i,0]]\n",
    "\n",
    "#     Q10 = np.hstack((f[cycles['Qdlin'][9,0]]))\n",
    "#     Q100 = np.hstack((f[cycles['Qdlin'][99,0]]))\n",
    "#     Qdiff = Q100 - Q10\n",
    "\n",
    "#     feat[i,3] = np.log10(np.abs(np.min(Qdiff)))\n",
    "#     feat[i,4] = np.log10(np.abs(np.mean(Qdiff)))\n",
    "#     feat[i,5] = np.log10(np.abs(np.var(Qdiff)))\n",
    "#     feat[i,6] = np.log10(np.abs(scipy.stats.skew(Qdiff)))\n",
    "#     feat[i,7] = np.log10(np.abs(scipy.stats.kurtosis(Qdiff)))\n",
    "#     feat[i,8] = np.log10(np.abs(Qdiff[0]))\n",
    "\n",
    "#     # https://stackoverflow.com/questions/46779605/in-the-linearregression-method-in-sklearn-what-exactly-is-the-fit-intercept-par\n",
    "#     R3 = linear_model.LinearRegression(fit_intercept=True)\n",
    "#     R3.fit(\n",
    "#         np.arange(2,100).reshape(-1,1),\n",
    "#         summary['QDischarge'][0,1:99]\n",
    "#     )\n",
    "#     feat[i,9] = R3.coef_[0]\n",
    "#     feat[i,10] = R3.intercept_\n",
    "\n",
    "#     R1 = linear_model.LinearRegression(fit_intercept=True)\n",
    "#     R1.fit(\n",
    "#         np.arange(91,100).reshape(-1,1),\n",
    "#         summary['QDischarge'][0,90:99]\n",
    "#     )\n",
    "#     feat[i,11] = R1.coef_[0]\n",
    "#     feat[i,12] = R1.intercept_\n"
   ]
  },
  {
   "cell_type": "code",
   "execution_count": 14,
   "metadata": {},
   "outputs": [],
   "source": [
    "# quoted: \"data fix\"\n",
    "feat[0,9] = 1.692e-5;\n",
    "feat[0,10] = 1.0750;\n",
    "\n",
    "feat[14,1] = 0.00397;\n",
    "feat[14,9] = -4.8296e-5;\n",
    "feat[14,10] = 1.0705;"
   ]
  },
  {
   "cell_type": "code",
   "execution_count": 15,
   "metadata": {},
   "outputs": [
    {
     "data": {
      "image/png": "[encoded data removed]",
      "text/plain": [
       "<Figure size 432x288 with 13 Axes>"
      ]
     },
     "metadata": {
      "needs_background": "light"
     },
     "output_type": "display_data"
    }
   ],
   "source": [
    "for i in range(feat.shape[1]):\n",
    "    plt.subplot(4, 6, i+1)\n",
    "    plt.scatter(feat[:,i], bat_info[\"cycle_life\"])\n",
    "\n",
    "plt.show()"
   ]
  },
  {
   "cell_type": "markdown",
   "metadata": {},
   "source": [
    "## Model Building"
   ]
  },
  {
   "cell_type": "code",
   "execution_count": 56,
   "metadata": {},
   "outputs": [],
   "source": [
    "fast_charge_indices = bat_info['policy'].str.match(\"^[5-8].*C\")\n",
    "slow_charge_feat = feat[~fast_charge_indices]\n",
    "slow_charge_label = bat_info[\"cycle_life\"][~fast_charge_indices]\n",
    "fast_charge_feat = feat[fast_charge_indices]\n",
    "fast_charge_label = bat_info[\"cycle_life\"][fast_charge_indices]"
   ]
  },
  {
   "cell_type": "code",
   "execution_count": 57,
   "metadata": {},
   "outputs": [],
   "source": [
    "# randomly partition into train and test\n",
    "# feat_train, feat_test, label_train, label_test = train_test_split(\n",
    "#     feat, bat_info[\"cycle_life\"],\n",
    "#     test_size=0.5\n",
    "#     # the paper split every other cell, resulting in 50-50 mix\n",
    "# )\n",
    "# feat_train = slow_charge_feat[0::2]\n",
    "# feat_test = slow_charge_feat[1::2]\n",
    "# label_train = slow_charge_label[0::2]\n",
    "# label_test = slow_charge_label[1::2]\n",
    "feat_train = fast_charge_feat[0::2]\n",
    "feat_test = fast_charge_feat[1::2]\n",
    "label_train = fast_charge_label[0::2]\n",
    "label_test = fast_charge_label[1::2]"
   ]
  },
  {
   "cell_type": "code",
   "execution_count": 17,
   "metadata": {},
   "outputs": [],
   "source": [
    "# scale data\n",
    "feat_train_scaled = scipy.stats.zscore(feat_train)\n",
    "feat_test_scaled = scipy.stats.zmap(feat_test, feat_train)"
   ]
  },
  {
   "cell_type": "code",
   "execution_count": 18,
   "metadata": {},
   "outputs": [
    {
     "data": {
      "text/html": [
       "<style>#sk-container-id-1 {color: black;background-color: white;}#sk-container-id-1 pre{padding: 0;}#sk-container-id-1 div.sk-toggleable {background-color: white;}#sk-container-id-1 label.sk-toggleable__label {cursor: pointer;display: block;width: 100%;margin-bottom: 0;padding: 0.3em;box-sizing: border-box;text-align: center;}#sk-container-id-1 label.sk-toggleable__label-arrow:before {content: \"▸\";float: left;margin-right: 0.25em;color: #696969;}#sk-container-id-1 label.sk-toggleable__label-arrow:hover:before {color: black;}#sk-container-id-1 div.sk-estimator:hover label.sk-toggleable__label-arrow:before {color: black;}#sk-container-id-1 div.sk-toggleable__content {max-height: 0;max-width: 0;overflow: hidden;text-align: left;background-color: #f0f8ff;}#sk-container-id-1 div.sk-toggleable__content pre {margin: 0.2em;color: black;border-radius: 0.25em;background-color: #f0f8ff;}#sk-container-id-1 input.sk-toggleable__control:checked~div.sk-toggleable__content {max-height: 200px;max-width: 100%;overflow: auto;}#sk-container-id-1 input.sk-toggleable__control:checked~label.sk-toggleable__label-arrow:before {content: \"▾\";}#sk-container-id-1 div.sk-estimator input.sk-toggleable__control:checked~label.sk-toggleable__label {background-color: #d4ebff;}#sk-container-id-1 div.sk-label input.sk-toggleable__control:checked~label.sk-toggleable__label {background-color: #d4ebff;}#sk-container-id-1 input.sk-hidden--visually {border: 0;clip: rect(1px 1px 1px 1px);clip: rect(1px, 1px, 1px, 1px);height: 1px;margin: -1px;overflow: hidden;padding: 0;position: absolute;width: 1px;}#sk-container-id-1 div.sk-estimator {font-family: monospace;background-color: #f0f8ff;border: 1px dotted black;border-radius: 0.25em;box-sizing: border-box;margin-bottom: 0.5em;}#sk-container-id-1 div.sk-estimator:hover {background-color: #d4ebff;}#sk-container-id-1 div.sk-parallel-item::after {content: \"\";width: 100%;border-bottom: 1px solid gray;flex-grow: 1;}#sk-container-id-1 div.sk-label:hover label.sk-toggleable__label {background-color: #d4ebff;}#sk-container-id-1 div.sk-serial::before {content: \"\";position: absolute;border-left: 1px solid gray;box-sizing: border-box;top: 0;bottom: 0;left: 50%;z-index: 0;}#sk-container-id-1 div.sk-serial {display: flex;flex-direction: column;align-items: center;background-color: white;padding-right: 0.2em;padding-left: 0.2em;position: relative;}#sk-container-id-1 div.sk-item {position: relative;z-index: 1;}#sk-container-id-1 div.sk-parallel {display: flex;align-items: stretch;justify-content: center;background-color: white;position: relative;}#sk-container-id-1 div.sk-item::before, #sk-container-id-1 div.sk-parallel-item::before {content: \"\";position: absolute;border-left: 1px solid gray;box-sizing: border-box;top: 0;bottom: 0;left: 50%;z-index: -1;}#sk-container-id-1 div.sk-parallel-item {display: flex;flex-direction: column;z-index: 1;position: relative;background-color: white;}#sk-container-id-1 div.sk-parallel-item:first-child::after {align-self: flex-end;width: 50%;}#sk-container-id-1 div.sk-parallel-item:last-child::after {align-self: flex-start;width: 50%;}#sk-container-id-1 div.sk-parallel-item:only-child::after {width: 0;}#sk-container-id-1 div.sk-dashed-wrapped {border: 1px dashed gray;margin: 0 0.4em 0.5em 0.4em;box-sizing: border-box;padding-bottom: 0.4em;background-color: white;}#sk-container-id-1 div.sk-label label {font-family: monospace;font-weight: bold;display: inline-block;line-height: 1.2em;}#sk-container-id-1 div.sk-label-container {text-align: center;}#sk-container-id-1 div.sk-container {/* jupyter's `normalize.less` sets `[hidden] { display: none; }` but bootstrap.min.css set `[hidden] { display: none !important; }` so we also need the `!important` here to be able to override the default hidden behavior on the sphinx rendered scikit-learn.org. See: https://github.com/scikit-learn/scikit-learn/issues/21755 */display: inline-block !important;position: relative;}#sk-container-id-1 div.sk-text-repr-fallback {display: none;}</style><div id=\"sk-container-id-1\" class=\"sk-top-container\"><div class=\"sk-text-repr-fallback\"><pre>ElasticNetCV(cv=4, l1_ratio=0.9)</pre><b>In a Jupyter environment, please rerun this cell to show the HTML representation or trust the notebook. <br />On GitHub, the HTML representation is unable to render, please try loading this page with nbviewer.org.</b></div><div class=\"sk-container\" hidden><div class=\"sk-item\"><div class=\"sk-estimator sk-toggleable\"><input class=\"sk-toggleable__control sk-hidden--visually\" id=\"sk-estimator-id-1\" type=\"checkbox\" checked><label for=\"sk-estimator-id-1\" class=\"sk-toggleable__label sk-toggleable__label-arrow\">ElasticNetCV</label><div class=\"sk-toggleable__content\"><pre>ElasticNetCV(cv=4, l1_ratio=0.9)</pre></div></div></div></div></div>"
      ],
      "text/plain": [
       "ElasticNetCV(cv=4, l1_ratio=0.9)"
      ]
     },
     "execution_count": 18,
     "metadata": {},
     "output_type": "execute_result"
    }
   ],
   "source": [
    "# train model\n",
    "# Linear Elastic Net with Four-Fold Cross-Validation, alpha = 0.9\n",
    "B = linear_model.ElasticNetCV(cv=4, l1_ratio=0.9)\n",
    "B.fit(feat_train_scaled, label_train)"
   ]
  },
  {
   "cell_type": "code",
   "execution_count": 19,
   "metadata": {},
   "outputs": [],
   "source": [
    "# make predictions\n",
    "ypred_train = B.predict(feat_train_scaled)\n",
    "ypred_test = B.predict(feat_test_scaled)"
   ]
  },
  {
   "cell_type": "markdown",
   "metadata": {},
   "source": [
    "## Evaluation"
   ]
  },
  {
   "cell_type": "code",
   "execution_count": 20,
   "metadata": {},
   "outputs": [
    {
     "name": "stdout",
     "output_type": "stream",
     "text": [
      "55.193670312434044\n",
      "85.0767877991079\n"
     ]
    }
   ],
   "source": [
    "# calculate prediction interval (incomplete)\n",
    "print(sklearn.metrics.mean_squared_error(label_train, ypred_train, squared=False))\n",
    "print(sklearn.metrics.mean_squared_error(label_test, ypred_test, squared=False))"
   ]
  },
  {
   "cell_type": "code",
   "execution_count": 21,
   "metadata": {},
   "outputs": [
    {
     "data": {
      "text/plain": [
       "0.9200042901054836"
      ]
     },
     "execution_count": 21,
     "metadata": {},
     "output_type": "execute_result"
    }
   ],
   "source": [
    "B.score(feat_train_scaled, label_train)"
   ]
  },
  {
   "cell_type": "code",
   "execution_count": 22,
   "metadata": {},
   "outputs": [
    {
     "data": {
      "text/plain": [
       "0.740798523096142"
      ]
     },
     "execution_count": 22,
     "metadata": {},
     "output_type": "execute_result"
    }
   ],
   "source": [
    "B.score(feat_test_scaled, label_test)"
   ]
  },
  {
   "cell_type": "code",
   "execution_count": 64,
   "metadata": {},
   "outputs": [
    {
     "data": {
      "image/png": "[encoded data removed]",
      "text/plain": [
       "<Figure size 432x288 with 1 Axes>"
      ]
     },
     "metadata": {
      "needs_background": "light"
     },
     "output_type": "display_data"
    }
   ],
   "source": [
    "plt.plot(np.arange(2000),np.arange(2000))\n",
    "plt.scatter(label_train, ypred_train, label=\"train\", marker=\"o\")\n",
    "plt.scatter(label_test, ypred_test, label=\"test\", marker=\"^\")\n",
    "plt.legend()\n",
    "plt.show()"
   ]
  },
  {
   "cell_type": "markdown",
   "metadata": {},
   "source": [
    "## Export model to tensorflow"
   ]
  },
  {
   "cell_type": "code",
   "execution_count": 22,
   "metadata": {},
   "outputs": [],
   "source": [
    "import tensorflow as tf"
   ]
  },
  {
   "cell_type": "code",
   "execution_count": 23,
   "metadata": {},
   "outputs": [],
   "source": [
    "# data scaler\n",
    "# normalizer = tf.keras.layers.Normalization(input_shape=[13, ], axis=None)\n",
    "# normalizer.adapt(feat_train)"
   ]
  },
  {
   "cell_type": "code",
   "execution_count": 24,
   "metadata": {},
   "outputs": [],
   "source": [
    "# print(normalizer.mean.numpy())"
   ]
  },
  {
   "cell_type": "code",
   "execution_count": 29,
   "metadata": {},
   "outputs": [
    {
     "name": "stdout",
     "output_type": "stream",
     "text": [
      "Model: \"sequential\"\n",
      "_________________________________________________________________\n",
      " Layer (type)                Output Shape              Param #   \n",
      "=================================================================\n",
      " dense (Dense)               (26, 1)                   14        \n",
      "                                                                 \n",
      "=================================================================\n",
      "Total params: 14\n",
      "Trainable params: 14\n",
      "Non-trainable params: 0\n",
      "_________________________________________________________________\n"
     ]
    }
   ],
   "source": [
    "tf_model = tf.keras.models.Sequential([\n",
    "    # normalizer,\n",
    "    tf.keras.layers.Dense(units=1)\n",
    "])\n",
    "tf_model(feat_train_scaled)\n",
    "tf_model.summary()"
   ]
  },
  {
   "cell_type": "markdown",
   "metadata": {},
   "source": [
    "Transfer learned weights from sklearn model to tensorflow model"
   ]
  },
  {
   "cell_type": "code",
   "execution_count": 65,
   "metadata": {},
   "outputs": [
    {
     "data": {
      "text/plain": [
       "<tf.Variable 'UnreadVariable' shape=(1,) dtype=float32, numpy=array([694.], dtype=float32)>"
      ]
     },
     "execution_count": 65,
     "metadata": {},
     "output_type": "execute_result"
    }
   ],
   "source": [
    "tf_model.layers[0].weights[0].assign(B.coef_.transpose().reshape(-1,1))\n",
    "tf_model.layers[0].bias.assign([B.intercept_])"
   ]
  },
  {
   "cell_type": "code",
   "execution_count": 66,
   "metadata": {},
   "outputs": [],
   "source": [
    "tf_model.compile(\n",
    "    optimizer=tf.keras.optimizers.Adam(learning_rate=0.01),\n",
    "    loss='mean_squared_error')"
   ]
  },
  {
   "cell_type": "code",
   "execution_count": 67,
   "metadata": {},
   "outputs": [
    {
     "data": {
      "text/plain": [
       "55.1936709106556"
      ]
     },
     "execution_count": 67,
     "metadata": {},
     "output_type": "execute_result"
    }
   ],
   "source": [
    "tf_model.evaluate(\n",
    "    feat_train_scaled,\n",
    "    label_train,\n",
    "    verbose=0\n",
    ") ** 0.5"
   ]
  },
  {
   "cell_type": "code",
   "execution_count": 68,
   "metadata": {},
   "outputs": [
    {
     "data": {
      "text/plain": [
       "85.07678057936842"
      ]
     },
     "execution_count": 68,
     "metadata": {},
     "output_type": "execute_result"
    }
   ],
   "source": [
    "tf_model.evaluate(\n",
    "    feat_test_scaled,\n",
    "    label_test,\n",
    "    verbose=0\n",
    ") ** 0.5"
   ]
  },
  {
   "cell_type": "code",
   "execution_count": 71,
   "metadata": {},
   "outputs": [
    {
     "data": {
      "text/plain": [
       "567.580748660488"
      ]
     },
     "execution_count": 71,
     "metadata": {},
     "output_type": "execute_result"
    }
   ],
   "source": [
    "tf_model.evaluate(\n",
    "    feat[~fast_charge_indices],\n",
    "    bat_info[\"cycle_life\"][~fast_charge_indices],\n",
    "    verbose=False\n",
    ") ** 0.5"
   ]
  },
  {
   "cell_type": "code",
   "execution_count": 72,
   "metadata": {},
   "outputs": [
    {
     "name": "stdout",
     "output_type": "stream",
     "text": [
      "INFO:tensorflow:Assets written to: ./Data/DischargeModelTF\\assets\n"
     ]
    }
   ],
   "source": [
    "tf_model.save('./Data/DischargeModelTF')"
   ]
  }
 ],
 "metadata": {
  "kernelspec": {
   "display_name": "Python 3.9.13 64-bit",
   "language": "python",
   "name": "python3"
  },
  "language_info": {
   "codemirror_mode": {
    "name": "ipython",
    "version": 3
   },
   "file_extension": ".py",
   "mimetype": "text/x-python",
   "name": "python",
   "nbconvert_exporter": "python",
   "pygments_lexer": "ipython3",
   "version": "3.9.13"
  },
  "orig_nbformat": 4,
  "vscode": {
   "interpreter": {
    "hash": "aee8b7b246df8f9039afb4144a1f6fd8d2ca17a180786b69acc140d282b71a49"
   }
  }
 },
 "nbformat": 4,
 "nbformat_minor": 2
}
