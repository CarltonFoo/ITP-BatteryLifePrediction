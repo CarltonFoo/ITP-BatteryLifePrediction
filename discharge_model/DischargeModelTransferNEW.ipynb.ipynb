{
 "cells": [
  {
   "cell_type": "code",
   "execution_count": 1,
   "metadata": {},
   "outputs": [],
   "source": [
    "import matplotlib.pyplot as plt\n",
    "import numpy as np\n",
    "import pandas as pd\n",
    "# import seaborn as sns\n",
    "import scipy\n",
    "import scipy.stats\n",
    "\n",
    "# Make NumPy printouts easier to read.\n",
    "np.set_printoptions(precision=3, suppress=True)"
   ]
  },
  {
   "cell_type": "code",
   "execution_count": 2,
   "metadata": {},
   "outputs": [
    {
     "name": "stdout",
     "output_type": "stream",
     "text": [
      "2.9.1\n"
     ]
    }
   ],
   "source": [
    "import tensorflow as tf\n",
    "\n",
    "from tensorflow import keras\n",
    "from tensorflow.keras import layers\n",
    "\n",
    "print(tf.__version__)"
   ]
  },
  {
   "cell_type": "code",
   "execution_count": 3,
   "metadata": {},
   "outputs": [],
   "source": [
    "from sklearn import linear_model\n",
    "import sklearn.metrics"
   ]
  },
  {
   "cell_type": "code",
   "execution_count": 4,
   "metadata": {},
   "outputs": [],
   "source": [
    "import Training"
   ]
  },
  {
   "cell_type": "markdown",
   "metadata": {},
   "source": [
    "`N_CPUS` is the number of CPU cores to use for training. **Do not use more than half your physically installed cores.** Tensorflow appears to struggle with some race conditions if there are too many contesting threads; it doesn't crash and it doesn't skew the results, but it does complain of \"excessive graph retracing\"."
   ]
  },
  {
   "cell_type": "code",
   "execution_count": 5,
   "metadata": {},
   "outputs": [],
   "source": [
    "N_CPUS = 2\n",
    "iterations = 10"
   ]
  },
  {
   "cell_type": "code",
   "execution_count": 6,
   "metadata": {},
   "outputs": [],
   "source": [
    "tf.config.set_logical_device_configuration(\n",
    "    tf.config.list_physical_devices('CPU')[0],\n",
    "    [tf.config.LogicalDeviceConfiguration() for n in range(N_CPUS)]\n",
    ")"
   ]
  },
  {
   "cell_type": "code",
   "execution_count": 7,
   "metadata": {},
   "outputs": [],
   "source": [
    "featFileName = \"../data/features_combined.csv\"\n",
    "batch_pd = pd.read_csv(featFileName, index_col=False)"
   ]
  },
  {
   "cell_type": "code",
   "execution_count": 8,
   "metadata": {},
   "outputs": [
    {
     "data": {
      "text/html": [
       "<div>\n",
       "<style scoped>\n",
       "    .dataframe tbody tr th:only-of-type {\n",
       "        vertical-align: middle;\n",
       "    }\n",
       "\n",
       "    .dataframe tbody tr th {\n",
       "        vertical-align: top;\n",
       "    }\n",
       "\n",
       "    .dataframe thead th {\n",
       "        text-align: right;\n",
       "    }\n",
       "</style>\n",
       "<table border=\"1\" class=\"dataframe\">\n",
       "  <thead>\n",
       "    <tr style=\"text-align: right;\">\n",
       "      <th></th>\n",
       "      <th>policy</th>\n",
       "      <th>barcode</th>\n",
       "      <th>cycle_life</th>\n",
       "    </tr>\n",
       "  </thead>\n",
       "  <tbody>\n",
       "    <tr>\n",
       "      <th>0</th>\n",
       "      <td>3_6C-80PER_3_6C</td>\n",
       "      <td>???</td>\n",
       "      <td>1189.0</td>\n",
       "    </tr>\n",
       "    <tr>\n",
       "      <th>1</th>\n",
       "      <td>3_6C-80PER_3_6C</td>\n",
       "      <td>???</td>\n",
       "      <td>1178.0</td>\n",
       "    </tr>\n",
       "    <tr>\n",
       "      <th>2</th>\n",
       "      <td>3_6C-80PER_3_6C</td>\n",
       "      <td>???</td>\n",
       "      <td>1176.0</td>\n",
       "    </tr>\n",
       "    <tr>\n",
       "      <th>3</th>\n",
       "      <td>4C-80PER_4C</td>\n",
       "      <td>???</td>\n",
       "      <td>1225.0</td>\n",
       "    </tr>\n",
       "    <tr>\n",
       "      <th>4</th>\n",
       "      <td>4C-80PER_4C</td>\n",
       "      <td>???</td>\n",
       "      <td>1226.0</td>\n",
       "    </tr>\n",
       "    <tr>\n",
       "      <th>...</th>\n",
       "      <td>...</td>\n",
       "      <td>...</td>\n",
       "      <td>...</td>\n",
       "    </tr>\n",
       "    <tr>\n",
       "      <th>75</th>\n",
       "      <td>6C_31PER_4_25C</td>\n",
       "      <td>???</td>\n",
       "      <td>462.0</td>\n",
       "    </tr>\n",
       "    <tr>\n",
       "      <th>76</th>\n",
       "      <td>6C_40PER_4C</td>\n",
       "      <td>???</td>\n",
       "      <td>457.0</td>\n",
       "    </tr>\n",
       "    <tr>\n",
       "      <th>77</th>\n",
       "      <td>6C_4PER_4_75C</td>\n",
       "      <td>???</td>\n",
       "      <td>487.0</td>\n",
       "    </tr>\n",
       "    <tr>\n",
       "      <th>78</th>\n",
       "      <td>6C_52PER_3_5C</td>\n",
       "      <td>???</td>\n",
       "      <td>429.0</td>\n",
       "    </tr>\n",
       "    <tr>\n",
       "      <th>79</th>\n",
       "      <td>6C_60PER_3C</td>\n",
       "      <td>???</td>\n",
       "      <td>713.0</td>\n",
       "    </tr>\n",
       "  </tbody>\n",
       "</table>\n",
       "<p>80 rows × 3 columns</p>\n",
       "</div>"
      ],
      "text/plain": [
       "             policy barcode  cycle_life\n",
       "0   3_6C-80PER_3_6C     ???      1189.0\n",
       "1   3_6C-80PER_3_6C     ???      1178.0\n",
       "2   3_6C-80PER_3_6C     ???      1176.0\n",
       "3       4C-80PER_4C     ???      1225.0\n",
       "4       4C-80PER_4C     ???      1226.0\n",
       "..              ...     ...         ...\n",
       "75   6C_31PER_4_25C     ???       462.0\n",
       "76      6C_40PER_4C     ???       457.0\n",
       "77    6C_4PER_4_75C     ???       487.0\n",
       "78    6C_52PER_3_5C     ???       429.0\n",
       "79      6C_60PER_3C     ???       713.0\n",
       "\n",
       "[80 rows x 3 columns]"
      ]
     },
     "execution_count": 8,
     "metadata": {},
     "output_type": "execute_result"
    }
   ],
   "source": [
    "bat_info = batch_pd.loc[:,'policy':'cycle_life']\n",
    "bat_info"
   ]
  },
  {
   "cell_type": "code",
   "execution_count": 9,
   "metadata": {},
   "outputs": [
    {
     "data": {
      "text/plain": [
       "array([[ 1.071,  0.468,  1.076, ...,  1.091,  0.   ,  1.072],\n",
       "       [ 1.075,  0.009,  1.081, ...,  1.081, -0.   ,  1.085],\n",
       "       [ 1.08 ,  0.008,  1.085, ...,  1.085, -0.   ,  1.089],\n",
       "       ...,\n",
       "       [ 1.07 ,  0.005,  1.073, ...,  1.075, -0.   ,  1.081],\n",
       "       [ 1.073,  0.007,  1.08 , ...,  1.078, -0.   ,  1.081],\n",
       "       [ 1.042,  0.008,  1.047, ...,  1.049, -0.   ,  1.055]])"
      ]
     },
     "execution_count": 9,
     "metadata": {},
     "output_type": "execute_result"
    }
   ],
   "source": [
    "feat = batch_pd.drop(['policy','barcode','cycle_life','QDiffLinVar'], axis=1).to_numpy()\n",
    "feat"
   ]
  },
  {
   "cell_type": "code",
   "execution_count": 10,
   "metadata": {},
   "outputs": [],
   "source": [
    "# quoted: \"data fix\"\n",
    "feat[0,9] = 1.692e-5;\n",
    "feat[0,10] = 1.0750;\n",
    "\n",
    "feat[14,1] = 0.00397;\n",
    "feat[14,9] = -4.8296e-5;\n",
    "feat[14,10] = 1.0705;"
   ]
  },
  {
   "cell_type": "markdown",
   "metadata": {},
   "source": [
    "### Data Split\n",
    "fast-normal charging split and then train-test split"
   ]
  },
  {
   "cell_type": "code",
   "execution_count": 11,
   "metadata": {},
   "outputs": [],
   "source": [
    "fast_charge_indices = bat_info['policy'].str.match(\"^[5-8].*C\")\n",
    "slow_charge_feat = feat[~fast_charge_indices]\n",
    "slow_charge_label = bat_info[\"cycle_life\"][~fast_charge_indices]\n",
    "fast_charge_feat = feat[fast_charge_indices]\n",
    "fast_charge_label = bat_info[\"cycle_life\"][fast_charge_indices]"
   ]
  },
  {
   "cell_type": "code",
   "execution_count": 12,
   "metadata": {},
   "outputs": [],
   "source": [
    "feat_train = slow_charge_feat[0::2]\n",
    "feat_test = slow_charge_feat[1::2]\n",
    "label_train = slow_charge_label[0::2]\n",
    "label_test = slow_charge_label[1::2]"
   ]
  },
  {
   "cell_type": "code",
   "execution_count": 13,
   "metadata": {},
   "outputs": [],
   "source": [
    "# scale data\n",
    "feat_train_scaled = scipy.stats.zscore(feat_train)\n",
    "feat_test_scaled = scipy.stats.zmap(feat_test, feat_train)"
   ]
  },
  {
   "cell_type": "markdown",
   "metadata": {},
   "source": [
    "## Load Base Model\n",
    "Load the 'base' model trained on 'fast charging' data subset."
   ]
  },
  {
   "cell_type": "code",
   "execution_count": 14,
   "metadata": {},
   "outputs": [],
   "source": [
    "def load_base_model():\n",
    "    model = keras.models.load_model('../discharge_model/saved_model/DischargeModelFastTF')\n",
    "    return model"
   ]
  },
  {
   "cell_type": "code",
   "execution_count": 15,
   "metadata": {},
   "outputs": [
    {
     "name": "stdout",
     "output_type": "stream",
     "text": [
      "Model: \"sequential\"\n",
      "_________________________________________________________________\n",
      " Layer (type)                Output Shape              Param #   \n",
      "=================================================================\n",
      " dense (Dense)               (None, 1)                 14        \n",
      "                                                                 \n",
      "=================================================================\n",
      "Total params: 14\n",
      "Trainable params: 14\n",
      "Non-trainable params: 0\n",
      "_________________________________________________________________\n"
     ]
    }
   ],
   "source": [
    "discharge_model_fast = load_base_model()\n",
    "discharge_model_fast.summary()"
   ]
  },
  {
   "cell_type": "markdown",
   "metadata": {},
   "source": [
    "## Generate Base Model Predictions\n",
    "As the 14th feature"
   ]
  },
  {
   "cell_type": "code",
   "execution_count": 16,
   "metadata": {},
   "outputs": [],
   "source": [
    "feat_14_train = discharge_model_fast(feat_train_scaled)\n",
    "feat_14_test = discharge_model_fast(feat_test_scaled)"
   ]
  },
  {
   "cell_type": "code",
   "execution_count": 17,
   "metadata": {},
   "outputs": [],
   "source": [
    "feat_train_scaled = np.hstack((\n",
    "    feat_train_scaled, np.log10(np.abs(feat_14_train))\n",
    "))\n",
    "feat_test_scaled = np.hstack((\n",
    "    feat_test_scaled, np.log10(np.abs(feat_14_test))\n",
    "))"
   ]
  },
  {
   "cell_type": "code",
   "execution_count": 18,
   "metadata": {},
   "outputs": [
    {
     "data": {
      "text/plain": [
       "(26, 14)"
      ]
     },
     "execution_count": 18,
     "metadata": {},
     "output_type": "execute_result"
    }
   ],
   "source": [
    "feat_train_scaled.shape"
   ]
  },
  {
   "cell_type": "code",
   "execution_count": 19,
   "metadata": {},
   "outputs": [
    {
     "data": {
      "text/plain": [
       "array([[ 0.79 ,  0.323,  0.933, -1.406, -1.596, -1.415,  1.285, -1.397,\n",
       "        -0.706,  0.696,  0.777,  0.854,  0.693,  3.037],\n",
       "       [-0.468,  0.916, -0.209, -1.464, -1.475, -1.358,  0.885,  0.421,\n",
       "        -1.132,  0.943, -0.552,  0.669, -0.602,  3.027],\n",
       "       [ 0.601,  1.276,  0.802, -1.559, -1.352, -1.586,  0.083, -0.739,\n",
       "         0.935,  0.852,  0.612,  0.39 ,  0.77 ,  3.011],\n",
       "       [-0.971, -0.997, -1.375,  0.246,  0.323,  0.333, -0.746,  0.852,\n",
       "        -0.702, -1.332, -1.021, -1.599, -0.862,  2.853],\n",
       "       [-0.294, -1.573, -1.702,  1.651,  1.828,  1.54 ,  0.734, -3.076,\n",
       "        -3.226, -4.063, -0.309, -4.24 ,  0.147,  2.692],\n",
       "       [ 0.404, -0.653,  0.34 , -1.245, -1.114, -1.336,  0.23 , -0.703,\n",
       "         0.793, -0.074,  0.34 ,  0.67 ,  0.066,  3.036],\n",
       "       [-0.021, -0.531, -0.025, -1.311, -1.351, -1.281,  1.113, -0.552,\n",
       "         0.76 ,  0.159, -0.102,  0.43 , -0.248,  3.045],\n",
       "       [ 0.379, -1.008,  0.273, -0.555, -0.62 , -0.537,  0.909, -0.616,\n",
       "         1.   , -0.188,  0.315,  0.713, -0.049,  2.937],\n",
       "       [ 0.421, -0.748,  0.352, -0.446, -0.399, -0.471,  0.191, -0.043,\n",
       "         0.755, -0.016,  0.365,  0.31 ,  0.271,  2.907],\n",
       "       [ 2.012, -1.179,  1.704, -0.183, -0.137, -0.212, -0.018, -0.542,\n",
       "         1.316, -0.656,  2.064,  0.218,  1.963,  2.876],\n",
       "       [ 1.787, -0.757,  1.546,  0.313,  0.47 ,  0.26 , -0.535, -0.673,\n",
       "        -0.254, -0.519,  1.865,  0.052,  1.853,  2.744],\n",
       "       [-0.491, -0.267, -0.429, -0.214, -0.094, -0.191, -0.171,  0.244,\n",
       "        -0.548,  0.237, -0.597,  0.504, -0.785,  2.838],\n",
       "       [-0.064, -0.667, -0.148,  0.282,  0.117,  0.231,  0.713, -0.244,\n",
       "         1.422, -0.151, -0.135,  0.1  , -0.232,  2.751],\n",
       "       [ 0.665, -0.524,  0.646,  0.961,  0.866,  0.954,  0.29 , -0.061,\n",
       "         0.1  ,  0.042,  0.673,  0.618,  0.473,  2.454],\n",
       "       [ 0.37 , -0.38 ,  0.387, -1.435, -1.364, -1.467,  0.692, -0.531,\n",
       "        -1.294,  0.137,  0.348,  0.401,  0.264,  3.071],\n",
       "       [-0.754, -1.351, -0.945,  0.287,  0.071,  0.257,  0.717,  0.279,\n",
       "        -0.473, -0.588, -0.884,  0.207, -1.255,  2.827],\n",
       "       [ 0.893, -0.66 ,  0.753,  1.39 ,  1.41 ,  1.293,  0.02 , -0.018,\n",
       "         0.406, -0.249,  0.893,  0.272,  0.779,  2.179],\n",
       "       [-0.226,  0.895,  0.022,  0.353,  0.512,  0.431, -3.087,  1.007,\n",
       "        -0.429,  0.536, -0.131, -0.138,  0.108,  2.578],\n",
       "       [ 0.379,  0.696,  0.649,  0.162,  0.168,  0.189, -0.398,  0.936,\n",
       "         1.27 ,  0.768,  0.417,  0.412,  0.543,  2.645],\n",
       "       [-0.703,  0.185, -0.643,  0.983,  0.737,  1.024,  0.486,  1.271,\n",
       "         0.168,  0.147, -0.708, -0.491, -0.52 ,  2.46 ],\n",
       "       [-0.065,  0.903,  0.297,  0.813,  0.711,  0.875, -0.002,  1.262,\n",
       "         0.529,  1.209, -0.095,  0.264,  0.212,  2.285],\n",
       "       [ 0.317,  1.931,  0.802,  0.881,  1.006,  0.95 , -0.779,  1.367,\n",
       "         0.556,  1.113,  0.501,  0.258,  0.817,  1.919],\n",
       "       [-0.757,  1.591, -0.459,  1.202,  1.046,  1.234,  0.18 ,  1.285,\n",
       "         0.366,  0.666, -0.651,  0.234, -0.611,  1.821],\n",
       "       [-0.196,  1.046,  0.079,  1.391,  1.35 ,  1.422, -2.323,  1.047,\n",
       "        -0.689,  0.528, -0.086,  0.401, -0.123,  1.021],\n",
       "       [-0.52 , -0.197, -0.524,  0.192,  0.347,  0.169, -1.315,  0.208,\n",
       "        -0.347, -0.064, -0.54 , -0.707, -0.283,  2.755],\n",
       "       [-3.489,  1.729, -3.123, -1.289, -1.463, -1.307,  0.846, -0.983,\n",
       "        -0.578, -0.134, -3.359, -0.801, -3.386,  3.032]])"
      ]
     },
     "execution_count": 19,
     "metadata": {},
     "output_type": "execute_result"
    }
   ],
   "source": [
    "feat_train_scaled"
   ]
  },
  {
   "cell_type": "markdown",
   "metadata": {},
   "source": [
    "## Model Building\n",
    "Try three optimization algorithms to train the same model structure  \n",
    "1. SKLearn ElasticNetCV\n",
    "2. TensorFlow FTRL\n",
    "3. TensorFlow ADAM\n",
    "\n",
    "All three algorithms will be configured to use L1+L2 regularization with similar hyperparameters."
   ]
  },
  {
   "cell_type": "code",
   "execution_count": 20,
   "metadata": {},
   "outputs": [],
   "source": [
    "sklearn_transfer_model = linear_model.ElasticNetCV(cv=4, l1_ratio=0.9)"
   ]
  },
  {
   "cell_type": "code",
   "execution_count": 21,
   "metadata": {},
   "outputs": [],
   "source": [
    "def make_FTRL_transfer_model():\n",
    "    transfer_model = keras.models.Sequential([\n",
    "        layers.Dense(units=1,\n",
    "            activation=layers.LeakyReLU(alpha=0.1)),\n",
    "        layers.Lambda(lambda x: tf.constant(10.0) ** x)\n",
    "    ])\n",
    "    \n",
    "    # Initialize layer shape to match training batch size\n",
    "    transfer_model(feat_train_scaled)\n",
    "\n",
    "    transfer_model.compile(\n",
    "        optimizer=keras.optimizers.Ftrl(\n",
    "            learning_rate=0.0005,\n",
    "            # learning_rate_power=0.0,\n",
    "            l1_regularization_strength=0.9,\n",
    "            l2_regularization_strength=0.1\n",
    "        ),\n",
    "        loss='mean_squared_error')\n",
    "    \n",
    "    return transfer_model"
   ]
  },
  {
   "cell_type": "code",
   "execution_count": 22,
   "metadata": {},
   "outputs": [],
   "source": [
    "def make_ADAM_transfer_model():\n",
    "    transfer_model = keras.models.Sequential([\n",
    "        layers.Dense(units=1,\n",
    "            kernel_regularizer=keras.regularizers.L1L2(l1=0.9, l2=0.1),\n",
    "            activation=layers.LeakyReLU(alpha=0.1)),\n",
    "        layers.Lambda(lambda x: tf.constant(10.0) ** x)\n",
    "    ])\n",
    "    \n",
    "    # Initialize layer shape to match training batch size\n",
    "    transfer_model(feat_train_scaled)\n",
    "\n",
    "    transfer_model.compile(\n",
    "        optimizer=keras.optimizers.Adam(learning_rate=0.001),\n",
    "        loss='mean_squared_error')\n",
    "    \n",
    "    return transfer_model"
   ]
  },
  {
   "cell_type": "markdown",
   "metadata": {},
   "source": [
    "## Train Models\n",
    "Note: All models are using early-stopping"
   ]
  },
  {
   "cell_type": "code",
   "execution_count": 23,
   "metadata": {},
   "outputs": [],
   "source": [
    "cpus = [device.name for device in tf.config.list_logical_devices()]"
   ]
  },
  {
   "cell_type": "code",
   "execution_count": 24,
   "metadata": {},
   "outputs": [
    {
     "data": {
      "text/html": [
       "<style>#sk-container-id-1 {color: black;background-color: white;}#sk-container-id-1 pre{padding: 0;}#sk-container-id-1 div.sk-toggleable {background-color: white;}#sk-container-id-1 label.sk-toggleable__label {cursor: pointer;display: block;width: 100%;margin-bottom: 0;padding: 0.3em;box-sizing: border-box;text-align: center;}#sk-container-id-1 label.sk-toggleable__label-arrow:before {content: \"▸\";float: left;margin-right: 0.25em;color: #696969;}#sk-container-id-1 label.sk-toggleable__label-arrow:hover:before {color: black;}#sk-container-id-1 div.sk-estimator:hover label.sk-toggleable__label-arrow:before {color: black;}#sk-container-id-1 div.sk-toggleable__content {max-height: 0;max-width: 0;overflow: hidden;text-align: left;background-color: #f0f8ff;}#sk-container-id-1 div.sk-toggleable__content pre {margin: 0.2em;color: black;border-radius: 0.25em;background-color: #f0f8ff;}#sk-container-id-1 input.sk-toggleable__control:checked~div.sk-toggleable__content {max-height: 200px;max-width: 100%;overflow: auto;}#sk-container-id-1 input.sk-toggleable__control:checked~label.sk-toggleable__label-arrow:before {content: \"▾\";}#sk-container-id-1 div.sk-estimator input.sk-toggleable__control:checked~label.sk-toggleable__label {background-color: #d4ebff;}#sk-container-id-1 div.sk-label input.sk-toggleable__control:checked~label.sk-toggleable__label {background-color: #d4ebff;}#sk-container-id-1 input.sk-hidden--visually {border: 0;clip: rect(1px 1px 1px 1px);clip: rect(1px, 1px, 1px, 1px);height: 1px;margin: -1px;overflow: hidden;padding: 0;position: absolute;width: 1px;}#sk-container-id-1 div.sk-estimator {font-family: monospace;background-color: #f0f8ff;border: 1px dotted black;border-radius: 0.25em;box-sizing: border-box;margin-bottom: 0.5em;}#sk-container-id-1 div.sk-estimator:hover {background-color: #d4ebff;}#sk-container-id-1 div.sk-parallel-item::after {content: \"\";width: 100%;border-bottom: 1px solid gray;flex-grow: 1;}#sk-container-id-1 div.sk-label:hover label.sk-toggleable__label {background-color: #d4ebff;}#sk-container-id-1 div.sk-serial::before {content: \"\";position: absolute;border-left: 1px solid gray;box-sizing: border-box;top: 0;bottom: 0;left: 50%;z-index: 0;}#sk-container-id-1 div.sk-serial {display: flex;flex-direction: column;align-items: center;background-color: white;padding-right: 0.2em;padding-left: 0.2em;position: relative;}#sk-container-id-1 div.sk-item {position: relative;z-index: 1;}#sk-container-id-1 div.sk-parallel {display: flex;align-items: stretch;justify-content: center;background-color: white;position: relative;}#sk-container-id-1 div.sk-item::before, #sk-container-id-1 div.sk-parallel-item::before {content: \"\";position: absolute;border-left: 1px solid gray;box-sizing: border-box;top: 0;bottom: 0;left: 50%;z-index: -1;}#sk-container-id-1 div.sk-parallel-item {display: flex;flex-direction: column;z-index: 1;position: relative;background-color: white;}#sk-container-id-1 div.sk-parallel-item:first-child::after {align-self: flex-end;width: 50%;}#sk-container-id-1 div.sk-parallel-item:last-child::after {align-self: flex-start;width: 50%;}#sk-container-id-1 div.sk-parallel-item:only-child::after {width: 0;}#sk-container-id-1 div.sk-dashed-wrapped {border: 1px dashed gray;margin: 0 0.4em 0.5em 0.4em;box-sizing: border-box;padding-bottom: 0.4em;background-color: white;}#sk-container-id-1 div.sk-label label {font-family: monospace;font-weight: bold;display: inline-block;line-height: 1.2em;}#sk-container-id-1 div.sk-label-container {text-align: center;}#sk-container-id-1 div.sk-container {/* jupyter's `normalize.less` sets `[hidden] { display: none; }` but bootstrap.min.css set `[hidden] { display: none !important; }` so we also need the `!important` here to be able to override the default hidden behavior on the sphinx rendered scikit-learn.org. See: https://github.com/scikit-learn/scikit-learn/issues/21755 */display: inline-block !important;position: relative;}#sk-container-id-1 div.sk-text-repr-fallback {display: none;}</style><div id=\"sk-container-id-1\" class=\"sk-top-container\"><div class=\"sk-text-repr-fallback\"><pre>ElasticNetCV(cv=4, l1_ratio=0.9)</pre><b>In a Jupyter environment, please rerun this cell to show the HTML representation or trust the notebook. <br />On GitHub, the HTML representation is unable to render, please try loading this page with nbviewer.org.</b></div><div class=\"sk-container\" hidden><div class=\"sk-item\"><div class=\"sk-estimator sk-toggleable\"><input class=\"sk-toggleable__control sk-hidden--visually\" id=\"sk-estimator-id-1\" type=\"checkbox\" checked><label for=\"sk-estimator-id-1\" class=\"sk-toggleable__label sk-toggleable__label-arrow\">ElasticNetCV</label><div class=\"sk-toggleable__content\"><pre>ElasticNetCV(cv=4, l1_ratio=0.9)</pre></div></div></div></div></div>"
      ],
      "text/plain": [
       "ElasticNetCV(cv=4, l1_ratio=0.9)"
      ]
     },
     "execution_count": 24,
     "metadata": {},
     "output_type": "execute_result"
    }
   ],
   "source": [
    "sklearn_transfer_model.fit(\n",
    "    feat_train_scaled,\n",
    "    label_train\n",
    ")"
   ]
  },
  {
   "cell_type": "code",
   "execution_count": 25,
   "metadata": {},
   "outputs": [
    {
     "name": "stdout",
     "output_type": "stream",
     "text": [
      "Training on /device:CPU:0\n",
      "Training on /device:CPU:1\n",
      "Training on /device:CPU:2\n",
      "Training on /device:CPU:0\n",
      "Training on /device:CPU:1\n",
      "Training on /device:CPU:2\n",
      "Training on /device:CPU:0\n",
      "Training on /device:CPU:1\n",
      "Training on /device:CPU:2\n",
      "Training on /device:CPU:0\n"
     ]
    }
   ],
   "source": [
    "results1 = Training.multithread_train(\n",
    "    feat_train_scaled,\n",
    "    label_train,\n",
    "    feat_test_scaled,\n",
    "    label_test,\n",
    "    make_FTRL_transfer_model,\n",
    "    device_list=np.resize(cpus, 10),\n",
    "    epochs=5000,\n",
    "    num_threads=len(cpus)\n",
    ")"
   ]
  },
  {
   "cell_type": "code",
   "execution_count": 26,
   "metadata": {},
   "outputs": [
    {
     "name": "stdout",
     "output_type": "stream",
     "text": [
      "Training on /device:CPU:0\n",
      "Training on /device:CPU:1\n",
      "Training on /device:CPU:2\n",
      "Training on /device:CPU:0\n",
      "Training on /device:CPU:1\n",
      "Training on /device:CPU:2\n",
      "Training on /device:CPU:0\n",
      "Training on /device:CPU:1\n",
      "Training on /device:CPU:2\n",
      "Training on /device:CPU:0\n"
     ]
    }
   ],
   "source": [
    "results2 = Training.multithread_train(\n",
    "    feat_train_scaled,\n",
    "    label_train,\n",
    "    feat_test_scaled,\n",
    "    label_test,\n",
    "    make_ADAM_transfer_model,\n",
    "    device_list=np.resize(cpus, 10),\n",
    "    epochs=5000,\n",
    "    num_threads=len(cpus)\n",
    ")"
   ]
  },
  {
   "cell_type": "markdown",
   "metadata": {},
   "source": [
    "## Evaluate Models"
   ]
  },
  {
   "cell_type": "markdown",
   "metadata": {},
   "source": [
    "### SKLearn (Single-Run) RMSE"
   ]
  },
  {
   "cell_type": "code",
   "execution_count": 27,
   "metadata": {},
   "outputs": [
    {
     "data": {
      "text/plain": [
       "85.07705464135705"
      ]
     },
     "execution_count": 27,
     "metadata": {},
     "output_type": "execute_result"
    }
   ],
   "source": [
    "sklearn.metrics.mean_squared_error(\n",
    "    label_test,\n",
    "    sklearn_transfer_model.predict(feat_test_scaled),\n",
    "    squared=False\n",
    ")"
   ]
  },
  {
   "cell_type": "code",
   "execution_count": 28,
   "metadata": {},
   "outputs": [
    {
     "data": {
      "text/plain": [
       "37"
      ]
     },
     "execution_count": 28,
     "metadata": {},
     "output_type": "execute_result"
    }
   ],
   "source": [
    "sklearn_transfer_model.n_iter_"
   ]
  },
  {
   "cell_type": "code",
   "execution_count": 37,
   "metadata": {},
   "outputs": [
    {
     "data": {
      "text/plain": [
       "array([ 18.34 , -31.606,  10.745, -46.896, -45.905, -48.704,  17.368,\n",
       "       -19.462, -18.555, -12.947,  18.387,  23.656,   0.   ,  -0.   ])"
      ]
     },
     "execution_count": 37,
     "metadata": {},
     "output_type": "execute_result"
    }
   ],
   "source": [
    "# the transfer model appears to have dropped the data from the previous model\n",
    "sklearn_transfer_model.coef_"
   ]
  },
  {
   "cell_type": "code",
   "execution_count": 38,
   "metadata": {},
   "outputs": [
    {
     "data": {
      "text/plain": [
       "693.9999999999994"
      ]
     },
     "execution_count": 38,
     "metadata": {},
     "output_type": "execute_result"
    }
   ],
   "source": [
    "sklearn_transfer_model.intercept_"
   ]
  },
  {
   "cell_type": "markdown",
   "metadata": {},
   "source": [
    "### TensorFlow Per-Run RMSE"
   ]
  },
  {
   "cell_type": "code",
   "execution_count": 29,
   "metadata": {},
   "outputs": [],
   "source": [
    "FTRL_RMSE = pd.DataFrame(results1)\n",
    "ADAM_RMSE = pd.DataFrame(results2)"
   ]
  },
  {
   "cell_type": "code",
   "execution_count": 30,
   "metadata": {},
   "outputs": [
    {
     "data": {
      "text/html": [
       "<div>\n",
       "<style scoped>\n",
       "    .dataframe tbody tr th:only-of-type {\n",
       "        vertical-align: middle;\n",
       "    }\n",
       "\n",
       "    .dataframe tbody tr th {\n",
       "        vertical-align: top;\n",
       "    }\n",
       "\n",
       "    .dataframe thead th {\n",
       "        text-align: right;\n",
       "    }\n",
       "</style>\n",
       "<table border=\"1\" class=\"dataframe\">\n",
       "  <thead>\n",
       "    <tr style=\"text-align: right;\">\n",
       "      <th></th>\n",
       "      <th>FTRL</th>\n",
       "      <th>ADAM</th>\n",
       "    </tr>\n",
       "  </thead>\n",
       "  <tbody>\n",
       "    <tr>\n",
       "      <th>0</th>\n",
       "      <td>681.428188</td>\n",
       "      <td>681.303874</td>\n",
       "    </tr>\n",
       "    <tr>\n",
       "      <th>1</th>\n",
       "      <td>671.997094</td>\n",
       "      <td>1080.394777</td>\n",
       "    </tr>\n",
       "    <tr>\n",
       "      <th>2</th>\n",
       "      <td>582.389206</td>\n",
       "      <td>1522.578159</td>\n",
       "    </tr>\n",
       "    <tr>\n",
       "      <th>3</th>\n",
       "      <td>108906.056544</td>\n",
       "      <td>677.509963</td>\n",
       "    </tr>\n",
       "    <tr>\n",
       "      <th>4</th>\n",
       "      <td>662.230676</td>\n",
       "      <td>547.305331</td>\n",
       "    </tr>\n",
       "    <tr>\n",
       "      <th>5</th>\n",
       "      <td>669.718528</td>\n",
       "      <td>681.356299</td>\n",
       "    </tr>\n",
       "    <tr>\n",
       "      <th>6</th>\n",
       "      <td>659.696332</td>\n",
       "      <td>663.154229</td>\n",
       "    </tr>\n",
       "    <tr>\n",
       "      <th>7</th>\n",
       "      <td>682.015602</td>\n",
       "      <td>628.185830</td>\n",
       "    </tr>\n",
       "    <tr>\n",
       "      <th>8</th>\n",
       "      <td>69783.544651</td>\n",
       "      <td>623.111071</td>\n",
       "    </tr>\n",
       "    <tr>\n",
       "      <th>9</th>\n",
       "      <td>662.984398</td>\n",
       "      <td>607.766094</td>\n",
       "    </tr>\n",
       "  </tbody>\n",
       "</table>\n",
       "</div>"
      ],
      "text/plain": [
       "            FTRL         ADAM\n",
       "0     681.428188   681.303874\n",
       "1     671.997094  1080.394777\n",
       "2     582.389206  1522.578159\n",
       "3  108906.056544   677.509963\n",
       "4     662.230676   547.305331\n",
       "5     669.718528   681.356299\n",
       "6     659.696332   663.154229\n",
       "7     682.015602   628.185830\n",
       "8   69783.544651   623.111071\n",
       "9     662.984398   607.766094"
      ]
     },
     "execution_count": 30,
     "metadata": {},
     "output_type": "execute_result"
    }
   ],
   "source": [
    "all_RMSE = pd.concat([FTRL_RMSE['RMSE'], ADAM_RMSE['RMSE']], axis=1, keys=['FTRL','ADAM'])\n",
    "all_RMSE"
   ]
  },
  {
   "cell_type": "code",
   "execution_count": 31,
   "metadata": {},
   "outputs": [
    {
     "data": {
      "text/html": [
       "<div>\n",
       "<style scoped>\n",
       "    .dataframe tbody tr th:only-of-type {\n",
       "        vertical-align: middle;\n",
       "    }\n",
       "\n",
       "    .dataframe tbody tr th {\n",
       "        vertical-align: top;\n",
       "    }\n",
       "\n",
       "    .dataframe thead th {\n",
       "        text-align: right;\n",
       "    }\n",
       "</style>\n",
       "<table border=\"1\" class=\"dataframe\">\n",
       "  <thead>\n",
       "    <tr style=\"text-align: right;\">\n",
       "      <th></th>\n",
       "      <th>count</th>\n",
       "      <th>mean</th>\n",
       "      <th>std</th>\n",
       "      <th>min</th>\n",
       "      <th>max</th>\n",
       "    </tr>\n",
       "  </thead>\n",
       "  <tbody>\n",
       "    <tr>\n",
       "      <th>FTRL</th>\n",
       "      <td>10.0</td>\n",
       "      <td>18396.206122</td>\n",
       "      <td>38513.418046</td>\n",
       "      <td>582.389206</td>\n",
       "      <td>108906.056544</td>\n",
       "    </tr>\n",
       "    <tr>\n",
       "      <th>ADAM</th>\n",
       "      <td>10.0</td>\n",
       "      <td>771.266563</td>\n",
       "      <td>301.108741</td>\n",
       "      <td>547.305331</td>\n",
       "      <td>1522.578159</td>\n",
       "    </tr>\n",
       "  </tbody>\n",
       "</table>\n",
       "</div>"
      ],
      "text/plain": [
       "      count          mean           std         min            max\n",
       "FTRL   10.0  18396.206122  38513.418046  582.389206  108906.056544\n",
       "ADAM   10.0    771.266563    301.108741  547.305331    1522.578159"
      ]
     },
     "execution_count": 31,
     "metadata": {},
     "output_type": "execute_result"
    }
   ],
   "source": [
    "RMSE_stats = all_RMSE.describe().transpose().drop(['25%', '50%', '75%'], axis=1)\n",
    "RMSE_stats"
   ]
  },
  {
   "cell_type": "markdown",
   "metadata": {},
   "source": [
    "### Loss Graphs"
   ]
  },
  {
   "cell_type": "code",
   "execution_count": 32,
   "metadata": {},
   "outputs": [],
   "source": [
    "def plot_loss(history, ylims = [100, 300], ax_names={'loss': 'loss', 'val_loss': 'val_loss'}):\n",
    "    plt.plot(np.sqrt(history.history['loss']), 'b', label=ax_names['loss'])\n",
    "    plt.plot(np.sqrt(history.history['val_loss']), 'r', label=ax_names['val_loss'])\n",
    "    plt.ylim(ylims)\n",
    "    plt.xlabel('Epoch')\n",
    "    plt.ylabel('Error [cycles]')\n",
    "    plt.legend()\n",
    "    plt.grid(True)\n",
    "    # plt.show()"
   ]
  },
  {
   "cell_type": "markdown",
   "metadata": {},
   "source": [
    "Runs of all ten FTRL transfer models overlaid on the same graph"
   ]
  },
  {
   "cell_type": "code",
   "execution_count": 33,
   "metadata": {},
   "outputs": [
    {
     "data": {
      "image/png": "[encoded data removed]",
      "text/plain": [
       "<Figure size 800x500 with 1 Axes>"
      ]
     },
     "metadata": {},
     "output_type": "display_data"
    }
   ],
   "source": [
    "plt.figure('FTRLLoss', figsize=(8,5), dpi=100, facecolor='w', edgecolor='k')\n",
    "for i in range(len(FTRL_RMSE)):\n",
    "    plot_loss(FTRL_RMSE['history'][i],\n",
    "        ylims=[500,1000],\n",
    "        ax_names={\n",
    "            'loss': 'train '+str(i),\n",
    "            'val_loss': 'test '+str(i)\n",
    "        })\n",
    "plt.show()"
   ]
  },
  {
   "cell_type": "markdown",
   "metadata": {},
   "source": [
    "Runs of all ten ADAM transfer models overlaid on the same graph"
   ]
  },
  {
   "cell_type": "code",
   "execution_count": 34,
   "metadata": {},
   "outputs": [
    {
     "data": {
      "image/png": "[encoded data removed]",
      "text/plain": [
       "<Figure size 800x500 with 1 Axes>"
      ]
     },
     "metadata": {},
     "output_type": "display_data"
    }
   ],
   "source": [
    "plt.figure('ADAMLoss', figsize=(8,5), dpi=100, facecolor='w', edgecolor='k')\n",
    "for i in range(len(ADAM_RMSE)):\n",
    "    plot_loss(ADAM_RMSE['history'][i],\n",
    "        ylims=[600,1000],\n",
    "        ax_names={\n",
    "            'loss': 'train '+str(i),\n",
    "            'val_loss': 'test '+str(i)\n",
    "        })\n",
    "plt.show()"
   ]
  }
 ],
 "metadata": {
  "kernelspec": {
   "display_name": "Python 3.10.2 ('.venv': venv)",
   "language": "python",
   "name": "python3"
  },
  "language_info": {
   "codemirror_mode": {
    "name": "ipython",
    "version": 3
   },
   "file_extension": ".py",
   "mimetype": "text/x-python",
   "name": "python",
   "nbconvert_exporter": "python",
   "pygments_lexer": "ipython3",
   "version": "3.10.2"
  },
  "orig_nbformat": 4,
  "vscode": {
   "interpreter": {
    "hash": "7545cc2762a63053b48c18e6c861986b2e8c5006fcc53e099360b065939d00b8"
   }
  }
 },
 "nbformat": 4,
 "nbformat_minor": 2
}
