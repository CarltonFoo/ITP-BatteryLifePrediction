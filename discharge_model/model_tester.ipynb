{
 "cells": [
  {
   "cell_type": "code",
   "execution_count": 1,
   "metadata": {},
   "outputs": [],
   "source": [
    "import matplotlib.pyplot as plt\n",
    "import numpy as np\n",
    "import pandas as pd\n",
    "# import seaborn as sns\n",
    "import scipy\n",
    "import scipy.stats\n",
    "\n",
    "# Make NumPy printouts easier to read.\n",
    "np.set_printoptions(precision=3, suppress=True)"
   ]
  },
  {
   "cell_type": "code",
   "execution_count": 2,
   "metadata": {},
   "outputs": [
    {
     "name": "stdout",
     "output_type": "stream",
     "text": [
      "2.9.1\n"
     ]
    }
   ],
   "source": [
    "import tensorflow as tf\n",
    "\n",
    "from tensorflow import keras\n",
    "from tensorflow.keras import layers\n",
    "\n",
    "print(tf.__version__)"
   ]
  },
  {
   "cell_type": "code",
   "execution_count": 3,
   "metadata": {},
   "outputs": [],
   "source": [
    "import Training"
   ]
  },
  {
   "cell_type": "code",
   "execution_count": 4,
   "metadata": {},
   "outputs": [],
   "source": [
    "N_CPUS = 4"
   ]
  },
  {
   "cell_type": "code",
   "execution_count": 5,
   "metadata": {},
   "outputs": [],
   "source": [
    "tf.config.set_logical_device_configuration(\n",
    "    tf.config.list_physical_devices('CPU')[0],\n",
    "    [tf.config.LogicalDeviceConfiguration() for n in range(N_CPUS)]\n",
    ")"
   ]
  },
  {
   "cell_type": "markdown",
   "metadata": {},
   "source": [
    "## Load Data"
   ]
  },
  {
   "cell_type": "code",
   "execution_count": 6,
   "metadata": {},
   "outputs": [],
   "source": [
    "featFileName = \"../Data/features_combined.csv\"\n",
    "batch_pd = pd.read_csv(featFileName, index_col=False)"
   ]
  },
  {
   "cell_type": "code",
   "execution_count": 7,
   "metadata": {},
   "outputs": [
    {
     "data": {
      "text/html": [
       "<div>\n",
       "<style scoped>\n",
       "    .dataframe tbody tr th:only-of-type {\n",
       "        vertical-align: middle;\n",
       "    }\n",
       "\n",
       "    .dataframe tbody tr th {\n",
       "        vertical-align: top;\n",
       "    }\n",
       "\n",
       "    .dataframe thead th {\n",
       "        text-align: right;\n",
       "    }\n",
       "</style>\n",
       "<table border=\"1\" class=\"dataframe\">\n",
       "  <thead>\n",
       "    <tr style=\"text-align: right;\">\n",
       "      <th></th>\n",
       "      <th>policy</th>\n",
       "      <th>barcode</th>\n",
       "      <th>cycle_life</th>\n",
       "    </tr>\n",
       "  </thead>\n",
       "  <tbody>\n",
       "    <tr>\n",
       "      <th>0</th>\n",
       "      <td>3_6C-80PER_3_6C</td>\n",
       "      <td>???</td>\n",
       "      <td>1189</td>\n",
       "    </tr>\n",
       "    <tr>\n",
       "      <th>1</th>\n",
       "      <td>3_6C-80PER_3_6C</td>\n",
       "      <td>???</td>\n",
       "      <td>1178</td>\n",
       "    </tr>\n",
       "    <tr>\n",
       "      <th>2</th>\n",
       "      <td>3_6C-80PER_3_6C</td>\n",
       "      <td>???</td>\n",
       "      <td>1176</td>\n",
       "    </tr>\n",
       "    <tr>\n",
       "      <th>3</th>\n",
       "      <td>4C-80PER_4C</td>\n",
       "      <td>???</td>\n",
       "      <td>1225</td>\n",
       "    </tr>\n",
       "    <tr>\n",
       "      <th>4</th>\n",
       "      <td>4C-80PER_4C</td>\n",
       "      <td>???</td>\n",
       "      <td>1226</td>\n",
       "    </tr>\n",
       "    <tr>\n",
       "      <th>...</th>\n",
       "      <td>...</td>\n",
       "      <td>...</td>\n",
       "      <td>...</td>\n",
       "    </tr>\n",
       "    <tr>\n",
       "      <th>75</th>\n",
       "      <td>6C_31PER_4_25C</td>\n",
       "      <td>???</td>\n",
       "      <td>462</td>\n",
       "    </tr>\n",
       "    <tr>\n",
       "      <th>76</th>\n",
       "      <td>6C_40PER_4C</td>\n",
       "      <td>???</td>\n",
       "      <td>457</td>\n",
       "    </tr>\n",
       "    <tr>\n",
       "      <th>77</th>\n",
       "      <td>6C_4PER_4_75C</td>\n",
       "      <td>???</td>\n",
       "      <td>487</td>\n",
       "    </tr>\n",
       "    <tr>\n",
       "      <th>78</th>\n",
       "      <td>6C_52PER_3_5C</td>\n",
       "      <td>???</td>\n",
       "      <td>429</td>\n",
       "    </tr>\n",
       "    <tr>\n",
       "      <th>79</th>\n",
       "      <td>6C_60PER_3C</td>\n",
       "      <td>???</td>\n",
       "      <td>713</td>\n",
       "    </tr>\n",
       "  </tbody>\n",
       "</table>\n",
       "<p>80 rows × 3 columns</p>\n",
       "</div>"
      ],
      "text/plain": [
       "             policy barcode  cycle_life\n",
       "0   3_6C-80PER_3_6C     ???        1189\n",
       "1   3_6C-80PER_3_6C     ???        1178\n",
       "2   3_6C-80PER_3_6C     ???        1176\n",
       "3       4C-80PER_4C     ???        1225\n",
       "4       4C-80PER_4C     ???        1226\n",
       "..              ...     ...         ...\n",
       "75   6C_31PER_4_25C     ???         462\n",
       "76      6C_40PER_4C     ???         457\n",
       "77    6C_4PER_4_75C     ???         487\n",
       "78    6C_52PER_3_5C     ???         429\n",
       "79      6C_60PER_3C     ???         713\n",
       "\n",
       "[80 rows x 3 columns]"
      ]
     },
     "execution_count": 7,
     "metadata": {},
     "output_type": "execute_result"
    }
   ],
   "source": [
    "bat_info = batch_pd.loc[:,'policy':'cycle_life']\n",
    "bat_info"
   ]
  },
  {
   "cell_type": "code",
   "execution_count": 8,
   "metadata": {},
   "outputs": [
    {
     "data": {
      "text/plain": [
       "array([[ 1.071,  0.468,  1.076, ...,  1.091,  0.   ,  1.072],\n",
       "       [ 1.075,  0.009,  1.081, ...,  1.081, -0.   ,  1.085],\n",
       "       [ 1.08 ,  0.008,  1.085, ...,  1.085, -0.   ,  1.089],\n",
       "       ...,\n",
       "       [ 1.07 ,  0.005,  1.073, ...,  1.075, -0.   ,  1.081],\n",
       "       [ 1.073,  0.007,  1.08 , ...,  1.078, -0.   ,  1.081],\n",
       "       [ 1.042,  0.008,  1.047, ...,  1.049, -0.   ,  1.055]])"
      ]
     },
     "execution_count": 8,
     "metadata": {},
     "output_type": "execute_result"
    }
   ],
   "source": [
    "feat = batch_pd.drop(['policy','barcode','cycle_life','QDiffLinVar'], axis=1).to_numpy()\n",
    "feat"
   ]
  },
  {
   "cell_type": "code",
   "execution_count": 9,
   "metadata": {},
   "outputs": [],
   "source": [
    "# quoted: \"data fix\"\n",
    "feat[0,9] = 1.692e-5;\n",
    "feat[0,10] = 1.0750;\n",
    "\n",
    "feat[14,1] = 0.00397;\n",
    "feat[14,9] = -4.8296e-5;\n",
    "feat[14,10] = 1.0705;"
   ]
  },
  {
   "cell_type": "markdown",
   "metadata": {},
   "source": [
    "### Data Split\n",
    "fast-normal charging split and then train-test split"
   ]
  },
  {
   "cell_type": "code",
   "execution_count": 10,
   "metadata": {},
   "outputs": [],
   "source": [
    "fast_charge_indices = bat_info['policy'].str.match(\"^[5-8].*C\")\n",
    "slow_charge_feat = feat[~fast_charge_indices]\n",
    "slow_charge_label = bat_info[\"cycle_life\"][~fast_charge_indices]\n",
    "fast_charge_feat = feat[fast_charge_indices]\n",
    "fast_charge_label = bat_info[\"cycle_life\"][fast_charge_indices]"
   ]
  },
  {
   "cell_type": "code",
   "execution_count": 11,
   "metadata": {},
   "outputs": [],
   "source": [
    "feat_train = slow_charge_feat[0::2]\n",
    "feat_test = slow_charge_feat[1::2]\n",
    "label_train = slow_charge_label[0::2]\n",
    "label_test = slow_charge_label[1::2]"
   ]
  },
  {
   "cell_type": "code",
   "execution_count": 12,
   "metadata": {},
   "outputs": [],
   "source": [
    "# scale data\n",
    "feat_train_scaled = scipy.stats.zscore(feat_train)\n",
    "feat_test_scaled = scipy.stats.zmap(feat_test, feat_train)"
   ]
  },
  {
   "cell_type": "markdown",
   "metadata": {},
   "source": [
    "## Load Model\n",
    "Load the 'base' model trained on 'fast charging' data subset."
   ]
  },
  {
   "cell_type": "code",
   "execution_count": 13,
   "metadata": {},
   "outputs": [],
   "source": [
    "def load_base_model():\n",
    "    model = keras.models.load_model('../discharge_model/saved_model/DischargeModelFastTF')\n",
    "    return model"
   ]
  },
  {
   "cell_type": "code",
   "execution_count": 14,
   "metadata": {},
   "outputs": [
    {
     "name": "stdout",
     "output_type": "stream",
     "text": [
      "Model: \"sequential\"\n",
      "_________________________________________________________________\n",
      " Layer (type)                Output Shape              Param #   \n",
      "=================================================================\n",
      " dense (Dense)               (None, 1)                 14        \n",
      "                                                                 \n",
      "=================================================================\n",
      "Total params: 14\n",
      "Trainable params: 14\n",
      "Non-trainable params: 0\n",
      "_________________________________________________________________\n"
     ]
    }
   ],
   "source": [
    "discharge_model_fast = load_base_model()\n",
    "discharge_model_fast.summary()"
   ]
  },
  {
   "cell_type": "markdown",
   "metadata": {},
   "source": [
    "## Model Building"
   ]
  },
  {
   "cell_type": "markdown",
   "metadata": {},
   "source": [
    "### Transfer Learning (Layering Method)"
   ]
  },
  {
   "cell_type": "code",
   "execution_count": 15,
   "metadata": {},
   "outputs": [],
   "source": [
    "def make_layered_transfer_model():\n",
    "    base_model = load_base_model()\n",
    "    base_model.trainable = False\n",
    "\n",
    "    transfer_model = keras.models.Sequential([\n",
    "        layers.Dense(units=13,\n",
    "            kernel_initializer=keras.initializers.Identity()),\n",
    "        base_model\n",
    "    ])\n",
    "    \n",
    "    # Initialize layer shape to match training batch size\n",
    "    transfer_model(feat_train_scaled)\n",
    "\n",
    "    transfer_model.compile(\n",
    "        optimizer=keras.optimizers.Adam(learning_rate=0.001),\n",
    "        loss='mean_squared_error')\n",
    "    \n",
    "    # copy and freeze weights for single-node layer\n",
    "    # transfer_model.layers[1].set_weights(\n",
    "    #     discharge_model_fast.layers[0].get_weights()\n",
    "    # )\n",
    "    # transfer_model.layers[1].trainable = False\n",
    "    \n",
    "    return transfer_model"
   ]
  },
  {
   "cell_type": "code",
   "execution_count": 16,
   "metadata": {},
   "outputs": [
    {
     "name": "stdout",
     "output_type": "stream",
     "text": [
      "Model: \"sequential\"\n",
      "_________________________________________________________________\n",
      " Layer (type)                Output Shape              Param #   \n",
      "=================================================================\n",
      " dense (Dense)               (15, 13)                  182       \n",
      "                                                                 \n",
      " sequential (Sequential)     (None, 1)                 14        \n",
      "                                                                 \n",
      "=================================================================\n",
      "Total params: 196\n",
      "Trainable params: 182\n",
      "Non-trainable params: 14\n",
      "_________________________________________________________________\n"
     ]
    }
   ],
   "source": [
    "make_layered_transfer_model().summary()"
   ]
  },
  {
   "cell_type": "markdown",
   "metadata": {},
   "source": [
    "### Transfer Learning (fine tuning only)"
   ]
  },
  {
   "cell_type": "code",
   "execution_count": 17,
   "metadata": {},
   "outputs": [],
   "source": [
    "def make_finetuned_transfer_model():\n",
    "    # transfer_model = keras.models.Sequential([\n",
    "    #     layers.Dense(units=1)\n",
    "    # ])\n",
    "    transfer_model = load_base_model()\n",
    "    \n",
    "    # Initialize layer shape to match training batch size\n",
    "    # transfer_model(feat_train_scaled)\n",
    "\n",
    "    # transfer_model.compile(\n",
    "    #     optimizer=keras.optimizers.Adam(learning_rate=0.001),\n",
    "    #     loss='mean_squared_error')\n",
    "    \n",
    "    # transfer_model.set_weights(discharge_model_fast.get_weights())\n",
    "\n",
    "    return transfer_model"
   ]
  },
  {
   "cell_type": "code",
   "execution_count": 18,
   "metadata": {},
   "outputs": [
    {
     "name": "stdout",
     "output_type": "stream",
     "text": [
      "Model: \"sequential\"\n",
      "_________________________________________________________________\n",
      " Layer (type)                Output Shape              Param #   \n",
      "=================================================================\n",
      " dense (Dense)               (None, 1)                 14        \n",
      "                                                                 \n",
      "=================================================================\n",
      "Total params: 14\n",
      "Trainable params: 14\n",
      "Non-trainable params: 0\n",
      "_________________________________________________________________\n"
     ]
    }
   ],
   "source": [
    "make_finetuned_transfer_model().summary()"
   ]
  },
  {
   "cell_type": "markdown",
   "metadata": {},
   "source": [
    "## Train Models"
   ]
  },
  {
   "cell_type": "code",
   "execution_count": 19,
   "metadata": {},
   "outputs": [],
   "source": [
    "cpus = [device.name for device in tf.config.list_logical_devices()]"
   ]
  },
  {
   "cell_type": "markdown",
   "metadata": {},
   "source": [
    "### Layered Transfer Models"
   ]
  },
  {
   "cell_type": "code",
   "execution_count": 20,
   "metadata": {},
   "outputs": [
    {
     "name": "stdout",
     "output_type": "stream",
     "text": [
      "Training on /device:CPU:0\n",
      "Training on /device:CPU:1\n",
      "Training on /device:CPU:2\n",
      "Training on /device:CPU:3\n",
      "Training on /device:CPU:0\n",
      "Training on /device:CPU:1\n",
      "Training on /device:CPU:2\n",
      "Training on /device:CPU:3\n",
      "WARNING:tensorflow:5 out of the last 201 calls to <function Model.make_train_function.<locals>.train_function at 0x00000193CD3E7760> triggered tf.function retracing. Tracing is expensive and the excessive number of tracings could be due to (1) creating @tf.function repeatedly in a loop, (2) passing tensors with different shapes, (3) passing Python objects instead of tensors. For (1), please define your @tf.function outside of the loop. For (2), @tf.function has reduce_retracing=True option that can avoid unnecessary retracing. For (3), please refer to https://www.tensorflow.org/guide/function#controlling_retracing and https://www.tensorflow.org/api_docs/python/tf/function for  more details.\n",
      "Training on /device:CPU:0\n",
      "Training on /device:CPU:1\n"
     ]
    }
   ],
   "source": [
    "results1 = Training.multithread_train(\n",
    "    feat_train_scaled,\n",
    "    label_train,\n",
    "    feat_test_scaled,\n",
    "    label_test,\n",
    "    make_layered_transfer_model,\n",
    "    device_list=np.resize(cpus, 10),\n",
    "    epochs=50,\n",
    "    num_threads=len(cpus)\n",
    ")"
   ]
  },
  {
   "cell_type": "markdown",
   "metadata": {},
   "source": [
    "### Fine-Tuned Transfer Models"
   ]
  },
  {
   "cell_type": "code",
   "execution_count": 21,
   "metadata": {},
   "outputs": [
    {
     "name": "stdout",
     "output_type": "stream",
     "text": [
      "Training on /device:CPU:0\n",
      "Training on /device:CPU:1\n",
      "Training on /device:CPU:2\n",
      "Training on /device:CPU:3\n",
      "WARNING:tensorflow:5 out of the last 103 calls to <function Model.make_train_function.<locals>.train_function at 0x00000193D0C1EC20> triggered tf.function retracing. Tracing is expensive and the excessive number of tracings could be due to (1) creating @tf.function repeatedly in a loop, (2) passing tensors with different shapes, (3) passing Python objects instead of tensors. For (1), please define your @tf.function outside of the loop. For (2), @tf.function has reduce_retracing=True option that can avoid unnecessary retracing. For (3), please refer to https://www.tensorflow.org/guide/function#controlling_retracing and https://www.tensorflow.org/api_docs/python/tf/function for  more details.\n",
      "WARNING:tensorflow:5 out of the last 105 calls to <function Model.make_test_function.<locals>.test_function at 0x00000193D1F40820> triggered tf.function retracing. Tracing is expensive and the excessive number of tracings could be due to (1) creating @tf.function repeatedly in a loop, (2) passing tensors with different shapes, (3) passing Python objects instead of tensors. For (1), please define your @tf.function outside of the loop. For (2), @tf.function has reduce_retracing=True option that can avoid unnecessary retracing. For (3), please refer to https://www.tensorflow.org/guide/function#controlling_retracing and https://www.tensorflow.org/api_docs/python/tf/function for  more details.\n",
      "Training on /device:CPU:0\n",
      "Training on /device:CPU:1\n",
      "Training on /device:CPU:2\n",
      "Training on /device:CPU:3\n",
      "Training on /device:CPU:0\n",
      "Training on /device:CPU:1\n"
     ]
    }
   ],
   "source": [
    "results2 = Training.multithread_train(\n",
    "    feat_train_scaled,\n",
    "    label_train,\n",
    "    feat_test_scaled,\n",
    "    label_test,\n",
    "    make_finetuned_transfer_model,\n",
    "    device_list=np.resize(cpus, 10),\n",
    "    epochs=1000,\n",
    "    num_threads=len(cpus)\n",
    ")"
   ]
  },
  {
   "cell_type": "markdown",
   "metadata": {},
   "source": [
    "## Evaluate Models"
   ]
  },
  {
   "cell_type": "code",
   "execution_count": 22,
   "metadata": {},
   "outputs": [],
   "source": [
    "layered_RMSE = pd.DataFrame(results1)\n",
    "finetuned_RMSE = pd.DataFrame(results2)"
   ]
  },
  {
   "cell_type": "code",
   "execution_count": 23,
   "metadata": {},
   "outputs": [
    {
     "data": {
      "text/html": [
       "<div>\n",
       "<style scoped>\n",
       "    .dataframe tbody tr th:only-of-type {\n",
       "        vertical-align: middle;\n",
       "    }\n",
       "\n",
       "    .dataframe tbody tr th {\n",
       "        vertical-align: top;\n",
       "    }\n",
       "\n",
       "    .dataframe thead th {\n",
       "        text-align: right;\n",
       "    }\n",
       "</style>\n",
       "<table border=\"1\" class=\"dataframe\">\n",
       "  <thead>\n",
       "    <tr style=\"text-align: right;\">\n",
       "      <th></th>\n",
       "      <th>Layered</th>\n",
       "      <th>Fine Tuned</th>\n",
       "    </tr>\n",
       "  </thead>\n",
       "  <tbody>\n",
       "    <tr>\n",
       "      <th>0</th>\n",
       "      <td>138.527087</td>\n",
       "      <td>141.691828</td>\n",
       "    </tr>\n",
       "    <tr>\n",
       "      <th>1</th>\n",
       "      <td>138.527087</td>\n",
       "      <td>141.691828</td>\n",
       "    </tr>\n",
       "    <tr>\n",
       "      <th>2</th>\n",
       "      <td>138.527087</td>\n",
       "      <td>141.691828</td>\n",
       "    </tr>\n",
       "    <tr>\n",
       "      <th>3</th>\n",
       "      <td>138.527087</td>\n",
       "      <td>141.691828</td>\n",
       "    </tr>\n",
       "    <tr>\n",
       "      <th>4</th>\n",
       "      <td>138.527080</td>\n",
       "      <td>141.691828</td>\n",
       "    </tr>\n",
       "    <tr>\n",
       "      <th>5</th>\n",
       "      <td>138.527087</td>\n",
       "      <td>141.691828</td>\n",
       "    </tr>\n",
       "    <tr>\n",
       "      <th>6</th>\n",
       "      <td>138.527087</td>\n",
       "      <td>141.691828</td>\n",
       "    </tr>\n",
       "    <tr>\n",
       "      <th>7</th>\n",
       "      <td>138.527087</td>\n",
       "      <td>141.691828</td>\n",
       "    </tr>\n",
       "    <tr>\n",
       "      <th>8</th>\n",
       "      <td>138.527087</td>\n",
       "      <td>141.691828</td>\n",
       "    </tr>\n",
       "    <tr>\n",
       "      <th>9</th>\n",
       "      <td>138.527087</td>\n",
       "      <td>141.691828</td>\n",
       "    </tr>\n",
       "  </tbody>\n",
       "</table>\n",
       "</div>"
      ],
      "text/plain": [
       "      Layered  Fine Tuned\n",
       "0  138.527087  141.691828\n",
       "1  138.527087  141.691828\n",
       "2  138.527087  141.691828\n",
       "3  138.527087  141.691828\n",
       "4  138.527080  141.691828\n",
       "5  138.527087  141.691828\n",
       "6  138.527087  141.691828\n",
       "7  138.527087  141.691828\n",
       "8  138.527087  141.691828\n",
       "9  138.527087  141.691828"
      ]
     },
     "execution_count": 23,
     "metadata": {},
     "output_type": "execute_result"
    }
   ],
   "source": [
    "all_RMSE = pd.concat([layered_RMSE['RMSE'], finetuned_RMSE['RMSE']], axis=1, keys=['Layered','Fine Tuned'])\n",
    "all_RMSE"
   ]
  },
  {
   "cell_type": "code",
   "execution_count": 24,
   "metadata": {},
   "outputs": [
    {
     "data": {
      "text/html": [
       "<div>\n",
       "<style scoped>\n",
       "    .dataframe tbody tr th:only-of-type {\n",
       "        vertical-align: middle;\n",
       "    }\n",
       "\n",
       "    .dataframe tbody tr th {\n",
       "        vertical-align: top;\n",
       "    }\n",
       "\n",
       "    .dataframe thead th {\n",
       "        text-align: right;\n",
       "    }\n",
       "</style>\n",
       "<table border=\"1\" class=\"dataframe\">\n",
       "  <thead>\n",
       "    <tr style=\"text-align: right;\">\n",
       "      <th></th>\n",
       "      <th>count</th>\n",
       "      <th>mean</th>\n",
       "      <th>std</th>\n",
       "      <th>min</th>\n",
       "      <th>max</th>\n",
       "    </tr>\n",
       "  </thead>\n",
       "  <tbody>\n",
       "    <tr>\n",
       "      <th>Layered</th>\n",
       "      <td>10.0</td>\n",
       "      <td>138.527087</td>\n",
       "      <td>0.000002</td>\n",
       "      <td>138.527080</td>\n",
       "      <td>138.527087</td>\n",
       "    </tr>\n",
       "    <tr>\n",
       "      <th>Fine Tuned</th>\n",
       "      <td>10.0</td>\n",
       "      <td>141.691828</td>\n",
       "      <td>0.000000</td>\n",
       "      <td>141.691828</td>\n",
       "      <td>141.691828</td>\n",
       "    </tr>\n",
       "  </tbody>\n",
       "</table>\n",
       "</div>"
      ],
      "text/plain": [
       "            count        mean       std         min         max\n",
       "Layered      10.0  138.527087  0.000002  138.527080  138.527087\n",
       "Fine Tuned   10.0  141.691828  0.000000  141.691828  141.691828"
      ]
     },
     "execution_count": 24,
     "metadata": {},
     "output_type": "execute_result"
    }
   ],
   "source": [
    "RMSE_stats = all_RMSE.describe().transpose().drop(['25%', '50%', '75%'], axis=1)\n",
    "RMSE_stats"
   ]
  },
  {
   "cell_type": "code",
   "execution_count": 25,
   "metadata": {},
   "outputs": [],
   "source": [
    "def plot_loss(history, ylims = [50, 300], ax_names={'loss': 'loss', 'val_loss': 'val_loss'}):\n",
    "    plt.plot(np.sqrt(history.history['loss']), label=ax_names['loss'])\n",
    "    plt.plot(np.sqrt(history.history['val_loss']), label=ax_names['val_loss'])\n",
    "    plt.ylim(ylims)\n",
    "    plt.xlabel('Epoch')\n",
    "    plt.ylabel('Error [cycles]')\n",
    "    plt.legend()\n",
    "    plt.grid(True)\n",
    "    # plt.show()"
   ]
  },
  {
   "cell_type": "code",
   "execution_count": 26,
   "metadata": {},
   "outputs": [
    {
     "data": {
      "image/png": "[encoded data removed]",
      "text/plain": [
       "<Figure size 800x500 with 1 Axes>"
      ]
     },
     "metadata": {},
     "output_type": "display_data"
    }
   ],
   "source": [
    "plt.figure('LayeredLoss', figsize=(8,5), dpi=100, facecolor='w', edgecolor='k')\n",
    "for i in range(len(layered_RMSE)):\n",
    "    plot_loss(layered_RMSE['history'][i],\n",
    "        ax_names={\n",
    "            'loss': 'train '+str(i),\n",
    "            'val_loss': 'test '+str(i)\n",
    "        })\n",
    "plt.show()"
   ]
  },
  {
   "cell_type": "code",
   "execution_count": 27,
   "metadata": {},
   "outputs": [
    {
     "data": {
      "image/png": "[encoded data removed]",
      "text/plain": [
       "<Figure size 800x500 with 1 Axes>"
      ]
     },
     "metadata": {},
     "output_type": "display_data"
    }
   ],
   "source": [
    "plt.figure('FineTunedLoss', figsize=(8,5), dpi=100, facecolor='w', edgecolor='k')\n",
    "for i in range(len(finetuned_RMSE)):\n",
    "    plot_loss(finetuned_RMSE['history'][i],\n",
    "        ax_names={\n",
    "            'loss': 'train '+str(i),\n",
    "            'val_loss': 'test '+str(i)\n",
    "        })\n",
    "plt.show()"
   ]
  },
  {
   "cell_type": "code",
   "execution_count": 28,
   "metadata": {},
   "outputs": [],
   "source": [
    "import pathlib\n",
    "results_folder = pathlib.Path('./results')\n",
    "results_folder.mkdir(exist_ok=True)"
   ]
  },
  {
   "cell_type": "code",
   "execution_count": 29,
   "metadata": {},
   "outputs": [],
   "source": [
    "all_RMSE.to_csv('./results/runs.csv')\n",
    "RMSE_stats.to_csv('./results/statistics.csv')"
   ]
  }
 ],
 "metadata": {
  "kernelspec": {
   "display_name": "Python 3.10.2 ('.venv': venv)",
   "language": "python",
   "name": "python3"
  },
  "language_info": {
   "codemirror_mode": {
    "name": "ipython",
    "version": 3
   },
   "file_extension": ".py",
   "mimetype": "text/x-python",
   "name": "python",
   "nbconvert_exporter": "python",
   "pygments_lexer": "ipython3",
   "version": "3.10.2"
  },
  "orig_nbformat": 4,
  "vscode": {
   "interpreter": {
    "hash": "28bd94140b22442a5e361fe5f585021fa619f223c95f307eda248247a2d6f02a"
   }
  }
 },
 "nbformat": 4,
 "nbformat_minor": 2
}
