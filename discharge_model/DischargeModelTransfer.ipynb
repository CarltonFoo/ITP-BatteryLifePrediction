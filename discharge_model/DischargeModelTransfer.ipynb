{
 "cells": [
  {
   "cell_type": "code",
   "execution_count": 1,
   "metadata": {},
   "outputs": [],
   "source": [
    "import matplotlib.pyplot as plt\n",
    "import numpy as np\n",
    "import pandas as pd\n",
    "# import seaborn as sns\n",
    "import scipy\n",
    "import scipy.stats\n",
    "\n",
    "# Make NumPy printouts easier to read.\n",
    "np.set_printoptions(precision=3, suppress=True)"
   ]
  },
  {
   "cell_type": "code",
   "execution_count": 2,
   "metadata": {},
   "outputs": [
    {
     "name": "stderr",
     "output_type": "stream",
     "text": [
      "2022-07-19 23:32:20.688836: W tensorflow/stream_executor/platform/default/dso_loader.cc:64] Could not load dynamic library 'libcudart.so.11.0'; dlerror: libcudart.so.11.0: cannot open shared object file: No such file or directory\n",
      "2022-07-19 23:32:20.688880: I tensorflow/stream_executor/cuda/cudart_stub.cc:29] Ignore above cudart dlerror if you do not have a GPU set up on your machine.\n"
     ]
    },
    {
     "name": "stdout",
     "output_type": "stream",
     "text": [
      "2.9.1\n"
     ]
    }
   ],
   "source": [
    "import tensorflow as tf\n",
    "\n",
    "from tensorflow import keras\n",
    "from tensorflow.keras import layers\n",
    "\n",
    "print(tf.__version__)"
   ]
  },
  {
   "cell_type": "markdown",
   "metadata": {},
   "source": [
    "## Load Data"
   ]
  },
  {
   "cell_type": "code",
   "execution_count": 3,
   "metadata": {},
   "outputs": [],
   "source": [
    "featFileName = \"../Data/features_combined.csv\"\n",
    "batch_pd = pd.read_csv(featFileName, index_col=False)"
   ]
  },
  {
   "cell_type": "code",
   "execution_count": 4,
   "metadata": {},
   "outputs": [
    {
     "data": {
      "text/html": [
       "<div>\n",
       "<style scoped>\n",
       "    .dataframe tbody tr th:only-of-type {\n",
       "        vertical-align: middle;\n",
       "    }\n",
       "\n",
       "    .dataframe tbody tr th {\n",
       "        vertical-align: top;\n",
       "    }\n",
       "\n",
       "    .dataframe thead th {\n",
       "        text-align: right;\n",
       "    }\n",
       "</style>\n",
       "<table border=\"1\" class=\"dataframe\">\n",
       "  <thead>\n",
       "    <tr style=\"text-align: right;\">\n",
       "      <th></th>\n",
       "      <th>policy</th>\n",
       "      <th>barcode</th>\n",
       "      <th>cycle_life</th>\n",
       "    </tr>\n",
       "  </thead>\n",
       "  <tbody>\n",
       "    <tr>\n",
       "      <th>0</th>\n",
       "      <td>3_6C-80PER_3_6C</td>\n",
       "      <td>???</td>\n",
       "      <td>1189.0</td>\n",
       "    </tr>\n",
       "    <tr>\n",
       "      <th>1</th>\n",
       "      <td>3_6C-80PER_3_6C</td>\n",
       "      <td>???</td>\n",
       "      <td>1178.0</td>\n",
       "    </tr>\n",
       "    <tr>\n",
       "      <th>2</th>\n",
       "      <td>3_6C-80PER_3_6C</td>\n",
       "      <td>???</td>\n",
       "      <td>1176.0</td>\n",
       "    </tr>\n",
       "    <tr>\n",
       "      <th>3</th>\n",
       "      <td>4C-80PER_4C</td>\n",
       "      <td>???</td>\n",
       "      <td>1225.0</td>\n",
       "    </tr>\n",
       "    <tr>\n",
       "      <th>4</th>\n",
       "      <td>4C-80PER_4C</td>\n",
       "      <td>???</td>\n",
       "      <td>1226.0</td>\n",
       "    </tr>\n",
       "    <tr>\n",
       "      <th>...</th>\n",
       "      <td>...</td>\n",
       "      <td>...</td>\n",
       "      <td>...</td>\n",
       "    </tr>\n",
       "    <tr>\n",
       "      <th>75</th>\n",
       "      <td>6C_31PER_4_25C</td>\n",
       "      <td>???</td>\n",
       "      <td>462.0</td>\n",
       "    </tr>\n",
       "    <tr>\n",
       "      <th>76</th>\n",
       "      <td>6C_40PER_4C</td>\n",
       "      <td>???</td>\n",
       "      <td>457.0</td>\n",
       "    </tr>\n",
       "    <tr>\n",
       "      <th>77</th>\n",
       "      <td>6C_4PER_4_75C</td>\n",
       "      <td>???</td>\n",
       "      <td>487.0</td>\n",
       "    </tr>\n",
       "    <tr>\n",
       "      <th>78</th>\n",
       "      <td>6C_52PER_3_5C</td>\n",
       "      <td>???</td>\n",
       "      <td>429.0</td>\n",
       "    </tr>\n",
       "    <tr>\n",
       "      <th>79</th>\n",
       "      <td>6C_60PER_3C</td>\n",
       "      <td>???</td>\n",
       "      <td>713.0</td>\n",
       "    </tr>\n",
       "  </tbody>\n",
       "</table>\n",
       "<p>80 rows × 3 columns</p>\n",
       "</div>"
      ],
      "text/plain": [
       "             policy barcode  cycle_life\n",
       "0   3_6C-80PER_3_6C     ???      1189.0\n",
       "1   3_6C-80PER_3_6C     ???      1178.0\n",
       "2   3_6C-80PER_3_6C     ???      1176.0\n",
       "3       4C-80PER_4C     ???      1225.0\n",
       "4       4C-80PER_4C     ???      1226.0\n",
       "..              ...     ...         ...\n",
       "75   6C_31PER_4_25C     ???       462.0\n",
       "76      6C_40PER_4C     ???       457.0\n",
       "77    6C_4PER_4_75C     ???       487.0\n",
       "78    6C_52PER_3_5C     ???       429.0\n",
       "79      6C_60PER_3C     ???       713.0\n",
       "\n",
       "[80 rows x 3 columns]"
      ]
     },
     "execution_count": 4,
     "metadata": {},
     "output_type": "execute_result"
    }
   ],
   "source": [
    "bat_info = batch_pd.loc[:,'policy':'cycle_life']\n",
    "bat_info"
   ]
  },
  {
   "cell_type": "code",
   "execution_count": 5,
   "metadata": {},
   "outputs": [
    {
     "data": {
      "text/plain": [
       "array([[ 1.071,  0.468,  1.076, ...,  1.091,  0.   ,  1.072],\n",
       "       [ 1.075,  0.009,  1.081, ...,  1.081, -0.   ,  1.085],\n",
       "       [ 1.08 ,  0.008,  1.085, ...,  1.085, -0.   ,  1.089],\n",
       "       ...,\n",
       "       [ 1.07 ,  0.005,  1.073, ...,  1.075, -0.   ,  1.081],\n",
       "       [ 1.073,  0.007,  1.08 , ...,  1.078, -0.   ,  1.081],\n",
       "       [ 1.042,  0.008,  1.047, ...,  1.049, -0.   ,  1.055]])"
      ]
     },
     "execution_count": 5,
     "metadata": {},
     "output_type": "execute_result"
    }
   ],
   "source": [
    "feat = batch_pd.drop(['policy','barcode','cycle_life','QDiffLinVar'], axis=1).to_numpy()\n",
    "feat"
   ]
  },
  {
   "cell_type": "code",
   "execution_count": 6,
   "metadata": {},
   "outputs": [],
   "source": [
    "# quoted: \"data fix\"\n",
    "feat[0,9] = 1.692e-5;\n",
    "feat[0,10] = 1.0750;\n",
    "\n",
    "feat[14,1] = 0.00397;\n",
    "feat[14,9] = -4.8296e-5;\n",
    "feat[14,10] = 1.0705;"
   ]
  },
  {
   "cell_type": "code",
   "execution_count": 7,
   "metadata": {},
   "outputs": [],
   "source": [
    "fast_charge_indices = bat_info['policy'].str.match(\"^[5-8].*C\")\n",
    "slow_charge_feat = feat[~fast_charge_indices]\n",
    "slow_charge_label = bat_info[\"cycle_life\"][~fast_charge_indices]\n",
    "fast_charge_feat = feat[fast_charge_indices]\n",
    "fast_charge_label = bat_info[\"cycle_life\"][fast_charge_indices]"
   ]
  },
  {
   "cell_type": "code",
   "execution_count": 8,
   "metadata": {},
   "outputs": [],
   "source": [
    "feat_train = slow_charge_feat[0::2]\n",
    "feat_test = slow_charge_feat[1::2]\n",
    "label_train = slow_charge_label[0::2]\n",
    "label_test = slow_charge_label[1::2]"
   ]
  },
  {
   "cell_type": "code",
   "execution_count": 9,
   "metadata": {},
   "outputs": [],
   "source": [
    "# scale data\n",
    "feat_train_scaled = scipy.stats.zscore(feat_train)\n",
    "feat_test_scaled = scipy.stats.zmap(feat_test, feat_train)"
   ]
  },
  {
   "cell_type": "markdown",
   "metadata": {},
   "source": [
    "## Load Model\n",
    "Load the 'base' model trained on 'fast charging' data subset."
   ]
  },
  {
   "cell_type": "code",
   "execution_count": 11,
   "metadata": {},
   "outputs": [
    {
     "name": "stdout",
     "output_type": "stream",
     "text": [
      "Model: \"sequential\"\n",
      "_________________________________________________________________\n",
      " Layer (type)                Output Shape              Param #   \n",
      "=================================================================\n",
      " dense (Dense)               (None, 1)                 14        \n",
      "                                                                 \n",
      "=================================================================\n",
      "Total params: 14\n",
      "Trainable params: 14\n",
      "Non-trainable params: 0\n",
      "_________________________________________________________________\n"
     ]
    },
    {
     "name": "stderr",
     "output_type": "stream",
     "text": [
      "2022-07-19 23:32:22.924446: E tensorflow/stream_executor/cuda/cuda_driver.cc:271] failed call to cuInit: CUDA_ERROR_UNKNOWN: unknown error\n",
      "2022-07-19 23:32:22.924493: I tensorflow/stream_executor/cuda/cuda_diagnostics.cc:169] retrieving CUDA diagnostic information for host: starlight-desktop\n",
      "2022-07-19 23:32:22.924506: I tensorflow/stream_executor/cuda/cuda_diagnostics.cc:176] hostname: starlight-desktop\n",
      "2022-07-19 23:32:22.924630: I tensorflow/stream_executor/cuda/cuda_diagnostics.cc:200] libcuda reported version is: 510.73.5\n",
      "2022-07-19 23:32:22.924667: I tensorflow/stream_executor/cuda/cuda_diagnostics.cc:204] kernel reported version is: 510.73.5\n",
      "2022-07-19 23:32:22.924680: I tensorflow/stream_executor/cuda/cuda_diagnostics.cc:310] kernel version seems to match DSO: 510.73.5\n"
     ]
    }
   ],
   "source": [
    "discharge_model_fast = keras.models.load_model('../discharge_model/saved_model/DischargeModelFastTF')\n",
    "discharge_model_fast.summary()"
   ]
  },
  {
   "cell_type": "markdown",
   "metadata": {},
   "source": [
    "Also load the 'base' model trained on 'normal charging' data subset, with the same structure."
   ]
  },
  {
   "cell_type": "code",
   "execution_count": 11,
   "metadata": {},
   "outputs": [],
   "source": [
    "discharge_model_norm = keras.models.load_model('../discharge_model/saved_model/DischargeModelNormTF')"
   ]
  },
  {
   "cell_type": "markdown",
   "metadata": {},
   "source": [
    "## Evaluate Base Model"
   ]
  },
  {
   "cell_type": "code",
   "execution_count": 13,
   "metadata": {},
   "outputs": [],
   "source": [
    "all_rmse = pd.DataFrame(\n",
    "    np.full(4, np.nan),\n",
    "    index=[\n",
    "        \"base model (fast charge)\",\n",
    "        \"base model (norm charge)\",\n",
    "        \"transfer model (layered)\",\n",
    "        \"transfer model (fine-tuned only)\"\n",
    "    ],\n",
    "    columns=[\"RMSE\"]\n",
    ")"
   ]
  },
  {
   "cell_type": "code",
   "execution_count": 15,
   "metadata": {},
   "outputs": [
    {
     "data": {
      "text/html": [
       "<div>\n",
       "<style scoped>\n",
       "    .dataframe tbody tr th:only-of-type {\n",
       "        vertical-align: middle;\n",
       "    }\n",
       "\n",
       "    .dataframe tbody tr th {\n",
       "        vertical-align: top;\n",
       "    }\n",
       "\n",
       "    .dataframe thead th {\n",
       "        text-align: right;\n",
       "    }\n",
       "</style>\n",
       "<table border=\"1\" class=\"dataframe\">\n",
       "  <thead>\n",
       "    <tr style=\"text-align: right;\">\n",
       "      <th></th>\n",
       "      <th>RMSE</th>\n",
       "    </tr>\n",
       "  </thead>\n",
       "  <tbody>\n",
       "    <tr>\n",
       "      <th>base model (fast charge)</th>\n",
       "      <td>85.076781</td>\n",
       "    </tr>\n",
       "    <tr>\n",
       "      <th>base model (norm charge)</th>\n",
       "      <td>266.750278</td>\n",
       "    </tr>\n",
       "    <tr>\n",
       "      <th>transfer model</th>\n",
       "      <td>NaN</td>\n",
       "    </tr>\n",
       "    <tr>\n",
       "      <th>transfer model (fine-tuned only)</th>\n",
       "      <td>NaN</td>\n",
       "    </tr>\n",
       "  </tbody>\n",
       "</table>\n",
       "</div>"
      ],
      "text/plain": [
       "                                        RMSE\n",
       "base model (fast charge)           85.076781\n",
       "base model (norm charge)          266.750278\n",
       "transfer model (layered)                 NaN\n",
       "transfer model (fine-tuned only)         NaN"
      ]
     },
     "execution_count": 15,
     "metadata": {},
     "output_type": "execute_result"
    }
   ],
   "source": [
    "all_rmse.at[\"base model (fast charge)\", \"RMSE\"] = discharge_model_fast.evaluate(\n",
    "    scipy.stats.zmap(fast_charge_feat[1::2], fast_charge_feat[0::2]),\n",
    "    fast_charge_label[1::2],\n",
    "    verbose=0\n",
    ") ** 0.5\n",
    "all_rmse.at[\"base model (norm charge)\", \"RMSE\"] = discharge_model_norm.evaluate(\n",
    "    scipy.stats.zmap(slow_charge_feat[1::2], slow_charge_feat[0::2]),\n",
    "    slow_charge_label[1::2],\n",
    "    verbose=0\n",
    ") ** 0.5\n",
    "all_rmse"
   ]
  },
  {
   "cell_type": "markdown",
   "metadata": {},
   "source": [
    "## Transfer Learning (Layering Method)"
   ]
  },
  {
   "cell_type": "markdown",
   "metadata": {},
   "source": [
    "Freeze base model weights to preserve knowledge learned from base model training, so only the transformer is trained"
   ]
  },
  {
   "cell_type": "code",
   "execution_count": 16,
   "metadata": {},
   "outputs": [],
   "source": [
    "discharge_model_fast.trainable = False"
   ]
  },
  {
   "cell_type": "markdown",
   "metadata": {},
   "source": [
    "### Build Model\n",
    "Construct new model for transfer learning by adding a 13-node layer with weights initialized to Identity function.  \n",
    "  \n",
    "The expectation is that the new battery population still has *some* similarities to the base training population and any differences are just due to a difference in the population mean and variance.  \n",
    "  \n",
    "Therefore, an Identity function that passes the 13 features through unchanged is a good starting point, and as training progresses the layer will learn to apply a transform on the input features to match the feature population that the base model was trained to expect."
   ]
  },
  {
   "cell_type": "code",
   "execution_count": 17,
   "metadata": {},
   "outputs": [
    {
     "name": "stdout",
     "output_type": "stream",
     "text": [
      "Model: \"sequential\"\n",
      "_________________________________________________________________\n",
      " Layer (type)                Output Shape              Param #   \n",
      "=================================================================\n",
      " dense (Dense)               (15, 13)                  182       \n",
      "                                                                 \n",
      " sequential (Sequential)     (None, 1)                 14        \n",
      "                                                                 \n",
      "=================================================================\n",
      "Total params: 196\n",
      "Trainable params: 182\n",
      "Non-trainable params: 14\n",
      "_________________________________________________________________\n"
     ]
    }
   ],
   "source": [
    "transfer_model = keras.models.Sequential([\n",
    "    layers.Dense(units=13, kernel_initializer=keras.initializers.Identity()),\n",
    "    discharge_model_fast\n",
    "])\n",
    "transfer_model(feat_train_scaled)\n",
    "transfer_model.summary()"
   ]
  },
  {
   "cell_type": "code",
   "execution_count": 18,
   "metadata": {},
   "outputs": [],
   "source": [
    "transfer_model.compile(\n",
    "    optimizer=tf.keras.optimizers.Adam(learning_rate=0.001),\n",
    "    loss='mean_squared_error')"
   ]
  },
  {
   "cell_type": "code",
   "execution_count": 19,
   "metadata": {},
   "outputs": [
    {
     "data": {
      "text/plain": [
       "170.57145451027262"
      ]
     },
     "execution_count": 19,
     "metadata": {},
     "output_type": "execute_result"
    }
   ],
   "source": [
    "# check pre-training loss identical to base model\n",
    "transfer_model.evaluate(\n",
    "    feat_test_scaled,\n",
    "    label_test,\n",
    "    verbose=0\n",
    ") ** 0.5"
   ]
  },
  {
   "cell_type": "markdown",
   "metadata": {},
   "source": [
    "### Train Model\n",
    "Train the transfer learning model for 50 epochs.  \n",
    "50 may seem quick, but adding any more epochs only seems to increase overfitting (measured by observing the divergence of test-set RMSE from training-set RMSE)."
   ]
  },
  {
   "cell_type": "code",
   "execution_count": 20,
   "metadata": {},
   "outputs": [],
   "source": [
    "history = transfer_model.fit(\n",
    "    feat_train_scaled,\n",
    "    label_train,\n",
    "    epochs=50,\n",
    "    validation_data=(\n",
    "        feat_test_scaled,\n",
    "        label_test\n",
    "    ),\n",
    "    verbose=0\n",
    ")"
   ]
  },
  {
   "cell_type": "code",
   "execution_count": 21,
   "metadata": {},
   "outputs": [],
   "source": [
    "def plot_loss(history, ylims = [50, 300]):\n",
    "    plt.plot(np.sqrt(history.history['loss']), label='loss')\n",
    "    plt.plot(np.sqrt(history.history['val_loss']), label='val_loss')\n",
    "    plt.ylim(ylims)\n",
    "    plt.xlabel('Epoch')\n",
    "    plt.ylabel('Error [cycles]')\n",
    "    plt.legend()\n",
    "    plt.grid(True)\n",
    "    plt.show()"
   ]
  },
  {
   "cell_type": "markdown",
   "metadata": {},
   "source": [
    "Graph of accuracy measured in RMSE over epochs of training.  \n",
    "`loss` is the training set accuracy, `val_loss` is the test set accuracy."
   ]
  },
  {
   "cell_type": "code",
   "execution_count": 22,
   "metadata": {},
   "outputs": [
    {
     "data": {
      "image/png": "[encoded data removed]",
      "text/plain": [
       "<Figure size 432x288 with 1 Axes>"
      ]
     },
     "metadata": {
      "needs_background": "light"
     },
     "output_type": "display_data"
    }
   ],
   "source": [
    "plot_loss(history)"
   ]
  },
  {
   "cell_type": "code",
   "execution_count": 23,
   "metadata": {},
   "outputs": [
    {
     "data": {
      "text/html": [
       "<div>\n",
       "<style scoped>\n",
       "    .dataframe tbody tr th:only-of-type {\n",
       "        vertical-align: middle;\n",
       "    }\n",
       "\n",
       "    .dataframe tbody tr th {\n",
       "        vertical-align: top;\n",
       "    }\n",
       "\n",
       "    .dataframe thead th {\n",
       "        text-align: right;\n",
       "    }\n",
       "</style>\n",
       "<table border=\"1\" class=\"dataframe\">\n",
       "  <thead>\n",
       "    <tr style=\"text-align: right;\">\n",
       "      <th></th>\n",
       "      <th>loss</th>\n",
       "      <th>val_loss</th>\n",
       "      <th>epoch</th>\n",
       "    </tr>\n",
       "  </thead>\n",
       "  <tbody>\n",
       "    <tr>\n",
       "      <th>45</th>\n",
       "      <td>123.224389</td>\n",
       "      <td>137.535883</td>\n",
       "      <td>45</td>\n",
       "    </tr>\n",
       "    <tr>\n",
       "      <th>46</th>\n",
       "      <td>122.503520</td>\n",
       "      <td>137.746349</td>\n",
       "      <td>46</td>\n",
       "    </tr>\n",
       "    <tr>\n",
       "      <th>47</th>\n",
       "      <td>121.789666</td>\n",
       "      <td>137.982272</td>\n",
       "      <td>47</td>\n",
       "    </tr>\n",
       "    <tr>\n",
       "      <th>48</th>\n",
       "      <td>121.082782</td>\n",
       "      <td>138.242844</td>\n",
       "      <td>48</td>\n",
       "    </tr>\n",
       "    <tr>\n",
       "      <th>49</th>\n",
       "      <td>120.382849</td>\n",
       "      <td>138.527080</td>\n",
       "      <td>49</td>\n",
       "    </tr>\n",
       "  </tbody>\n",
       "</table>\n",
       "</div>"
      ],
      "text/plain": [
       "          loss    val_loss  epoch\n",
       "45  123.224389  137.535883     45\n",
       "46  122.503520  137.746349     46\n",
       "47  121.789666  137.982272     47\n",
       "48  121.082782  138.242844     48\n",
       "49  120.382849  138.527080     49"
      ]
     },
     "execution_count": 23,
     "metadata": {},
     "output_type": "execute_result"
    }
   ],
   "source": [
    "hist = pd.DataFrame(history.history)\n",
    "hist = hist.pow(0.5) # Power 1/2 is the same as square root\n",
    "hist['epoch'] = history.epoch\n",
    "hist.tail()"
   ]
  },
  {
   "cell_type": "markdown",
   "metadata": {},
   "source": [
    "### Evaluate Model"
   ]
  },
  {
   "cell_type": "code",
   "execution_count": null,
   "metadata": {},
   "outputs": [],
   "source": [
    "def plot_prediction(y_train_pred, y_test_pred, y_train_actual, y_test_actual, figure_name):\n",
    "    plt.figure(figure_name, figsize=(5,5), dpi=100, facecolor='w', edgecolor='k')\n",
    "    plt.axes(aspect='equal')\n",
    "    plt.scatter(y_train_pred, y_train_actual, label='Predictions (train)')\n",
    "    plt.scatter(y_test_pred, y_test_actual, label='Predictions (test)')\n",
    "    lims = [0, 2000]\n",
    "    plt.xlim(lims)\n",
    "    plt.ylim(lims)\n",
    "    plt.plot(lims, lims, 'k', )\n",
    "    plt.xlabel('Predicted Cycle life')\n",
    "    plt.ylabel('Actual Cycle life')\n",
    "    plt.legend()\n",
    "    plt.show()"
   ]
  },
  {
   "cell_type": "markdown",
   "metadata": {},
   "source": [
    "Graph to show the distance of predictions from perfection. Black line is the line of exact match between prediction and actual cycle life; above the line is an underestimation, below the line is an overestimation."
   ]
  },
  {
   "cell_type": "code",
   "execution_count": 22,
   "metadata": {},
   "outputs": [
    {
     "data": {
      "image/png": "[encoded data removed]",
      "text/plain": [
       "<Figure size 500x500 with 1 Axes>"
      ]
     },
     "metadata": {},
     "output_type": "display_data"
    }
   ],
   "source": [
    "plot_prediction(\n",
    "    transfer_model(feat_train_scaled),\n",
    "    transfer_model(feat_test_scaled),\n",
    "    label_train,\n",
    "    label_test,\n",
    "    \"TransferModelLayeredPrediction\"\n",
    ")"
   ]
  },
  {
   "cell_type": "code",
   "execution_count": 24,
   "metadata": {},
   "outputs": [
    {
     "data": {
      "text/plain": [
       "119.68977641438303"
      ]
     },
     "execution_count": 24,
     "metadata": {},
     "output_type": "execute_result"
    }
   ],
   "source": [
    "# Train set RMSE\n",
    "# Power 1/2 is the same as square root\n",
    "# (TensorFlow configured to use MSE, so root must be done manually)\n",
    "transfer_model.evaluate(\n",
    "    feat_train_scaled,\n",
    "    label_train, verbose=0) ** 0.5"
   ]
  },
  {
   "cell_type": "code",
   "execution_count": 25,
   "metadata": {},
   "outputs": [
    {
     "data": {
      "text/html": [
       "<div>\n",
       "<style scoped>\n",
       "    .dataframe tbody tr th:only-of-type {\n",
       "        vertical-align: middle;\n",
       "    }\n",
       "\n",
       "    .dataframe tbody tr th {\n",
       "        vertical-align: top;\n",
       "    }\n",
       "\n",
       "    .dataframe thead th {\n",
       "        text-align: right;\n",
       "    }\n",
       "</style>\n",
       "<table border=\"1\" class=\"dataframe\">\n",
       "  <thead>\n",
       "    <tr style=\"text-align: right;\">\n",
       "      <th></th>\n",
       "      <th>RMSE</th>\n",
       "    </tr>\n",
       "  </thead>\n",
       "  <tbody>\n",
       "    <tr>\n",
       "      <th>base model (fast charge)</th>\n",
       "      <td>106.944084</td>\n",
       "    </tr>\n",
       "    <tr>\n",
       "      <th>base model (norm charge)</th>\n",
       "      <td>131.840302</td>\n",
       "    </tr>\n",
       "    <tr>\n",
       "      <td>133.829883</td>\n",
       "      <th>transfer model (layered)</th>\n",
       "    </tr>\n",
       "    <tr>\n",
       "      <th>transfer model (fine-tuned only)</th>\n",
       "      <td>NaN</td>\n",
       "    </tr>\n",
       "  </tbody>\n",
       "</table>\n",
       "</div>"
      ],
      "text/plain": [
       "                                        RMSE\n",
       "base model (fast charge)           85.076781\n",
       "base model (norm charge)          266.750278\n",
       "transfer model (layered)          138.527080\n",
       "transfer model (fine-tuned only)         NaN"
      ]
     },
     "execution_count": 25,
     "metadata": {},
     "output_type": "execute_result"
    }
   ],
   "source": [
    "all_rmse.at[\"transfer model (layered)\", \"RMSE\"] = transfer_model.evaluate(\n",
    "    feat_test_scaled,\n",
    "    label_test, verbose=0) ** 0.5\n",
    "all_rmse"
   ]
  },
  {
   "cell_type": "markdown",
   "metadata": {},
   "source": [
    "## Transfer Learning (Fine Tuning Only)\n",
    "Just train the base model again on the 'normal charging' dataset to fine tune the weights learned from 'fast charging' and see how it's performance compares with layering method."
   ]
  },
  {
   "cell_type": "markdown",
   "metadata": {},
   "source": [
    "Unfreeze base model weights to allow fine tuning."
   ]
  },
  {
   "cell_type": "code",
   "execution_count": 26,
   "metadata": {},
   "outputs": [],
   "source": [
    "discharge_model_fast.trainable = True"
   ]
  },
  {
   "cell_type": "markdown",
   "metadata": {},
   "source": [
    "### Train Model\n",
    "Train the model for 1000 epochs, which is about just before it begins to overfit."
   ]
  },
  {
   "cell_type": "code",
   "execution_count": 27,
   "metadata": {},
   "outputs": [],
   "source": [
    "history = discharge_model_fast.fit(\n",
    "    feat_train_scaled,\n",
    "    label_train,\n",
    "    epochs=1000,\n",
    "    validation_data=(\n",
    "        feat_test_scaled,\n",
    "        label_test\n",
    "    ),\n",
    "    verbose=0\n",
    ")"
   ]
  },
  {
   "cell_type": "markdown",
   "metadata": {},
   "source": [
    "Graph of accuracy measured in RMSE over epochs of training.  \n",
    "`loss` is the training set accuracy, `val_loss` is the test set accuracy."
   ]
  },
  {
   "cell_type": "code",
   "execution_count": 28,
   "metadata": {},
   "outputs": [
    {
     "data": {
      "image/png": "[encoded data removed]",
      "text/plain": [
       "<Figure size 432x288 with 1 Axes>"
      ]
     },
     "metadata": {
      "needs_background": "light"
     },
     "output_type": "display_data"
    }
   ],
   "source": [
    "plot_loss(history)"
   ]
  },
  {
   "cell_type": "markdown",
   "metadata": {},
   "source": [
    "### Evaluate Model"
   ]
  },
  {
   "cell_type": "markdown",
   "metadata": {},
   "source": [
    "Graph to show the distance of predictions from perfection. Same method of representation as previously explained."
   ]
  },
  {
   "cell_type": "code",
   "execution_count": 29,
   "metadata": {},
   "outputs": [
    {
     "data": {
      "image/png": "[encoded data removed]",
      "text/plain": [
       "<Figure size 500x500 with 1 Axes>"
      ]
     },
     "metadata": {},
     "output_type": "display_data"
    }
   ],
   "source": [
    "plot_prediction(\n",
    "    discharge_model_fast(feat_train_scaled),\n",
    "    discharge_model_fast(feat_test_scaled),\n",
    "    label_train,\n",
    "    label_test,\n",
    "    \"TransferModelFineTunedPrediction\"\n",
    ")"
   ]
  },
  {
   "cell_type": "code",
   "execution_count": 30,
   "metadata": {},
   "outputs": [
    {
     "data": {
      "text/plain": [
       "134.33623714164023"
      ]
     },
     "execution_count": 30,
     "metadata": {},
     "output_type": "execute_result"
    }
   ],
   "source": [
    "# Train set RMSE\n",
    "discharge_model_fast.evaluate(\n",
    "    feat_train_scaled,\n",
    "    label_train, verbose=0) ** 0.5"
   ]
  },
  {
   "cell_type": "code",
   "execution_count": 36,
   "metadata": {},
   "outputs": [],
   "source": [
    "# Two decimal places for easier viewing\n",
    "pd.options.display.float_format = \"{:.2f}\".format"
   ]
  },
  {
   "cell_type": "code",
   "execution_count": 32,
   "metadata": {},
   "outputs": [
    {
     "data": {
      "text/html": [
       "<div>\n",
       "<style scoped>\n",
       "    .dataframe tbody tr th:only-of-type {\n",
       "        vertical-align: middle;\n",
       "    }\n",
       "\n",
       "    .dataframe tbody tr th {\n",
       "        vertical-align: top;\n",
       "    }\n",
       "\n",
       "    .dataframe thead th {\n",
       "        text-align: right;\n",
       "    }\n",
       "</style>\n",
       "<table border=\"1\" class=\"dataframe\">\n",
       "  <thead>\n",
       "    <tr style=\"text-align: right;\">\n",
       "      <th></th>\n",
       "      <th>RMSE</th>\n",
       "    </tr>\n",
       "  </thead>\n",
       "  <tbody>\n",
       "    <tr>\n",
       "      <th>base model (fast charge)</th>\n",
       "      <td>85.08</td>\n",
       "    </tr>\n",
       "    <tr>\n",
       "      <th>base model (norm charge)</th>\n",
       "      <td>266.75</td>\n",
       "    </tr>\n",
       "    <tr>\n",
       "      <th>transfer model (layered)</th>\n",
       "      <td>138.53</td>\n",
       "    </tr>\n",
       "    <tr>\n",
       "      <th>transfer model (fine-tuned only)</th>\n",
       "      <td>141.69</td>\n",
       "    </tr>\n",
       "  </tbody>\n",
       "</table>\n",
       "</div>"
      ],
      "text/plain": [
       "                                   RMSE\n",
       "base model (fast charge)          85.08\n",
       "base model (norm charge)         266.75\n",
       "transfer model (layered)         138.53\n",
       "transfer model (fine-tuned only) 141.69"
      ]
     },
     "execution_count": 31,
     "metadata": {},
     "output_type": "execute_result"
    }
   ],
   "source": [
    "all_rmse.at[\"transfer model (fine-tuned only)\", \"RMSE\"] = discharge_model_fast.evaluate(\n",
    "    feat_test_scaled,\n",
    "    label_test, verbose=0) ** 0.5\n",
    "all_rmse"
   ]
  },
  {
   "cell_type": "markdown",
   "metadata": {},
   "source": [
    "## Layered Model's Weights\n",
    "Weights of the 13-node layer of the layered transfer model, as requested."
   ]
  },
  {
   "cell_type": "code",
   "execution_count": 56,
   "metadata": {},
   "outputs": [],
   "source": [
    "weight_df = pd.DataFrame(\n",
    "    transfer_model.layers[0].weights[0],\n",
    "    columns=batch_pd.drop(['policy','barcode','cycle_life','QDiffLinVar'], axis=1).columns,\n",
    "    index=[\"node {}\".format(n) for n in range(1,14)]\n",
    ")"
   ]
  },
  {
   "cell_type": "code",
   "execution_count": 38,
   "metadata": {},
   "outputs": [],
   "source": [
    "bias_df = pd.DataFrame(\n",
    "    transfer_model.layers[0].weights[1],\n",
    "    columns=[\"bias\"],\n",
    "    index=[\"node {}\".format(n) for n in range(1,14)]\n",
    ")"
   ]
  },
  {
   "cell_type": "code",
   "execution_count": 39,
   "metadata": {},
   "outputs": [
    {
     "data": {
      "text/html": [
       "<style type=\"text/css\">\n",
       "#T_9dcd5_row0_col0 {\n",
       "  background-color: #083674;\n",
       "  color: #f1f1f1;\n",
       "}\n",
       "#T_9dcd5_row0_col1, #T_9dcd5_row0_col3, #T_9dcd5_row0_col4, #T_9dcd5_row0_col5, #T_9dcd5_row0_col7, #T_9dcd5_row0_col8, #T_9dcd5_row0_col9, #T_9dcd5_row11_col1, #T_9dcd5_row11_col3, #T_9dcd5_row11_col4, #T_9dcd5_row11_col5, #T_9dcd5_row11_col7, #T_9dcd5_row11_col8, #T_9dcd5_row11_col9 {\n",
       "  background-color: #f2f7fd;\n",
       "  color: #000000;\n",
       "}\n",
       "#T_9dcd5_row0_col2, #T_9dcd5_row0_col6, #T_9dcd5_row0_col10, #T_9dcd5_row0_col11, #T_9dcd5_row11_col0, #T_9dcd5_row11_col2, #T_9dcd5_row11_col6, #T_9dcd5_row11_col10 {\n",
       "  background-color: #ebf3fb;\n",
       "  color: #000000;\n",
       "}\n",
       "#T_9dcd5_row0_col12, #T_9dcd5_row1_col12, #T_9dcd5_row2_col1, #T_9dcd5_row2_col3, #T_9dcd5_row2_col4, #T_9dcd5_row2_col5, #T_9dcd5_row2_col7, #T_9dcd5_row2_col8, #T_9dcd5_row2_col9, #T_9dcd5_row2_col12, #T_9dcd5_row3_col12, #T_9dcd5_row4_col12, #T_9dcd5_row5_col12, #T_9dcd5_row6_col12, #T_9dcd5_row7_col12, #T_9dcd5_row8_col12, #T_9dcd5_row9_col0, #T_9dcd5_row9_col1, #T_9dcd5_row9_col2, #T_9dcd5_row9_col3, #T_9dcd5_row9_col4, #T_9dcd5_row9_col5, #T_9dcd5_row9_col6, #T_9dcd5_row9_col7, #T_9dcd5_row9_col8, #T_9dcd5_row9_col10, #T_9dcd5_row9_col11, #T_9dcd5_row9_col12, #T_9dcd5_row10_col12, #T_9dcd5_row11_col12 {\n",
       "  background-color: #eef5fc;\n",
       "  color: #000000;\n",
       "}\n",
       "#T_9dcd5_row0_col13, #T_9dcd5_row2_col13, #T_9dcd5_row6_col13, #T_9dcd5_row10_col13, #T_9dcd5_row11_col13 {\n",
       "  background-color: #f7fbff;\n",
       "  color: #000000;\n",
       "  background-color: lightblue;\n",
       "}\n",
       "#T_9dcd5_row1_col0, #T_9dcd5_row1_col2, #T_9dcd5_row1_col6, #T_9dcd5_row1_col10, #T_9dcd5_row1_col11, #T_9dcd5_row6_col0, #T_9dcd5_row6_col2, #T_9dcd5_row6_col10, #T_9dcd5_row6_col11 {\n",
       "  background-color: #e6f0f9;\n",
       "  color: #000000;\n",
       "}\n",
       "#T_9dcd5_row1_col1 {\n",
       "  background-color: #08468b;\n",
       "  color: #f1f1f1;\n",
       "}\n",
       "#T_9dcd5_row1_col3, #T_9dcd5_row1_col4, #T_9dcd5_row1_col5, #T_9dcd5_row1_col7, #T_9dcd5_row1_col8, #T_9dcd5_row1_col9, #T_9dcd5_row3_col0, #T_9dcd5_row3_col2, #T_9dcd5_row3_col6, #T_9dcd5_row3_col10, #T_9dcd5_row3_col11, #T_9dcd5_row4_col0, #T_9dcd5_row4_col2, #T_9dcd5_row4_col6, #T_9dcd5_row4_col10, #T_9dcd5_row4_col11, #T_9dcd5_row5_col0, #T_9dcd5_row5_col2, #T_9dcd5_row5_col6, #T_9dcd5_row5_col10, #T_9dcd5_row5_col11, #T_9dcd5_row6_col1, #T_9dcd5_row6_col3, #T_9dcd5_row6_col4, #T_9dcd5_row6_col5, #T_9dcd5_row6_col7, #T_9dcd5_row6_col8, #T_9dcd5_row6_col9 {\n",
       "  background-color: #f7fbff;\n",
       "  color: #000000;\n",
       "}\n",
       "#T_9dcd5_row1_col13, #T_9dcd5_row3_col13, #T_9dcd5_row4_col13, #T_9dcd5_row5_col13, #T_9dcd5_row7_col13, #T_9dcd5_row8_col13, #T_9dcd5_row9_col13 {\n",
       "  background-color: #e6f0f9;\n",
       "  color: #000000;\n",
       "  background-color: lightblue;\n",
       "}\n",
       "#T_9dcd5_row2_col0, #T_9dcd5_row2_col6, #T_9dcd5_row2_col10, #T_9dcd5_row2_col11 {\n",
       "  background-color: #eff6fc;\n",
       "  color: #000000;\n",
       "}\n",
       "#T_9dcd5_row2_col2 {\n",
       "  background-color: #083b7c;\n",
       "  color: #f1f1f1;\n",
       "}\n",
       "#T_9dcd5_row3_col1, #T_9dcd5_row3_col4, #T_9dcd5_row3_col5, #T_9dcd5_row3_col7, #T_9dcd5_row3_col8, #T_9dcd5_row3_col9, #T_9dcd5_row4_col1, #T_9dcd5_row4_col3, #T_9dcd5_row4_col5, #T_9dcd5_row4_col7, #T_9dcd5_row4_col8, #T_9dcd5_row4_col9, #T_9dcd5_row5_col1, #T_9dcd5_row5_col3, #T_9dcd5_row5_col4, #T_9dcd5_row5_col7, #T_9dcd5_row5_col8, #T_9dcd5_row5_col9 {\n",
       "  background-color: #e7f0fa;\n",
       "  color: #000000;\n",
       "}\n",
       "#T_9dcd5_row3_col3, #T_9dcd5_row4_col4, #T_9dcd5_row5_col5, #T_9dcd5_row6_col6 {\n",
       "  background-color: #08306b;\n",
       "  color: #f1f1f1;\n",
       "}\n",
       "#T_9dcd5_row7_col0, #T_9dcd5_row7_col2, #T_9dcd5_row7_col6, #T_9dcd5_row7_col10, #T_9dcd5_row7_col11 {\n",
       "  background-color: #f5fafe;\n",
       "  color: #000000;\n",
       "}\n",
       "#T_9dcd5_row7_col1, #T_9dcd5_row7_col3, #T_9dcd5_row7_col4, #T_9dcd5_row7_col5, #T_9dcd5_row7_col8, #T_9dcd5_row7_col9 {\n",
       "  background-color: #e7f1fa;\n",
       "  color: #000000;\n",
       "}\n",
       "#T_9dcd5_row7_col7 {\n",
       "  background-color: #08326e;\n",
       "  color: #f1f1f1;\n",
       "}\n",
       "#T_9dcd5_row8_col0, #T_9dcd5_row8_col2, #T_9dcd5_row8_col6, #T_9dcd5_row8_col10, #T_9dcd5_row8_col11, #T_9dcd5_row10_col0, #T_9dcd5_row10_col2, #T_9dcd5_row10_col6, #T_9dcd5_row10_col11 {\n",
       "  background-color: #f5f9fe;\n",
       "  color: #000000;\n",
       "}\n",
       "#T_9dcd5_row8_col1, #T_9dcd5_row8_col3, #T_9dcd5_row8_col4, #T_9dcd5_row8_col5, #T_9dcd5_row8_col7, #T_9dcd5_row8_col9 {\n",
       "  background-color: #e8f1fa;\n",
       "  color: #000000;\n",
       "}\n",
       "#T_9dcd5_row8_col8 {\n",
       "  background-color: #083370;\n",
       "  color: #f1f1f1;\n",
       "}\n",
       "#T_9dcd5_row9_col9, #T_9dcd5_row12_col12 {\n",
       "  background-color: #083a7a;\n",
       "  color: #f1f1f1;\n",
       "}\n",
       "#T_9dcd5_row10_col1, #T_9dcd5_row10_col3, #T_9dcd5_row10_col4, #T_9dcd5_row10_col5, #T_9dcd5_row10_col7, #T_9dcd5_row10_col8, #T_9dcd5_row10_col9, #T_9dcd5_row12_col1, #T_9dcd5_row12_col3, #T_9dcd5_row12_col4, #T_9dcd5_row12_col5, #T_9dcd5_row12_col7, #T_9dcd5_row12_col8, #T_9dcd5_row12_col9 {\n",
       "  background-color: #e9f2fa;\n",
       "  color: #000000;\n",
       "}\n",
       "#T_9dcd5_row10_col10 {\n",
       "  background-color: #084387;\n",
       "  color: #f1f1f1;\n",
       "}\n",
       "#T_9dcd5_row11_col11 {\n",
       "  background-color: #083776;\n",
       "  color: #f1f1f1;\n",
       "}\n",
       "#T_9dcd5_row12_col0, #T_9dcd5_row12_col2, #T_9dcd5_row12_col6, #T_9dcd5_row12_col10, #T_9dcd5_row12_col11 {\n",
       "  background-color: #f4f9fe;\n",
       "  color: #000000;\n",
       "}\n",
       "#T_9dcd5_row12_col13 {\n",
       "  background-color: #eef5fc;\n",
       "  color: #000000;\n",
       "  background-color: lightblue;\n",
       "}\n",
       "</style>\n",
       "<table id=\"T_9dcd5\">\n",
       "  <thead>\n",
       "    <tr>\n",
       "      <th class=\"blank level0\" >&nbsp;</th>\n",
       "      <th id=\"T_9dcd5_level0_col0\" class=\"col_heading level0 col0\" >QD2</th>\n",
       "      <th id=\"T_9dcd5_level0_col1\" class=\"col_heading level0 col1\" >QD(Max-2)</th>\n",
       "      <th id=\"T_9dcd5_level0_col2\" class=\"col_heading level0 col2\" >QD100</th>\n",
       "      <th id=\"T_9dcd5_level0_col3\" class=\"col_heading level0 col3\" >QDiffMin</th>\n",
       "      <th id=\"T_9dcd5_level0_col4\" class=\"col_heading level0 col4\" >QDiffMean</th>\n",
       "      <th id=\"T_9dcd5_level0_col5\" class=\"col_heading level0 col5\" >QDiffVar</th>\n",
       "      <th id=\"T_9dcd5_level0_col6\" class=\"col_heading level0 col6\" >QDiffSkew</th>\n",
       "      <th id=\"T_9dcd5_level0_col7\" class=\"col_heading level0 col7\" >QDiffKurtosis</th>\n",
       "      <th id=\"T_9dcd5_level0_col8\" class=\"col_heading level0 col8\" >QDiffStart</th>\n",
       "      <th id=\"T_9dcd5_level0_col9\" class=\"col_heading level0 col9\" >R3Coef</th>\n",
       "      <th id=\"T_9dcd5_level0_col10\" class=\"col_heading level0 col10\" >R3Intercept</th>\n",
       "      <th id=\"T_9dcd5_level0_col11\" class=\"col_heading level0 col11\" >R1Coef</th>\n",
       "      <th id=\"T_9dcd5_level0_col12\" class=\"col_heading level0 col12\" >R1Intercept</th>\n",
       "      <th id=\"T_9dcd5_level0_col13\" class=\"col_heading level0 col13\" >bias</th>\n",
       "    </tr>\n",
       "  </thead>\n",
       "  <tbody>\n",
       "    <tr>\n",
       "      <th id=\"T_9dcd5_level0_row0\" class=\"row_heading level0 row0\" >node 1</th>\n",
       "      <td id=\"T_9dcd5_row0_col0\" class=\"data row0 col0\" >1.016682</td>\n",
       "      <td id=\"T_9dcd5_row0_col1\" class=\"data row0 col1\" >-0.016682</td>\n",
       "      <td id=\"T_9dcd5_row0_col2\" class=\"data row0 col2\" >0.016682</td>\n",
       "      <td id=\"T_9dcd5_row0_col3\" class=\"data row0 col3\" >-0.016682</td>\n",
       "      <td id=\"T_9dcd5_row0_col4\" class=\"data row0 col4\" >-0.016682</td>\n",
       "      <td id=\"T_9dcd5_row0_col5\" class=\"data row0 col5\" >-0.016682</td>\n",
       "      <td id=\"T_9dcd5_row0_col6\" class=\"data row0 col6\" >0.016682</td>\n",
       "      <td id=\"T_9dcd5_row0_col7\" class=\"data row0 col7\" >-0.016682</td>\n",
       "      <td id=\"T_9dcd5_row0_col8\" class=\"data row0 col8\" >-0.016682</td>\n",
       "      <td id=\"T_9dcd5_row0_col9\" class=\"data row0 col9\" >-0.016682</td>\n",
       "      <td id=\"T_9dcd5_row0_col10\" class=\"data row0 col10\" >0.016682</td>\n",
       "      <td id=\"T_9dcd5_row0_col11\" class=\"data row0 col11\" >0.016682</td>\n",
       "      <td id=\"T_9dcd5_row0_col12\" class=\"data row0 col12\" >0.000000</td>\n",
       "      <td id=\"T_9dcd5_row0_col13\" class=\"data row0 col13\" >-0.048554</td>\n",
       "    </tr>\n",
       "    <tr>\n",
       "      <th id=\"T_9dcd5_level0_row1\" class=\"row_heading level0 row1\" >node 2</th>\n",
       "      <td id=\"T_9dcd5_row1_col0\" class=\"data row1 col0\" >0.045723</td>\n",
       "      <td id=\"T_9dcd5_row1_col1\" class=\"data row1 col1\" >0.954277</td>\n",
       "      <td id=\"T_9dcd5_row1_col2\" class=\"data row1 col2\" >0.045723</td>\n",
       "      <td id=\"T_9dcd5_row1_col3\" class=\"data row1 col3\" >-0.045723</td>\n",
       "      <td id=\"T_9dcd5_row1_col4\" class=\"data row1 col4\" >-0.045723</td>\n",
       "      <td id=\"T_9dcd5_row1_col5\" class=\"data row1 col5\" >-0.045723</td>\n",
       "      <td id=\"T_9dcd5_row1_col6\" class=\"data row1 col6\" >0.045723</td>\n",
       "      <td id=\"T_9dcd5_row1_col7\" class=\"data row1 col7\" >-0.045723</td>\n",
       "      <td id=\"T_9dcd5_row1_col8\" class=\"data row1 col8\" >-0.045723</td>\n",
       "      <td id=\"T_9dcd5_row1_col9\" class=\"data row1 col9\" >-0.045723</td>\n",
       "      <td id=\"T_9dcd5_row1_col10\" class=\"data row1 col10\" >0.045723</td>\n",
       "      <td id=\"T_9dcd5_row1_col11\" class=\"data row1 col11\" >0.045723</td>\n",
       "      <td id=\"T_9dcd5_row1_col12\" class=\"data row1 col12\" >0.000000</td>\n",
       "      <td id=\"T_9dcd5_row1_col13\" class=\"data row1 col13\" >0.048554</td>\n",
       "    </tr>\n",
       "    <tr>\n",
       "      <th id=\"T_9dcd5_level0_row2\" class=\"row_heading level0 row2\" >node 3</th>\n",
       "      <td id=\"T_9dcd5_row2_col0\" class=\"data row2 col0\" >-0.003538</td>\n",
       "      <td id=\"T_9dcd5_row2_col1\" class=\"data row2 col1\" >0.003538</td>\n",
       "      <td id=\"T_9dcd5_row2_col2\" class=\"data row2 col2\" >0.996462</td>\n",
       "      <td id=\"T_9dcd5_row2_col3\" class=\"data row2 col3\" >0.003538</td>\n",
       "      <td id=\"T_9dcd5_row2_col4\" class=\"data row2 col4\" >0.003538</td>\n",
       "      <td id=\"T_9dcd5_row2_col5\" class=\"data row2 col5\" >0.003538</td>\n",
       "      <td id=\"T_9dcd5_row2_col6\" class=\"data row2 col6\" >-0.003538</td>\n",
       "      <td id=\"T_9dcd5_row2_col7\" class=\"data row2 col7\" >0.003538</td>\n",
       "      <td id=\"T_9dcd5_row2_col8\" class=\"data row2 col8\" >0.003538</td>\n",
       "      <td id=\"T_9dcd5_row2_col9\" class=\"data row2 col9\" >0.003538</td>\n",
       "      <td id=\"T_9dcd5_row2_col10\" class=\"data row2 col10\" >-0.003538</td>\n",
       "      <td id=\"T_9dcd5_row2_col11\" class=\"data row2 col11\" >-0.003538</td>\n",
       "      <td id=\"T_9dcd5_row2_col12\" class=\"data row2 col12\" >0.000000</td>\n",
       "      <td id=\"T_9dcd5_row2_col13\" class=\"data row2 col13\" >-0.048554</td>\n",
       "    </tr>\n",
       "    <tr>\n",
       "      <th id=\"T_9dcd5_level0_row3\" class=\"row_heading level0 row3\" >node 4</th>\n",
       "      <td id=\"T_9dcd5_row3_col0\" class=\"data row3 col0\" >-0.044698</td>\n",
       "      <td id=\"T_9dcd5_row3_col1\" class=\"data row3 col1\" >0.044698</td>\n",
       "      <td id=\"T_9dcd5_row3_col2\" class=\"data row3 col2\" >-0.044698</td>\n",
       "      <td id=\"T_9dcd5_row3_col3\" class=\"data row3 col3\" >1.044698</td>\n",
       "      <td id=\"T_9dcd5_row3_col4\" class=\"data row3 col4\" >0.044698</td>\n",
       "      <td id=\"T_9dcd5_row3_col5\" class=\"data row3 col5\" >0.044698</td>\n",
       "      <td id=\"T_9dcd5_row3_col6\" class=\"data row3 col6\" >-0.044698</td>\n",
       "      <td id=\"T_9dcd5_row3_col7\" class=\"data row3 col7\" >0.044698</td>\n",
       "      <td id=\"T_9dcd5_row3_col8\" class=\"data row3 col8\" >0.044698</td>\n",
       "      <td id=\"T_9dcd5_row3_col9\" class=\"data row3 col9\" >0.044698</td>\n",
       "      <td id=\"T_9dcd5_row3_col10\" class=\"data row3 col10\" >-0.044698</td>\n",
       "      <td id=\"T_9dcd5_row3_col11\" class=\"data row3 col11\" >-0.044698</td>\n",
       "      <td id=\"T_9dcd5_row3_col12\" class=\"data row3 col12\" >0.000000</td>\n",
       "      <td id=\"T_9dcd5_row3_col13\" class=\"data row3 col13\" >0.048554</td>\n",
       "    </tr>\n",
       "    <tr>\n",
       "      <th id=\"T_9dcd5_level0_row4\" class=\"row_heading level0 row4\" >node 5</th>\n",
       "      <td id=\"T_9dcd5_row4_col0\" class=\"data row4 col0\" >-0.044328</td>\n",
       "      <td id=\"T_9dcd5_row4_col1\" class=\"data row4 col1\" >0.044328</td>\n",
       "      <td id=\"T_9dcd5_row4_col2\" class=\"data row4 col2\" >-0.044328</td>\n",
       "      <td id=\"T_9dcd5_row4_col3\" class=\"data row4 col3\" >0.044328</td>\n",
       "      <td id=\"T_9dcd5_row4_col4\" class=\"data row4 col4\" >1.044328</td>\n",
       "      <td id=\"T_9dcd5_row4_col5\" class=\"data row4 col5\" >0.044328</td>\n",
       "      <td id=\"T_9dcd5_row4_col6\" class=\"data row4 col6\" >-0.044328</td>\n",
       "      <td id=\"T_9dcd5_row4_col7\" class=\"data row4 col7\" >0.044328</td>\n",
       "      <td id=\"T_9dcd5_row4_col8\" class=\"data row4 col8\" >0.044328</td>\n",
       "      <td id=\"T_9dcd5_row4_col9\" class=\"data row4 col9\" >0.044328</td>\n",
       "      <td id=\"T_9dcd5_row4_col10\" class=\"data row4 col10\" >-0.044328</td>\n",
       "      <td id=\"T_9dcd5_row4_col11\" class=\"data row4 col11\" >-0.044328</td>\n",
       "      <td id=\"T_9dcd5_row4_col12\" class=\"data row4 col12\" >0.000000</td>\n",
       "      <td id=\"T_9dcd5_row4_col13\" class=\"data row4 col13\" >0.048554</td>\n",
       "    </tr>\n",
       "    <tr>\n",
       "      <th id=\"T_9dcd5_level0_row5\" class=\"row_heading level0 row5\" >node 6</th>\n",
       "      <td id=\"T_9dcd5_row5_col0\" class=\"data row5 col0\" >-0.044513</td>\n",
       "      <td id=\"T_9dcd5_row5_col1\" class=\"data row5 col1\" >0.044513</td>\n",
       "      <td id=\"T_9dcd5_row5_col2\" class=\"data row5 col2\" >-0.044513</td>\n",
       "      <td id=\"T_9dcd5_row5_col3\" class=\"data row5 col3\" >0.044513</td>\n",
       "      <td id=\"T_9dcd5_row5_col4\" class=\"data row5 col4\" >0.044513</td>\n",
       "      <td id=\"T_9dcd5_row5_col5\" class=\"data row5 col5\" >1.044513</td>\n",
       "      <td id=\"T_9dcd5_row5_col6\" class=\"data row5 col6\" >-0.044513</td>\n",
       "      <td id=\"T_9dcd5_row5_col7\" class=\"data row5 col7\" >0.044513</td>\n",
       "      <td id=\"T_9dcd5_row5_col8\" class=\"data row5 col8\" >0.044513</td>\n",
       "      <td id=\"T_9dcd5_row5_col9\" class=\"data row5 col9\" >0.044513</td>\n",
       "      <td id=\"T_9dcd5_row5_col10\" class=\"data row5 col10\" >-0.044513</td>\n",
       "      <td id=\"T_9dcd5_row5_col11\" class=\"data row5 col11\" >-0.044513</td>\n",
       "      <td id=\"T_9dcd5_row5_col12\" class=\"data row5 col12\" >0.000000</td>\n",
       "      <td id=\"T_9dcd5_row5_col13\" class=\"data row5 col13\" >0.048554</td>\n",
       "    </tr>\n",
       "    <tr>\n",
       "      <th id=\"T_9dcd5_level0_row6\" class=\"row_heading level0 row6\" >node 7</th>\n",
       "      <td id=\"T_9dcd5_row6_col0\" class=\"data row6 col0\" >0.046226</td>\n",
       "      <td id=\"T_9dcd5_row6_col1\" class=\"data row6 col1\" >-0.046226</td>\n",
       "      <td id=\"T_9dcd5_row6_col2\" class=\"data row6 col2\" >0.046226</td>\n",
       "      <td id=\"T_9dcd5_row6_col3\" class=\"data row6 col3\" >-0.046226</td>\n",
       "      <td id=\"T_9dcd5_row6_col4\" class=\"data row6 col4\" >-0.046226</td>\n",
       "      <td id=\"T_9dcd5_row6_col5\" class=\"data row6 col5\" >-0.046226</td>\n",
       "      <td id=\"T_9dcd5_row6_col6\" class=\"data row6 col6\" >1.046226</td>\n",
       "      <td id=\"T_9dcd5_row6_col7\" class=\"data row6 col7\" >-0.046226</td>\n",
       "      <td id=\"T_9dcd5_row6_col8\" class=\"data row6 col8\" >-0.046226</td>\n",
       "      <td id=\"T_9dcd5_row6_col9\" class=\"data row6 col9\" >-0.046226</td>\n",
       "      <td id=\"T_9dcd5_row6_col10\" class=\"data row6 col10\" >0.046226</td>\n",
       "      <td id=\"T_9dcd5_row6_col11\" class=\"data row6 col11\" >0.046226</td>\n",
       "      <td id=\"T_9dcd5_row6_col12\" class=\"data row6 col12\" >0.000000</td>\n",
       "      <td id=\"T_9dcd5_row6_col13\" class=\"data row6 col13\" >-0.048554</td>\n",
       "    </tr>\n",
       "    <tr>\n",
       "      <th id=\"T_9dcd5_level0_row7\" class=\"row_heading level0 row7\" >node 8</th>\n",
       "      <td id=\"T_9dcd5_row7_col0\" class=\"data row7 col0\" >-0.037473</td>\n",
       "      <td id=\"T_9dcd5_row7_col1\" class=\"data row7 col1\" >0.037473</td>\n",
       "      <td id=\"T_9dcd5_row7_col2\" class=\"data row7 col2\" >-0.037473</td>\n",
       "      <td id=\"T_9dcd5_row7_col3\" class=\"data row7 col3\" >0.037473</td>\n",
       "      <td id=\"T_9dcd5_row7_col4\" class=\"data row7 col4\" >0.037473</td>\n",
       "      <td id=\"T_9dcd5_row7_col5\" class=\"data row7 col5\" >0.037473</td>\n",
       "      <td id=\"T_9dcd5_row7_col6\" class=\"data row7 col6\" >-0.037473</td>\n",
       "      <td id=\"T_9dcd5_row7_col7\" class=\"data row7 col7\" >1.037473</td>\n",
       "      <td id=\"T_9dcd5_row7_col8\" class=\"data row7 col8\" >0.037473</td>\n",
       "      <td id=\"T_9dcd5_row7_col9\" class=\"data row7 col9\" >0.037473</td>\n",
       "      <td id=\"T_9dcd5_row7_col10\" class=\"data row7 col10\" >-0.037473</td>\n",
       "      <td id=\"T_9dcd5_row7_col11\" class=\"data row7 col11\" >-0.037473</td>\n",
       "      <td id=\"T_9dcd5_row7_col12\" class=\"data row7 col12\" >0.000000</td>\n",
       "      <td id=\"T_9dcd5_row7_col13\" class=\"data row7 col13\" >0.048554</td>\n",
       "    </tr>\n",
       "    <tr>\n",
       "      <th id=\"T_9dcd5_level0_row8\" class=\"row_heading level0 row8\" >node 9</th>\n",
       "      <td id=\"T_9dcd5_row8_col0\" class=\"data row8 col0\" >-0.032809</td>\n",
       "      <td id=\"T_9dcd5_row8_col1\" class=\"data row8 col1\" >0.032809</td>\n",
       "      <td id=\"T_9dcd5_row8_col2\" class=\"data row8 col2\" >-0.032809</td>\n",
       "      <td id=\"T_9dcd5_row8_col3\" class=\"data row8 col3\" >0.032809</td>\n",
       "      <td id=\"T_9dcd5_row8_col4\" class=\"data row8 col4\" >0.032809</td>\n",
       "      <td id=\"T_9dcd5_row8_col5\" class=\"data row8 col5\" >0.032809</td>\n",
       "      <td id=\"T_9dcd5_row8_col6\" class=\"data row8 col6\" >-0.032809</td>\n",
       "      <td id=\"T_9dcd5_row8_col7\" class=\"data row8 col7\" >0.032809</td>\n",
       "      <td id=\"T_9dcd5_row8_col8\" class=\"data row8 col8\" >1.032809</td>\n",
       "      <td id=\"T_9dcd5_row8_col9\" class=\"data row8 col9\" >0.032809</td>\n",
       "      <td id=\"T_9dcd5_row8_col10\" class=\"data row8 col10\" >-0.032809</td>\n",
       "      <td id=\"T_9dcd5_row8_col11\" class=\"data row8 col11\" >-0.032809</td>\n",
       "      <td id=\"T_9dcd5_row8_col12\" class=\"data row8 col12\" >0.000000</td>\n",
       "      <td id=\"T_9dcd5_row8_col13\" class=\"data row8 col13\" >0.048554</td>\n",
       "    </tr>\n",
       "    <tr>\n",
       "      <th id=\"T_9dcd5_level0_row9\" class=\"row_heading level0 row9\" >node 10</th>\n",
       "      <td id=\"T_9dcd5_row9_col0\" class=\"data row9 col0\" >-0.001305</td>\n",
       "      <td id=\"T_9dcd5_row9_col1\" class=\"data row9 col1\" >0.001305</td>\n",
       "      <td id=\"T_9dcd5_row9_col2\" class=\"data row9 col2\" >-0.001305</td>\n",
       "      <td id=\"T_9dcd5_row9_col3\" class=\"data row9 col3\" >0.001305</td>\n",
       "      <td id=\"T_9dcd5_row9_col4\" class=\"data row9 col4\" >0.001305</td>\n",
       "      <td id=\"T_9dcd5_row9_col5\" class=\"data row9 col5\" >0.001305</td>\n",
       "      <td id=\"T_9dcd5_row9_col6\" class=\"data row9 col6\" >-0.001305</td>\n",
       "      <td id=\"T_9dcd5_row9_col7\" class=\"data row9 col7\" >0.001305</td>\n",
       "      <td id=\"T_9dcd5_row9_col8\" class=\"data row9 col8\" >0.001305</td>\n",
       "      <td id=\"T_9dcd5_row9_col9\" class=\"data row9 col9\" >1.001305</td>\n",
       "      <td id=\"T_9dcd5_row9_col10\" class=\"data row9 col10\" >-0.001305</td>\n",
       "      <td id=\"T_9dcd5_row9_col11\" class=\"data row9 col11\" >-0.001305</td>\n",
       "      <td id=\"T_9dcd5_row9_col12\" class=\"data row9 col12\" >0.000000</td>\n",
       "      <td id=\"T_9dcd5_row9_col13\" class=\"data row9 col13\" >0.048554</td>\n",
       "    </tr>\n",
       "    <tr>\n",
       "      <th id=\"T_9dcd5_level0_row10\" class=\"row_heading level0 row10\" >node 11</th>\n",
       "      <td id=\"T_9dcd5_row10_col0\" class=\"data row10 col0\" >-0.032197</td>\n",
       "      <td id=\"T_9dcd5_row10_col1\" class=\"data row10 col1\" >0.032197</td>\n",
       "      <td id=\"T_9dcd5_row10_col2\" class=\"data row10 col2\" >-0.032197</td>\n",
       "      <td id=\"T_9dcd5_row10_col3\" class=\"data row10 col3\" >0.032197</td>\n",
       "      <td id=\"T_9dcd5_row10_col4\" class=\"data row10 col4\" >0.032197</td>\n",
       "      <td id=\"T_9dcd5_row10_col5\" class=\"data row10 col5\" >0.032197</td>\n",
       "      <td id=\"T_9dcd5_row10_col6\" class=\"data row10 col6\" >-0.032197</td>\n",
       "      <td id=\"T_9dcd5_row10_col7\" class=\"data row10 col7\" >0.032197</td>\n",
       "      <td id=\"T_9dcd5_row10_col8\" class=\"data row10 col8\" >0.032197</td>\n",
       "      <td id=\"T_9dcd5_row10_col9\" class=\"data row10 col9\" >0.032197</td>\n",
       "      <td id=\"T_9dcd5_row10_col10\" class=\"data row10 col10\" >0.967803</td>\n",
       "      <td id=\"T_9dcd5_row10_col11\" class=\"data row10 col11\" >-0.032197</td>\n",
       "      <td id=\"T_9dcd5_row10_col12\" class=\"data row10 col12\" >0.000000</td>\n",
       "      <td id=\"T_9dcd5_row10_col13\" class=\"data row10 col13\" >-0.048554</td>\n",
       "    </tr>\n",
       "    <tr>\n",
       "      <th id=\"T_9dcd5_level0_row11\" class=\"row_heading level0 row11\" >node 12</th>\n",
       "      <td id=\"T_9dcd5_row11_col0\" class=\"data row11 col0\" >0.015897</td>\n",
       "      <td id=\"T_9dcd5_row11_col1\" class=\"data row11 col1\" >-0.015897</td>\n",
       "      <td id=\"T_9dcd5_row11_col2\" class=\"data row11 col2\" >0.015897</td>\n",
       "      <td id=\"T_9dcd5_row11_col3\" class=\"data row11 col3\" >-0.015897</td>\n",
       "      <td id=\"T_9dcd5_row11_col4\" class=\"data row11 col4\" >-0.015897</td>\n",
       "      <td id=\"T_9dcd5_row11_col5\" class=\"data row11 col5\" >-0.015897</td>\n",
       "      <td id=\"T_9dcd5_row11_col6\" class=\"data row11 col6\" >0.015897</td>\n",
       "      <td id=\"T_9dcd5_row11_col7\" class=\"data row11 col7\" >-0.015897</td>\n",
       "      <td id=\"T_9dcd5_row11_col8\" class=\"data row11 col8\" >-0.015897</td>\n",
       "      <td id=\"T_9dcd5_row11_col9\" class=\"data row11 col9\" >-0.015897</td>\n",
       "      <td id=\"T_9dcd5_row11_col10\" class=\"data row11 col10\" >0.015897</td>\n",
       "      <td id=\"T_9dcd5_row11_col11\" class=\"data row11 col11\" >1.015898</td>\n",
       "      <td id=\"T_9dcd5_row11_col12\" class=\"data row11 col12\" >0.000000</td>\n",
       "      <td id=\"T_9dcd5_row11_col13\" class=\"data row11 col13\" >-0.048554</td>\n",
       "    </tr>\n",
       "    <tr>\n",
       "      <th id=\"T_9dcd5_level0_row12\" class=\"row_heading level0 row12\" >node 13</th>\n",
       "      <td id=\"T_9dcd5_row12_col0\" class=\"data row12 col0\" >-0.030907</td>\n",
       "      <td id=\"T_9dcd5_row12_col1\" class=\"data row12 col1\" >0.030907</td>\n",
       "      <td id=\"T_9dcd5_row12_col2\" class=\"data row12 col2\" >-0.030907</td>\n",
       "      <td id=\"T_9dcd5_row12_col3\" class=\"data row12 col3\" >0.030907</td>\n",
       "      <td id=\"T_9dcd5_row12_col4\" class=\"data row12 col4\" >0.030907</td>\n",
       "      <td id=\"T_9dcd5_row12_col5\" class=\"data row12 col5\" >0.030907</td>\n",
       "      <td id=\"T_9dcd5_row12_col6\" class=\"data row12 col6\" >-0.030907</td>\n",
       "      <td id=\"T_9dcd5_row12_col7\" class=\"data row12 col7\" >0.030907</td>\n",
       "      <td id=\"T_9dcd5_row12_col8\" class=\"data row12 col8\" >0.030907</td>\n",
       "      <td id=\"T_9dcd5_row12_col9\" class=\"data row12 col9\" >0.030907</td>\n",
       "      <td id=\"T_9dcd5_row12_col10\" class=\"data row12 col10\" >-0.030907</td>\n",
       "      <td id=\"T_9dcd5_row12_col11\" class=\"data row12 col11\" >-0.030907</td>\n",
       "      <td id=\"T_9dcd5_row12_col12\" class=\"data row12 col12\" >1.000000</td>\n",
       "      <td id=\"T_9dcd5_row12_col13\" class=\"data row12 col13\" >0.000000</td>\n",
       "    </tr>\n",
       "  </tbody>\n",
       "</table>\n"
      ],
      "text/plain": [
       "<pandas.io.formats.style.Styler at 0x24352811780>"
      ]
     },
     "execution_count": 39,
     "metadata": {},
     "output_type": "execute_result"
    }
   ],
   "source": [
    "pd.concat(\n",
    "    [weight_df, bias_df], axis=1\n",
    ").style.background_gradient(\n",
    "    cmap ='Blues', axis=None\n",
    ").set_properties(\n",
    "    **{'background-color': 'lightblue'}, subset=['bias']\n",
    ")"
   ]
  }
 ],
 "metadata": {
  "kernelspec": {
   "display_name": "Python 3 (ipykernel)",
   "language": "python",
   "name": "python3"
  },
  "language_info": {
   "codemirror_mode": {
    "name": "ipython",
    "version": 3
   },
   "file_extension": ".py",
   "mimetype": "text/x-python",
   "name": "python",
   "nbconvert_exporter": "python",
   "pygments_lexer": "ipython3",
   "version": "3.10.4"
  },
  "orig_nbformat": 4,
  "vscode": {
   "interpreter": {
    "hash": "2d1c269d85ea927fa4a2eae91a9f369d4de5f9d0289c26f927fc6752ecdd3647"
   }
  }
 },
 "nbformat": 4,
 "nbformat_minor": 2
}
