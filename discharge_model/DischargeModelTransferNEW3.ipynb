{
 "cells": [
  {
   "cell_type": "markdown",
   "metadata": {},
   "source": [
    "# Transfer Model 3\n",
    "Simplify model structure of T1 further, and utilize FTRL which is optimized for shallow models."
   ]
  },
  {
   "cell_type": "code",
   "execution_count": 1,
   "metadata": {},
   "outputs": [],
   "source": [
    "import matplotlib.pyplot as plt\n",
    "import numpy as np\n",
    "import pandas as pd\n",
    "# import seaborn as sns\n",
    "import scipy\n",
    "import scipy.stats\n",
    "\n",
    "# Make NumPy printouts easier to read.\n",
    "np.set_printoptions(precision=3, suppress=True)"
   ]
  },
  {
   "cell_type": "code",
   "execution_count": 2,
   "metadata": {},
   "outputs": [
    {
     "name": "stderr",
     "output_type": "stream",
     "text": [
      "2022-08-19 17:29:34.306228: W tensorflow/stream_executor/platform/default/dso_loader.cc:64] Could not load dynamic library 'libcudart.so.11.0'; dlerror: libcudart.so.11.0: cannot open shared object file: No such file or directory\n",
      "2022-08-19 17:29:34.306252: I tensorflow/stream_executor/cuda/cudart_stub.cc:29] Ignore above cudart dlerror if you do not have a GPU set up on your machine.\n"
     ]
    },
    {
     "name": "stdout",
     "output_type": "stream",
     "text": [
      "2.9.1\n"
     ]
    }
   ],
   "source": [
    "import tensorflow as tf\n",
    "\n",
    "from tensorflow import keras\n",
    "from tensorflow.keras import layers\n",
    "\n",
    "print(tf.__version__)"
   ]
  },
  {
   "cell_type": "code",
   "execution_count": 3,
   "metadata": {},
   "outputs": [],
   "source": [
    "from sklearn import linear_model\n",
    "import sklearn.metrics"
   ]
  },
  {
   "cell_type": "code",
   "execution_count": 4,
   "metadata": {},
   "outputs": [],
   "source": [
    "import Training"
   ]
  },
  {
   "cell_type": "markdown",
   "metadata": {},
   "source": [
    "`N_CPUS` is the number of CPU cores to use for training. **Do not use more than half your physically installed cores.** Tensorflow appears to struggle with some race conditions if there are too many contesting threads; it doesn't crash and it doesn't skew the results, but it does complain of \"excessive graph retracing\"."
   ]
  },
  {
   "cell_type": "code",
   "execution_count": 5,
   "metadata": {},
   "outputs": [],
   "source": [
    "N_CPUS = 2\n",
    "iterations = 10"
   ]
  },
  {
   "cell_type": "code",
   "execution_count": null,
   "metadata": {},
   "outputs": [],
   "source": [
    "tf.config.set_logical_device_configuration(\n",
    "    tf.config.list_physical_devices('CPU')[0],\n",
    "    [tf.config.LogicalDeviceConfiguration() for n in range(N_CPUS)]\n",
    ")"
   ]
  },
  {
   "cell_type": "markdown",
   "metadata": {},
   "source": [
    "## Load Data"
   ]
  },
  {
   "cell_type": "code",
   "execution_count": 7,
   "metadata": {},
   "outputs": [],
   "source": [
    "featFileName = \"../data/features_combined.csv\"\n",
    "batch_pd = pd.read_csv(featFileName, index_col=False)"
   ]
  },
  {
   "cell_type": "code",
   "execution_count": 8,
   "metadata": {},
   "outputs": [
    {
     "data": {
      "text/html": [
       "<div>\n",
       "<style scoped>\n",
       "    .dataframe tbody tr th:only-of-type {\n",
       "        vertical-align: middle;\n",
       "    }\n",
       "\n",
       "    .dataframe tbody tr th {\n",
       "        vertical-align: top;\n",
       "    }\n",
       "\n",
       "    .dataframe thead th {\n",
       "        text-align: right;\n",
       "    }\n",
       "</style>\n",
       "<table border=\"1\" class=\"dataframe\">\n",
       "  <thead>\n",
       "    <tr style=\"text-align: right;\">\n",
       "      <th></th>\n",
       "      <th>policy</th>\n",
       "      <th>barcode</th>\n",
       "      <th>cycle_life</th>\n",
       "    </tr>\n",
       "  </thead>\n",
       "  <tbody>\n",
       "    <tr>\n",
       "      <th>0</th>\n",
       "      <td>3_6C-80PER_3_6C</td>\n",
       "      <td>???</td>\n",
       "      <td>1189.0</td>\n",
       "    </tr>\n",
       "    <tr>\n",
       "      <th>1</th>\n",
       "      <td>3_6C-80PER_3_6C</td>\n",
       "      <td>???</td>\n",
       "      <td>1178.0</td>\n",
       "    </tr>\n",
       "    <tr>\n",
       "      <th>2</th>\n",
       "      <td>3_6C-80PER_3_6C</td>\n",
       "      <td>???</td>\n",
       "      <td>1176.0</td>\n",
       "    </tr>\n",
       "    <tr>\n",
       "      <th>3</th>\n",
       "      <td>4C-80PER_4C</td>\n",
       "      <td>???</td>\n",
       "      <td>1225.0</td>\n",
       "    </tr>\n",
       "    <tr>\n",
       "      <th>4</th>\n",
       "      <td>4C-80PER_4C</td>\n",
       "      <td>???</td>\n",
       "      <td>1226.0</td>\n",
       "    </tr>\n",
       "    <tr>\n",
       "      <th>...</th>\n",
       "      <td>...</td>\n",
       "      <td>...</td>\n",
       "      <td>...</td>\n",
       "    </tr>\n",
       "    <tr>\n",
       "      <th>75</th>\n",
       "      <td>6C_31PER_4_25C</td>\n",
       "      <td>???</td>\n",
       "      <td>462.0</td>\n",
       "    </tr>\n",
       "    <tr>\n",
       "      <th>76</th>\n",
       "      <td>6C_40PER_4C</td>\n",
       "      <td>???</td>\n",
       "      <td>457.0</td>\n",
       "    </tr>\n",
       "    <tr>\n",
       "      <th>77</th>\n",
       "      <td>6C_4PER_4_75C</td>\n",
       "      <td>???</td>\n",
       "      <td>487.0</td>\n",
       "    </tr>\n",
       "    <tr>\n",
       "      <th>78</th>\n",
       "      <td>6C_52PER_3_5C</td>\n",
       "      <td>???</td>\n",
       "      <td>429.0</td>\n",
       "    </tr>\n",
       "    <tr>\n",
       "      <th>79</th>\n",
       "      <td>6C_60PER_3C</td>\n",
       "      <td>???</td>\n",
       "      <td>713.0</td>\n",
       "    </tr>\n",
       "  </tbody>\n",
       "</table>\n",
       "<p>80 rows × 3 columns</p>\n",
       "</div>"
      ],
      "text/plain": [
       "             policy barcode  cycle_life\n",
       "0   3_6C-80PER_3_6C     ???      1189.0\n",
       "1   3_6C-80PER_3_6C     ???      1178.0\n",
       "2   3_6C-80PER_3_6C     ???      1176.0\n",
       "3       4C-80PER_4C     ???      1225.0\n",
       "4       4C-80PER_4C     ???      1226.0\n",
       "..              ...     ...         ...\n",
       "75   6C_31PER_4_25C     ???       462.0\n",
       "76      6C_40PER_4C     ???       457.0\n",
       "77    6C_4PER_4_75C     ???       487.0\n",
       "78    6C_52PER_3_5C     ???       429.0\n",
       "79      6C_60PER_3C     ???       713.0\n",
       "\n",
       "[80 rows x 3 columns]"
      ]
     },
     "execution_count": 8,
     "metadata": {},
     "output_type": "execute_result"
    }
   ],
   "source": [
    "bat_info = batch_pd.loc[:,'policy':'cycle_life']\n",
    "bat_info"
   ]
  },
  {
   "cell_type": "code",
   "execution_count": 9,
   "metadata": {},
   "outputs": [
    {
     "data": {
      "text/plain": [
       "array([[ 1.071,  0.468,  1.076, ...,  1.091,  0.   ,  1.072],\n",
       "       [ 1.075,  0.009,  1.081, ...,  1.081, -0.   ,  1.085],\n",
       "       [ 1.08 ,  0.008,  1.085, ...,  1.085, -0.   ,  1.089],\n",
       "       ...,\n",
       "       [ 1.07 ,  0.005,  1.073, ...,  1.075, -0.   ,  1.081],\n",
       "       [ 1.073,  0.007,  1.08 , ...,  1.078, -0.   ,  1.081],\n",
       "       [ 1.042,  0.008,  1.047, ...,  1.049, -0.   ,  1.055]])"
      ]
     },
     "execution_count": 9,
     "metadata": {},
     "output_type": "execute_result"
    }
   ],
   "source": [
    "feat = batch_pd.drop(['policy','barcode','cycle_life','QDiffLinVar'], axis=1).to_numpy()\n",
    "feat"
   ]
  },
  {
   "cell_type": "code",
   "execution_count": 10,
   "metadata": {},
   "outputs": [],
   "source": [
    "# quoted: \"data fix\"\n",
    "feat[0,9] = 1.692e-5;\n",
    "feat[0,10] = 1.0750;\n",
    "\n",
    "feat[14,1] = 0.00397;\n",
    "feat[14,9] = -4.8296e-5;\n",
    "feat[14,10] = 1.0705;"
   ]
  },
  {
   "cell_type": "markdown",
   "metadata": {},
   "source": [
    "### Data Split\n",
    "fast-normal charging split and then train-test split"
   ]
  },
  {
   "cell_type": "code",
   "execution_count": 11,
   "metadata": {},
   "outputs": [],
   "source": [
    "fast_charge_indices = bat_info['policy'].str.match(\"^[5-8].*C\")\n",
    "slow_charge_feat = feat[~fast_charge_indices]\n",
    "slow_charge_label = bat_info[\"cycle_life\"][~fast_charge_indices]\n",
    "fast_charge_feat = feat[fast_charge_indices]\n",
    "fast_charge_label = bat_info[\"cycle_life\"][fast_charge_indices]"
   ]
  },
  {
   "cell_type": "code",
   "execution_count": 12,
   "metadata": {},
   "outputs": [],
   "source": [
    "feat_train = slow_charge_feat[0::2]\n",
    "feat_test = slow_charge_feat[1::2]\n",
    "label_train = slow_charge_label[0::2]\n",
    "label_test = slow_charge_label[1::2]"
   ]
  },
  {
   "cell_type": "code",
   "execution_count": 13,
   "metadata": {},
   "outputs": [],
   "source": [
    "# scale data\n",
    "feat_train_scaled = scipy.stats.zscore(feat_train)\n",
    "feat_test_scaled = scipy.stats.zmap(feat_test, feat_train)"
   ]
  },
  {
   "cell_type": "markdown",
   "metadata": {},
   "source": [
    "## Load Base Model\n",
    "Load the 'base' model trained on 'fast charging' data subset."
   ]
  },
  {
   "cell_type": "code",
   "execution_count": 14,
   "metadata": {},
   "outputs": [],
   "source": [
    "def load_base_model():\n",
    "    model = keras.models.load_model('../discharge_model/saved_model/DischargeModelFastTF')\n",
    "    return model"
   ]
  },
  {
   "cell_type": "code",
   "execution_count": 15,
   "metadata": {},
   "outputs": [
    {
     "name": "stdout",
     "output_type": "stream",
     "text": [
      "Model: \"sequential\"\n",
      "_________________________________________________________________\n",
      " Layer (type)                Output Shape              Param #   \n",
      "=================================================================\n",
      " dense (Dense)               (None, 1)                 14        \n",
      "                                                                 \n",
      "=================================================================\n",
      "Total params: 14\n",
      "Trainable params: 14\n",
      "Non-trainable params: 0\n",
      "_________________________________________________________________\n"
     ]
    }
   ],
   "source": [
    "discharge_model_fast = load_base_model()\n",
    "discharge_model_fast.summary()"
   ]
  },
  {
   "cell_type": "code",
   "execution_count": 55,
   "metadata": {},
   "outputs": [
    {
     "data": {
      "text/plain": [
       "170.57145451027262"
      ]
     },
     "execution_count": 55,
     "metadata": {},
     "output_type": "execute_result"
    }
   ],
   "source": [
    "# RMSE of fast-charge base model on normal-charge test set\n",
    "discharge_model_fast.evaluate(\n",
    "    feat_test_scaled,\n",
    "    label_test,\n",
    "    verbose=0\n",
    ") ** 0.5"
   ]
  },
  {
   "cell_type": "markdown",
   "metadata": {},
   "source": [
    "## Model Building\n",
    "Custom layer that performs a single n-feature element-wise multiply instead of utilizing 13 nodes with individual dot product."
   ]
  },
  {
   "cell_type": "code",
   "execution_count": 29,
   "metadata": {},
   "outputs": [],
   "source": [
    "class FusedMultiplyAdd(layers.Layer):\n",
    "    def __init__(self,\n",
    "        kernel_initializer='glorot_uniform',\n",
    "        bias_initializer='zeros',\n",
    "        kernel_regularizer=None\n",
    "    ) -> None:\n",
    "        super(FusedMultiplyAdd, self).__init__()\n",
    "        self.kernel_init = kernel_initializer\n",
    "        self.bias_init = bias_initializer\n",
    "        self.kernel_reg=kernel_regularizer\n",
    "    def build(self, input_shape):\n",
    "        self.kernel = self.add_weight(\"kernel\",\n",
    "            shape=(input_shape[-1],),\n",
    "            initializer=self.kernel_init,\n",
    "            regularizer=self.kernel_reg,\n",
    "            trainable=True)\n",
    "        self.bias = self.add_weight(\"bias\",\n",
    "            shape=(input_shape[-1],),\n",
    "            initializer=self.bias_init,\n",
    "            trainable=True)\n",
    "    def call(self, inputs):\n",
    "        return tf.add(\n",
    "            tf.multiply(inputs, self.kernel),\n",
    "            self.bias\n",
    "        )"
   ]
  },
  {
   "cell_type": "code",
   "execution_count": 17,
   "metadata": {},
   "outputs": [],
   "source": [
    "def make_FTRL_transfer_model():\n",
    "    base_model = load_base_model()\n",
    "    base_model.trainable = False\n",
    "\n",
    "    transfer_model = keras.models.Sequential([\n",
    "        FusedMultiplyAdd(kernel_initializer='ones'),\n",
    "        base_model\n",
    "    ])\n",
    "    \n",
    "    # Initialize layer shape to match training batch size\n",
    "    transfer_model(feat_train_scaled)\n",
    "\n",
    "    transfer_model.compile(\n",
    "        optimizer=keras.optimizers.Ftrl(\n",
    "            learning_rate=0.0001,\n",
    "            learning_rate_power=-0.1,\n",
    "            l1_regularization_strength=0.9,\n",
    "            l2_regularization_strength=0.1\n",
    "        ),\n",
    "        loss='mean_squared_error')\n",
    "    \n",
    "    return transfer_model"
   ]
  },
  {
   "cell_type": "code",
   "execution_count": 41,
   "metadata": {},
   "outputs": [],
   "source": [
    "def make_ADAM_transfer_model():\n",
    "    base_model = load_base_model()\n",
    "    base_model.trainable = False\n",
    "\n",
    "    transfer_model = keras.models.Sequential([\n",
    "        FusedMultiplyAdd(kernel_initializer='ones'),\n",
    "        base_model\n",
    "    ])\n",
    "    \n",
    "    # Initialize layer shape to match training batch size\n",
    "    transfer_model(feat_train_scaled)\n",
    "\n",
    "    transfer_model.compile(\n",
    "        optimizer=keras.optimizers.Adam(learning_rate=0.0002),\n",
    "        loss='mean_squared_error')\n",
    "    \n",
    "    return transfer_model"
   ]
  },
  {
   "cell_type": "markdown",
   "metadata": {},
   "source": [
    "## Train Models\n",
    "Note: All models are using early-stopping"
   ]
  },
  {
   "cell_type": "code",
   "execution_count": 19,
   "metadata": {},
   "outputs": [],
   "source": [
    "cpus = [device.name for device in tf.config.list_logical_devices()]"
   ]
  },
  {
   "cell_type": "code",
   "execution_count": 47,
   "metadata": {},
   "outputs": [
    {
     "name": "stdout",
     "output_type": "stream",
     "text": [
      "Training on /device:CPU:0\n",
      "Training on /device:CPU:1\n",
      "Training on /device:CPU:0\n",
      "Training on /device:CPU:1\n",
      "Training on /device:CPU:0\n",
      "Training on /device:CPU:1\n",
      "Training on /device:CPU:0\n",
      "Training on /device:CPU:1\n",
      "Training on /device:CPU:0\n",
      "Training on /device:CPU:1\n"
     ]
    }
   ],
   "source": [
    "results1 = Training.multithread_train(\n",
    "    feat_train_scaled,\n",
    "    label_train,\n",
    "    feat_test_scaled,\n",
    "    label_test,\n",
    "    make_FTRL_transfer_model,\n",
    "    device_list=np.resize(cpus, 10),\n",
    "    epochs=1000,\n",
    "    num_threads=len(cpus)\n",
    ")"
   ]
  },
  {
   "cell_type": "code",
   "execution_count": 42,
   "metadata": {},
   "outputs": [
    {
     "name": "stdout",
     "output_type": "stream",
     "text": [
      "Training on /device:CPU:0\n",
      "Training on /device:CPU:1\n",
      "Training on /device:CPU:0\n",
      "Training on /device:CPU:1\n",
      "Training on /device:CPU:0\n",
      "Training on /device:CPU:1\n",
      "Training on /device:CPU:0\n",
      "Training on /device:CPU:1\n",
      "Training on /device:CPU:0\n",
      "Training on /device:CPU:1\n"
     ]
    }
   ],
   "source": [
    "results2 = Training.multithread_train(\n",
    "    feat_train_scaled,\n",
    "    label_train,\n",
    "    feat_test_scaled,\n",
    "    label_test,\n",
    "    make_ADAM_transfer_model,\n",
    "    device_list=np.resize(cpus, 10),\n",
    "    epochs=1000,\n",
    "    num_threads=len(cpus)\n",
    ")"
   ]
  },
  {
   "cell_type": "markdown",
   "metadata": {},
   "source": [
    "## Evaluate Models"
   ]
  },
  {
   "cell_type": "markdown",
   "metadata": {},
   "source": [
    "### TensorFlow Per-Run RMSE"
   ]
  },
  {
   "cell_type": "code",
   "execution_count": 48,
   "metadata": {},
   "outputs": [],
   "source": [
    "FTRL_RMSE = pd.DataFrame(results1)\n",
    "ADAM_RMSE = pd.DataFrame(results2)"
   ]
  },
  {
   "cell_type": "code",
   "execution_count": 49,
   "metadata": {},
   "outputs": [
    {
     "data": {
      "text/html": [
       "<div>\n",
       "<style scoped>\n",
       "    .dataframe tbody tr th:only-of-type {\n",
       "        vertical-align: middle;\n",
       "    }\n",
       "\n",
       "    .dataframe tbody tr th {\n",
       "        vertical-align: top;\n",
       "    }\n",
       "\n",
       "    .dataframe thead th {\n",
       "        text-align: right;\n",
       "    }\n",
       "</style>\n",
       "<table border=\"1\" class=\"dataframe\">\n",
       "  <thead>\n",
       "    <tr style=\"text-align: right;\">\n",
       "      <th></th>\n",
       "      <th>FTRL</th>\n",
       "      <th>ADAM</th>\n",
       "    </tr>\n",
       "  </thead>\n",
       "  <tbody>\n",
       "    <tr>\n",
       "      <th>0</th>\n",
       "      <td>130.045184</td>\n",
       "      <td>150.016503</td>\n",
       "    </tr>\n",
       "    <tr>\n",
       "      <th>1</th>\n",
       "      <td>130.045184</td>\n",
       "      <td>150.016510</td>\n",
       "    </tr>\n",
       "    <tr>\n",
       "      <th>2</th>\n",
       "      <td>130.045184</td>\n",
       "      <td>150.016503</td>\n",
       "    </tr>\n",
       "    <tr>\n",
       "      <th>3</th>\n",
       "      <td>130.045184</td>\n",
       "      <td>150.016503</td>\n",
       "    </tr>\n",
       "    <tr>\n",
       "      <th>4</th>\n",
       "      <td>130.045184</td>\n",
       "      <td>150.016503</td>\n",
       "    </tr>\n",
       "    <tr>\n",
       "      <th>5</th>\n",
       "      <td>130.045184</td>\n",
       "      <td>150.016503</td>\n",
       "    </tr>\n",
       "    <tr>\n",
       "      <th>6</th>\n",
       "      <td>130.045184</td>\n",
       "      <td>150.016503</td>\n",
       "    </tr>\n",
       "    <tr>\n",
       "      <th>7</th>\n",
       "      <td>130.045184</td>\n",
       "      <td>150.016503</td>\n",
       "    </tr>\n",
       "    <tr>\n",
       "      <th>8</th>\n",
       "      <td>130.045192</td>\n",
       "      <td>150.016503</td>\n",
       "    </tr>\n",
       "    <tr>\n",
       "      <th>9</th>\n",
       "      <td>130.045192</td>\n",
       "      <td>150.016503</td>\n",
       "    </tr>\n",
       "  </tbody>\n",
       "</table>\n",
       "</div>"
      ],
      "text/plain": [
       "         FTRL        ADAM\n",
       "0  130.045184  150.016503\n",
       "1  130.045184  150.016510\n",
       "2  130.045184  150.016503\n",
       "3  130.045184  150.016503\n",
       "4  130.045184  150.016503\n",
       "5  130.045184  150.016503\n",
       "6  130.045184  150.016503\n",
       "7  130.045184  150.016503\n",
       "8  130.045192  150.016503\n",
       "9  130.045192  150.016503"
      ]
     },
     "execution_count": 49,
     "metadata": {},
     "output_type": "execute_result"
    }
   ],
   "source": [
    "all_RMSE = pd.concat([FTRL_RMSE['RMSE'], ADAM_RMSE['RMSE']], axis=1, keys=['FTRL','ADAM'])\n",
    "all_RMSE"
   ]
  },
  {
   "cell_type": "code",
   "execution_count": 50,
   "metadata": {},
   "outputs": [
    {
     "data": {
      "text/html": [
       "<div>\n",
       "<style scoped>\n",
       "    .dataframe tbody tr th:only-of-type {\n",
       "        vertical-align: middle;\n",
       "    }\n",
       "\n",
       "    .dataframe tbody tr th {\n",
       "        vertical-align: top;\n",
       "    }\n",
       "\n",
       "    .dataframe thead th {\n",
       "        text-align: right;\n",
       "    }\n",
       "</style>\n",
       "<table border=\"1\" class=\"dataframe\">\n",
       "  <thead>\n",
       "    <tr style=\"text-align: right;\">\n",
       "      <th></th>\n",
       "      <th>count</th>\n",
       "      <th>mean</th>\n",
       "      <th>std</th>\n",
       "      <th>min</th>\n",
       "      <th>max</th>\n",
       "    </tr>\n",
       "  </thead>\n",
       "  <tbody>\n",
       "    <tr>\n",
       "      <th>FTRL</th>\n",
       "      <td>10.0</td>\n",
       "      <td>130.045186</td>\n",
       "      <td>0.000003</td>\n",
       "      <td>130.045184</td>\n",
       "      <td>130.045192</td>\n",
       "    </tr>\n",
       "    <tr>\n",
       "      <th>ADAM</th>\n",
       "      <td>10.0</td>\n",
       "      <td>150.016504</td>\n",
       "      <td>0.000002</td>\n",
       "      <td>150.016503</td>\n",
       "      <td>150.016510</td>\n",
       "    </tr>\n",
       "  </tbody>\n",
       "</table>\n",
       "</div>"
      ],
      "text/plain": [
       "      count        mean       std         min         max\n",
       "FTRL   10.0  130.045186  0.000003  130.045184  130.045192\n",
       "ADAM   10.0  150.016504  0.000002  150.016503  150.016510"
      ]
     },
     "execution_count": 50,
     "metadata": {},
     "output_type": "execute_result"
    }
   ],
   "source": [
    "RMSE_stats = all_RMSE.describe().transpose().drop(['25%', '50%', '75%'], axis=1)\n",
    "RMSE_stats"
   ]
  },
  {
   "cell_type": "markdown",
   "metadata": {},
   "source": [
    "### Loss Graphs"
   ]
  },
  {
   "cell_type": "code",
   "execution_count": 51,
   "metadata": {},
   "outputs": [],
   "source": [
    "def plot_loss(history, ylims = [100, 300], ax_names={'loss': 'loss', 'val_loss': 'val_loss'}):\n",
    "    plt.plot(np.sqrt(history.history['loss']), 'b', label=ax_names['loss'])\n",
    "    plt.plot(np.sqrt(history.history['val_loss']), 'r', label=ax_names['val_loss'])\n",
    "    plt.ylim(ylims)\n",
    "    plt.xlabel('Epoch')\n",
    "    plt.ylabel('Error [cycles]')\n",
    "    plt.legend()\n",
    "    plt.grid(True)\n",
    "    # plt.show()"
   ]
  },
  {
   "cell_type": "markdown",
   "metadata": {},
   "source": [
    "Runs of all ten FTRL transfer models overlaid on the same graph"
   ]
  },
  {
   "cell_type": "code",
   "execution_count": 52,
   "metadata": {},
   "outputs": [
    {
     "data": {
      "image/png": "[encoded data removed]",
      "text/plain": [
       "<Figure size 800x500 with 1 Axes>"
      ]
     },
     "metadata": {},
     "output_type": "display_data"
    }
   ],
   "source": [
    "plt.figure('FTRLLoss', figsize=(8,5), dpi=100, facecolor='w', edgecolor='k')\n",
    "for i in range(len(FTRL_RMSE)):\n",
    "    plot_loss(FTRL_RMSE['history'][i],\n",
    "        ylims=[50,200],\n",
    "        ax_names={\n",
    "            'loss': 'train '+str(i),\n",
    "            'val_loss': 'test '+str(i)\n",
    "        })\n",
    "plt.show()"
   ]
  },
  {
   "cell_type": "markdown",
   "metadata": {},
   "source": [
    "Runs of all ten ADAM transfer models overlaid on the same graph"
   ]
  },
  {
   "cell_type": "code",
   "execution_count": 53,
   "metadata": {},
   "outputs": [
    {
     "data": {
      "image/png": "[encoded data removed]",
      "text/plain": [
       "<Figure size 800x500 with 1 Axes>"
      ]
     },
     "metadata": {},
     "output_type": "display_data"
    }
   ],
   "source": [
    "plt.figure('ADAMLoss', figsize=(8,5), dpi=100, facecolor='w', edgecolor='k')\n",
    "for i in range(len(ADAM_RMSE)):\n",
    "    plot_loss(ADAM_RMSE['history'][i],\n",
    "        ylims=[50,200],\n",
    "        ax_names={\n",
    "            'loss': 'train '+str(i),\n",
    "            'val_loss': 'test '+str(i)\n",
    "        })\n",
    "plt.show()"
   ]
  }
 ],
 "metadata": {
  "kernelspec": {
   "display_name": "Python 3.10.4 ('.venv': venv)",
   "language": "python",
   "name": "python3"
  },
  "language_info": {
   "codemirror_mode": {
    "name": "ipython",
    "version": 3
   },
   "file_extension": ".py",
   "mimetype": "text/x-python",
   "name": "python",
   "nbconvert_exporter": "python",
   "pygments_lexer": "ipython3",
   "version": "3.10.4"
  },
  "orig_nbformat": 4,
  "vscode": {
   "interpreter": {
    "hash": "4accbf921f60cc410596a13496b56591967f7b01f4ae9e2ad45937d1c904e201"
   }
  }
 },
 "nbformat": 4,
 "nbformat_minor": 2
}
