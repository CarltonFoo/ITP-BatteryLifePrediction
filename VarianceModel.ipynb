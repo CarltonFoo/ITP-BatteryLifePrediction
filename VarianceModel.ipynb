{
 "cells": [
  {
   "cell_type": "code",
   "execution_count": null,
   "id": "9ed2a2ec",
   "metadata": {},
   "outputs": [],
   "source": [
    "%pip install numpy pandas matplotlib scikit-learn h5py"
   ]
  },
  {
   "cell_type": "code",
   "execution_count": 1,
   "id": "f4393273",
   "metadata": {},
   "outputs": [],
   "source": [
    "import h5py\n",
    "import scipy.io as sio\n",
    "import scipy.stats\n",
    "import matplotlib.pyplot as plt\n",
    "import numpy as np\n",
    "import pandas as pd"
   ]
  },
  {
   "cell_type": "markdown",
   "id": "1606ddf6",
   "metadata": {},
   "source": [
    "## Load File"
   ]
  },
  {
   "cell_type": "code",
   "execution_count": 2,
   "id": "979f3c0b",
   "metadata": {},
   "outputs": [],
   "source": [
    "matFilename = '/Users/guancong/Desktop/sch/3110_ITP/BatteryLifeTimeML/Data/2017-05-12_batchdata_updated_struct_errorcorrect.mat'\n",
    "f = h5py.File(matFilename)"
   ]
  },
  {
   "cell_type": "code",
   "execution_count": 3,
   "id": "91d3b841",
   "metadata": {},
   "outputs": [
    {
     "data": {
      "text/plain": [
       "['Vdlin',\n",
       " 'barcode',\n",
       " 'channel_id',\n",
       " 'cycle_life',\n",
       " 'cycles',\n",
       " 'policy',\n",
       " 'policy_readable',\n",
       " 'summary']"
      ]
     },
     "execution_count": 3,
     "metadata": {},
     "output_type": "execute_result"
    }
   ],
   "source": [
    "batch = f['batch']\n",
    "list(batch.keys())"
   ]
  },
  {
   "cell_type": "code",
   "execution_count": 4,
   "id": "c9a60afc",
   "metadata": {},
   "outputs": [
    {
     "name": "stdout",
     "output_type": "stream",
     "text": [
      "hello world\n"
     ]
    }
   ],
   "source": [
    "num_cells = batch['summary'].shape[0]\n",
    "num_cells"
   ]
  },
  {
   "cell_type": "code",
   "execution_count": 28,
   "id": "b047ec6d",
   "metadata": {},
   "outputs": [
    {
     "ename": "TypeError",
     "evalue": "'builtin_function_or_method' object is not subscriptable",
     "output_type": "error",
     "traceback": [
      "\u001b[0;31m---------------------------------------------------------------------------\u001b[0m",
      "\u001b[0;31mTypeError\u001b[0m                                 Traceback (most recent call last)",
      "\u001b[1;32m/Users/guancong/Desktop/sch/3110_ITP/repositories/ITP-BatteryLifePrediction/VarianceModel.ipynb Cell 7'\u001b[0m in \u001b[0;36m<cell line: 5>\u001b[0;34m()\u001b[0m\n\u001b[1;32m      <a href='vscode-notebook-cell:/Users/guancong/Desktop/sch/3110_ITP/repositories/ITP-BatteryLifePrediction/VarianceModel.ipynb#ch0000006?line=1'>2</a>\u001b[0m objectref \u001b[39m=\u001b[39m cl[\u001b[39m1\u001b[39m,\u001b[39m0\u001b[39m] \u001b[39m# object reference of the first cycle life\u001b[39;00m\n\u001b[1;32m      <a href='vscode-notebook-cell:/Users/guancong/Desktop/sch/3110_ITP/repositories/ITP-BatteryLifePrediction/VarianceModel.ipynb#ch0000006?line=2'>3</a>\u001b[0m x \u001b[39m=\u001b[39m f[objectref][:] \u001b[39m# gets the value of the cell by deferencing the object reference\u001b[39;00m\n\u001b[0;32m----> <a href='vscode-notebook-cell:/Users/guancong/Desktop/sch/3110_ITP/repositories/ITP-BatteryLifePrediction/VarianceModel.ipynb#ch0000006?line=4'>5</a>\u001b[0m cl[np\u001b[39m.\u001b[39marray[np\u001b[39m.\u001b[39;49marange[\u001b[39m1\u001b[39;49m,\u001b[39m4\u001b[39;49m]]] \u001b[39m=\u001b[39m []\n\u001b[1;32m      <a href='vscode-notebook-cell:/Users/guancong/Desktop/sch/3110_ITP/repositories/ITP-BatteryLifePrediction/VarianceModel.ipynb#ch0000006?line=5'>6</a>\u001b[0m cl[\u001b[39m0\u001b[39m:\u001b[39m10\u001b[39m]\n",
      "\u001b[0;31mTypeError\u001b[0m: 'builtin_function_or_method' object is not subscriptable"
     ]
    }
   ],
   "source": [
    "cl = batch['cycle_life'][:] # cycle life using batch group\n",
    "objectref = cl[1,0] # object reference of the first cycle life\n",
    "x = f[objectref][:] # gets the value of the cell by deferencing the object reference\n",
    "\n",
    "cl[np.array[np.arange[1,4]]] = []\n",
    "cl[0:10]\n",
    "\n"
   ]
  },
  {
   "cell_type": "code",
   "execution_count": 9,
   "id": "2f2553fc",
   "metadata": {},
   "outputs": [
    {
     "ename": "TypeError",
     "evalue": "'builtin_function_or_method' object is not subscriptable",
     "output_type": "error",
     "traceback": [
      "\u001b[0;31m---------------------------------------------------------------------------\u001b[0m",
      "\u001b[0;31mTypeError\u001b[0m                                 Traceback (most recent call last)",
      "\u001b[1;32m/Users/guancong/Desktop/sch/3110_ITP/repositories/ITP-BatteryLifePrediction/VarianceModel.ipynb Cell 8'\u001b[0m in \u001b[0;36m<cell line: 2>\u001b[0;34m()\u001b[0m\n\u001b[1;32m      <a href='vscode-notebook-cell:/Users/guancong/Desktop/sch/3110_ITP/repositories/ITP-BatteryLifePrediction/VarianceModel.ipynb#ch0000007?line=0'>1</a>\u001b[0m \u001b[39m#remove batteries continuing from batch 1\u001b[39;00m\n\u001b[0;32m----> <a href='vscode-notebook-cell:/Users/guancong/Desktop/sch/3110_ITP/repositories/ITP-BatteryLifePrediction/VarianceModel.ipynb#ch0000007?line=1'>2</a>\u001b[0m batch[np\u001b[39m.\u001b[39marray[[np\u001b[39m.\u001b[39;49marange[\u001b[39m8\u001b[39;49m,\u001b[39m10\u001b[39;49m\u001b[39m+\u001b[39;49m\u001b[39m1\u001b[39;49m],np\u001b[39m.\u001b[39marange[\u001b[39m16\u001b[39m,\u001b[39m17\u001b[39m\u001b[39m+\u001b[39m\u001b[39m1\u001b[39m]]]] \u001b[39m=\u001b[39m []\n\u001b[1;32m      <a href='vscode-notebook-cell:/Users/guancong/Desktop/sch/3110_ITP/repositories/ITP-BatteryLifePrediction/VarianceModel.ipynb#ch0000007?line=2'>3</a>\u001b[0m batch2 \u001b[39m=\u001b[39m batch\n\u001b[1;32m      <a href='vscode-notebook-cell:/Users/guancong/Desktop/sch/3110_ITP/repositories/ITP-BatteryLifePrediction/VarianceModel.ipynb#ch0000007?line=3'>4</a>\u001b[0m numBat2 \u001b[39m=\u001b[39m batch2\u001b[39m.\u001b[39mshape[\u001b[39m2\u001b[39m\u001b[39m-\u001b[39m\u001b[39m1\u001b[39m]\n",
      "\u001b[0;31mTypeError\u001b[0m: 'builtin_function_or_method' object is not subscriptable"
     ]
    }
   ],
   "source": [
    "#remove batteries continuing from batch 1\n",
    "batch[np.array[[np.arange[8,10+1],np.arange[16,17+1]]]] = []\n",
    "batch2 = batch\n",
    "numBat2 = batch2.shape[2-1]\n",
    "batch_combined = np.array([batch1,batch2])\n",
    "numBat = numBat1 + numBat2\n",
    "#remove the batteries that do not finish in Batch 1\n",
    "batch_combined[np.array[[9,11,13,14,23]]] = []\n",
    "numBat = numBat - 5\n",
    "numBat1 = numBat1 - 5"
   ]
  },
  {
   "cell_type": "markdown",
   "id": "3b4285ea",
   "metadata": {},
   "source": [
    "## Outputs"
   ]
  },
  {
   "cell_type": "code",
   "execution_count": null,
   "id": "f118efbe",
   "metadata": {},
   "outputs": [],
   "source": [
    "bat_label = np.zeros((numBat,1))\n",
    "for i in np.arange(1,numBat1+1).reshape(-1):\n",
    "    bat_label[i] = batch_combined(i).cycles.shape[2-1]\n",
    "\n",
    "for i in np.arange(1,numBat2+1).reshape(-1):\n",
    "    if batch2(i).summary.QDischarge(end()) < 0.88:\n",
    "        bat_label[i + numBat1] = find(batch2(i).summary.QDischarge < 0.88,1)\n",
    "    else:\n",
    "        bat_label[i + numBat1] = batch2(i).cycles.shape[2-1]\n",
    "\n",
    "bat_label[np.arange[1,5+1]] = np.array([[1852],[2160],[2237],[1434],[1709]])\n",
    "plt.figure()\n",
    "hold('on')\n",
    "for i in np.arange(1,numBat+1).reshape(-1):\n",
    "    plt.plot(batch_combined(i).summary.QDischarge,'.-')\n",
    "\n",
    "max_Q = log10(np.amax(bat_label) + 1)\n",
    "min_Q = log10(np.amin(bat_label) - 1)\n",
    "bat_label = log10(bat_label)\n",
    "colormap('jet')\n",
    "CM = colormap('jet')"
   ]
  },
  {
   "cell_type": "markdown",
   "id": "289eb61a",
   "metadata": {},
   "source": [
    "## Features"
   ]
  },
  {
   "cell_type": "code",
   "execution_count": null,
   "id": "01568914",
   "metadata": {},
   "outputs": [],
   "source": [
    "hump = np.zeros((numBat,1))\n",
    "for i in np.arange(1,numBat+1).reshape(-1):\n",
    "    val,hump[i] = np.amax(batch_combined(i).summary.QDischarge(np.arange(1,100+1)))\n",
    "\n",
    "hump[15] = 19\n",
    "feat = np.zeros((numBat,1))\n",
    "plt.figure()\n",
    "\n",
    "for i in np.arange(1,numBat+1).reshape(-1):\n",
    "    #Q features\n",
    "    Q100_1,V100 = VQlinspace2(batch_combined(i).cycles(100))\n",
    "    Q10_1,V10 = VQlinspace2(batch_combined(i).cycles(10))\n",
    "    QDiff = Q100_1 - Q10_1\n",
    "    feat[i,1] = log10(np.abs(var(QDiff)))\n",
    "\n",
    "#ylim([0.95,1.1])\n",
    "plt.xlabel('Q_{100} - Q_{10}')\n",
    "plt.ylabel('Voltage')\n",
    "set(gca,'fontsize',16)\n",
    "##\n",
    "colormap('jet')\n",
    "CM = colormap('jet')\n",
    "plt.figure()\n",
    "for i in np.arange(1,feat.shape[2-1]+1).reshape(-1):\n",
    "    for j in np.arange(1,numBat+1).reshape(-1):\n",
    "        subplot(4,6,i)\n",
    "        color_ind = np.ceil((bat_label(j) - min_Q) / (max_Q - min_Q) * 64)\n",
    "        plt.plot(feat(j,i),bat_label(j),'.','Color',CM(color_ind,:),'MarkerSize',15)"
   ]
  }
 ],
 "metadata": {
  "kernelspec": {
   "display_name": "Python 3.9.13 64-bit",
   "language": "python",
   "name": "python3"
  },
  "language_info": {
   "codemirror_mode": {
    "name": "ipython",
    "version": 3
   },
   "file_extension": ".py",
   "mimetype": "text/x-python",
   "name": "python",
   "nbconvert_exporter": "python",
   "pygments_lexer": "ipython3",
   "version": "3.9.13"
  },
  "vscode": {
   "interpreter": {
    "hash": "aee8b7b246df8f9039afb4144a1f6fd8d2ca17a180786b69acc140d282b71a49"
   }
  }
 },
 "nbformat": 4,
 "nbformat_minor": 5
}
