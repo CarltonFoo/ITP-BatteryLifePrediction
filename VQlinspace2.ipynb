{
 "cells": [
  {
   "cell_type": "code",
   "execution_count": 1,
   "id": "472a324a",
   "metadata": {},
   "outputs": [],
   "source": [
    "import numpy as np"
   ]
  },
  {
   "cell_type": "code",
   "execution_count": 3,
   "id": "eeb67434",
   "metadata": {},
   "outputs": [],
   "source": [
    "def VQlinspace2(cycle): \n",
    "    # VQlinspace2 returns a linearly-spaced V vs Q curve\n",
    "    # Inputs: cycle (i.e. batch(i).cycles(j))\n",
    "    # Outputs: Qlin, Vlin = linearly spaced Qdis vs Vdis\n",
    "    # VQlinspace2 uses time/current to generate discharge capacity due to\n",
    "    # discrepancy for Qdischarge. This produces a \"smoother\" and more\n",
    "    # physically meaningful discharge curve\n",
    "    # Last modified October 9, 2017\n",
    "    \n",
    "    # 1. Get the indices of all currents ~ -4 C, i.e. discharge indices.\n",
    "    # For all policies, we discharge at 4C (= -4.4A)\n",
    "    indices = find(np.abs(cycle.I + 4) < 0.05)\n",
    "    # Remove trailing data points\n",
    "    __,index2 = np.amin(cycle.V(indices(np.arange(1,end() - 2+1))))\n",
    "    indices = indices(np.arange(1,index2+1))\n",
    "    # 2. Extract Q_dis (from t_dis) and V_dis:\n",
    "    Q_dis_raw = np.multiply(- (cycle.t(indices) - cycle.t(indices(1))) / 60.0 * cycle.I(indices),1.1)\n",
    "    V_dis_raw = cycle.V(indices)\n",
    "    # 3. Fit to function. Ensure data is nearly untransformed\n",
    "    VQfit = fit(V_dis_raw,Q_dis_raw,'smoothingspline')\n",
    "    # 4.\n",
    "    \n",
    "    # 5. Linearly interpolate\n",
    "    n_points = 1000\n",
    "    \n",
    "    V1 = 2.0\n",
    "    V2 = 3.5\n",
    "    spacing = (V2 - V1) / n_points\n",
    "    Vlin = np.arange(V1,V2+spacing,spacing)\n",
    "    \n",
    "    Qlin = VQfit(Vlin)\n",
    "    return Qlin,Vlin\n",
    "    "
   ]
  },
  {
   "cell_type": "code",
   "execution_count": null,
   "id": "57d499d4",
   "metadata": {},
   "outputs": [],
   "source": []
  }
 ],
 "metadata": {
  "kernelspec": {
   "display_name": "Python 3 (ipykernel)",
   "language": "python",
   "name": "python3"
  },
  "language_info": {
   "codemirror_mode": {
    "name": "ipython",
    "version": 3
   },
   "file_extension": ".py",
   "mimetype": "text/x-python",
   "name": "python",
   "nbconvert_exporter": "python",
   "pygments_lexer": "ipython3",
   "version": "3.9.12"
  }
 },
 "nbformat": 4,
 "nbformat_minor": 5
}
