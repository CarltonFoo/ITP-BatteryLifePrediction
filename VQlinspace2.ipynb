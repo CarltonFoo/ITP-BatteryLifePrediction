{
 "cells": [
  {
   "cell_type": "code",
   "execution_count": 3,
   "id": "472a324a",
   "metadata": {},
   "outputs": [],
   "source": [
    "import numpy as np\n",
    "from scipy.interpolate import UnivariateSpline "
   ]
  },
  {
   "cell_type": "code",
   "execution_count": 3,
   "id": "eeb67434",
   "metadata": {},
   "outputs": [],
   "source": [
    "def VQlinspace2(cycle_current, cycle_voltage, cycle_time): \n",
    "    # VQlinspace2 returns a linearly-spaced V vs Q curve\n",
    "    # Inputs: cycle (i.e. batch(i).cycles(j))\n",
    "    # Outputs: Qlin, Vlin = linearly spaced Qdis vs Vdis\n",
    "    # VQlinspace2 uses time/current to generate discharge capacity due to\n",
    "    # discrepancy for Qdischarge. This produces a \"smoother\" and more\n",
    "    # physically meaningful discharge curve\n",
    "    # Last modified October 9, 2017\n",
    "    \n",
    "    # 1. Get the indices of all currents ~ -4 C, i.e. discharge indices.\n",
    "    # For all policies, we discharge at 4C (= -4.4A)\n",
    "    start_index = np.argmax(np.abs(cycle_current + 4) < 0.05)\n",
    "    end_index = np.argmin(cycle_voltage[start_index:-2]) + start_index\n",
    "\n",
    "    # 2. Extract Q_dis (from t_dis) and V_dis:\n",
    "    Q_dis_raw = -(cycle_time[start_index:end_index] - cycle_time[start_index]) / 60.0 * cycle_current[start_index:end_index] * 1.1\n",
    "    V_dis_raw = cycle_voltage[start_index:end_index]\n",
    "\n",
    "    # 3. Fit to function. Ensure data is nearly untransformed\n",
    "    sorting_order = np.argsort(V_dis_raw, axis=0)\n",
    "    VQfit = UnivariateSpline(\n",
    "        np.take_along_axis(V_dis_raw, sorting_order, axis=0),\n",
    "        np.take_along_axis(Q_dis_raw, sorting_order, axis=0)\n",
    "    )\n",
    "\n",
    "    # 5. Linearly interpolate\n",
    "    Vlin = np.linspace(2.0, 3.5, 1000)\n",
    "    Qlin = VQfit(Vlin)\n",
    "    \n",
    "    return Qlin,Vlin\n",
    "    "
   ]
  }
 ],
 "metadata": {
  "kernelspec": {
   "display_name": "Python 3.10.2 ('.venv': venv)",
   "language": "python",
   "name": "python3"
  },
  "language_info": {
   "codemirror_mode": {
    "name": "ipython",
    "version": 3
   },
   "file_extension": ".py",
   "mimetype": "text/x-python",
   "name": "python",
   "nbconvert_exporter": "python",
   "pygments_lexer": "ipython3",
   "version": "3.10.2"
  },
  "vscode": {
   "interpreter": {
    "hash": "28bd94140b22442a5e361fe5f585021fa619f223c95f307eda248247a2d6f02a"
   }
  }
 },
 "nbformat": 4,
 "nbformat_minor": 5
}
