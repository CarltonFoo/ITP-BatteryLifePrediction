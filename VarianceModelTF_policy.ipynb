{
 "cells": [
  {
   "cell_type": "code",
   "execution_count": null,
   "metadata": {},
   "outputs": [],
   "source": [
    "%pip install -q numpy pandas matplotlib seaborn scikit-learn tensorflow h5py"
   ]
  },
  {
   "cell_type": "code",
   "execution_count": null,
   "metadata": {},
   "outputs": [],
   "source": [
    "import tensorflow as tf\n",
    "import numpy as np\n",
    "import matplotlib.pyplot as plt\n",
    "import os\n",
    "import pandas as pd\n",
    "import seaborn as sns\n",
    "from tensorflow import keras\n",
    "from sklearn.model_selection import train_test_split\n",
    "from sklearn.model_selection import KFold\n",
    "\n",
    "from keras.models import Sequential\n",
    "from keras.layers import Dense\n",
    "from tensorflow import keras\n",
    "from tensorflow.keras import layers\n",
    "from tensorflow.keras.optimizers import Adam"
   ]
  },
  {
   "cell_type": "code",
   "execution_count": null,
   "metadata": {},
   "outputs": [],
   "source": [
    "print(\"Num GPUs Available: \", len(tf.config.list_physical_devices('GPU')))"
   ]
  },
  {
   "cell_type": "code",
   "execution_count": null,
   "metadata": {},
   "outputs": [],
   "source": [
    "# pd.set_option('display.max_rows', None)\n",
    "fp = \"./features_combined.csv\"\n",
    "batch_pd = pd.read_csv(fp, index_col=False)\n",
    "dataset = batch_pd.copy()\n",
    "dataset.sort_values(by=['policy'], ascending=True, inplace=True)\n",
    "dataset"
   ]
  },
  {
   "cell_type": "code",
   "execution_count": null,
   "metadata": {},
   "outputs": [],
   "source": [
    "dataset.isna().sum()\n",
    "dataset = dataset.dropna().drop(columns=['policy', 'barcode'])\n",
    "dataset"
   ]
  },
  {
   "cell_type": "markdown",
   "metadata": {},
   "source": [
    "## Data split"
   ]
  },
  {
   "cell_type": "code",
   "execution_count": null,
   "metadata": {},
   "outputs": [],
   "source": [
    "normal_charge_dataset = dataset.iloc[0:29, :]\n",
    "fast_charge_dataset = dataset.iloc[29:, :]"
   ]
  },
  {
   "cell_type": "markdown",
   "metadata": {},
   "source": [
    "## Normal Charge Test-Train split"
   ]
  },
  {
   "cell_type": "code",
   "execution_count": null,
   "metadata": {},
   "outputs": [],
   "source": [
    "normal_charge_train_ds = normal_charge_dataset.iloc[0::2, :]\n",
    "normal_charge_test_ds = normal_charge_dataset.iloc[1::2, :]\n",
    "sns.pairplot(normal_charge_train_ds[['cycle_life', 'QDiffLinVar']], diag_kind='kde')\n",
    "sns.pairplot(normal_charge_test_ds[['cycle_life', 'QDiffLinVar']], diag_kind='kde')"
   ]
  },
  {
   "cell_type": "code",
   "execution_count": null,
   "metadata": {},
   "outputs": [],
   "source": [
    "normal_charge_train_ds.describe().transpose()\n"
   ]
  },
  {
   "cell_type": "code",
   "execution_count": null,
   "metadata": {},
   "outputs": [],
   "source": [
    "normalcharge_train_features = normal_charge_train_ds.copy()\n",
    "normalcharge_test_features = normal_charge_test_ds.copy()\n",
    "\n",
    "train_labels = normalcharge_train_features.pop('cycle_life')\n",
    "test_labels = normalcharge_test_features.pop('cycle_life')\n"
   ]
  },
  {
   "cell_type": "markdown",
   "metadata": {},
   "source": [
    "## Normalization Layer"
   ]
  },
  {
   "cell_type": "code",
   "execution_count": null,
   "metadata": {},
   "outputs": [],
   "source": [
    "normalizer = tf.keras.layers.Normalization(axis=-1)\n",
    "normalizer.adapt(np.array(normalcharge_train_features))\n",
    "print(normalizer.mean.numpy())"
   ]
  },
  {
   "cell_type": "markdown",
   "metadata": {},
   "source": [
    "# Linear Regress\n",
    "## Layering"
   ]
  },
  {
   "cell_type": "code",
   "execution_count": null,
   "metadata": {},
   "outputs": [],
   "source": [
    "QDiffLinVar = np.array(normalcharge_train_features['QDiffLinVar'])\n",
    "QDiffLinVar_normalizer = layers.Normalization(input_shape=[1,], axis=None)\n",
    "QDiffLinVar_normalizer.adapt(QDiffLinVar)"
   ]
  },
  {
   "cell_type": "markdown",
   "metadata": {},
   "source": [
    "## Model Building"
   ]
  },
  {
   "cell_type": "code",
   "execution_count": null,
   "metadata": {},
   "outputs": [],
   "source": [
    "variance_model_normal_charge = tf.keras.Sequential([\n",
    "    QDiffLinVar_normalizer,\n",
    "    layers.Dense(64, activation='relu'),\n",
    "    layers.Dense(64, activation='relu'),\n",
    "    layers.Dense(1)\n",
    "])\n",
    "\n",
    "variance_model_normal_charge.summary()\n",
    "print(\"Number of weights after calling the model:\", len(variance_model_normal_charge.weights))\n",
    "print(\"weights:\", len(variance_model_normal_charge.weights))\n",
    "print(\"trainable_weights:\", len(variance_model_normal_charge.trainable_weights))\n",
    "print(\"non_trainable_weights:\", len(variance_model_normal_charge.non_trainable_weights))\n"
   ]
  },
  {
   "cell_type": "code",
   "execution_count": null,
   "metadata": {},
   "outputs": [],
   "source": [
    "variance_model_normal_charge.predict(QDiffLinVar[:10])"
   ]
  },
  {
   "cell_type": "code",
   "execution_count": null,
   "metadata": {},
   "outputs": [],
   "source": [
    "variance_model_normal_charge.compile(\n",
    "    optimizer=tf.keras.optimizers.Adam(learning_rate=0.01),\n",
    "    loss='mse',\n",
    "    metrics=['mae']\n",
    "    )"
   ]
  },
  {
   "cell_type": "code",
   "execution_count": null,
   "metadata": {},
   "outputs": [],
   "source": [
    "%%time\n",
    "history = variance_model_normal_charge.fit(\n",
    "    normalcharge_train_features['QDiffLinVar'],\n",
    "    train_labels,\n",
    "    epochs=1000,\n",
    "    # Suppress logging.\n",
    "    verbose=1,\n",
    "    # Calculate validation results on 20% of the training data.\n",
    "    validation_split = 0.2)"
   ]
  },
  {
   "cell_type": "code",
   "execution_count": null,
   "metadata": {},
   "outputs": [],
   "source": [
    "def plot_loss(history):\n",
    "  plt.plot(np.sqrt(history.history['loss']), label='loss')\n",
    "  plt.plot(np.sqrt(history.history['val_loss']), label='val_loss')\n",
    "  # plt.ylim([200, 130])\n",
    "  plt.ylim([50, 300])\n",
    "  plt.xlabel('Epoch')\n",
    "  plt.ylabel('Error [cycles]')\n",
    "  plt.legend()\n",
    "  plt.grid(True)\n",
    "\n",
    "plot_loss(history)"
   ]
  },
  {
   "cell_type": "code",
   "execution_count": null,
   "metadata": {},
   "outputs": [],
   "source": [
    "hist = pd.DataFrame(history.history)\n",
    "hist = hist.pow(0.5) # Power 1/2 is the same as square root\n",
    "hist['epoch'] = history.epoch\n",
    "hist\n"
   ]
  },
  {
   "cell_type": "code",
   "execution_count": null,
   "metadata": {},
   "outputs": [],
   "source": [
    "test_results = {}\n",
    "\n",
    "test_results['normal_charge_variance_model'] = variance_model_normal_charge.evaluate(\n",
    "    normalcharge_test_features['QDiffLinVar'],\n",
    "    test_labels, verbose=1) #sqrt for mse"
   ]
  },
  {
   "cell_type": "markdown",
   "metadata": {},
   "source": [
    "## Predict"
   ]
  },
  {
   "cell_type": "code",
   "execution_count": null,
   "metadata": {},
   "outputs": [],
   "source": [
    "def plot_prediction(y_train, y_test):\n",
    "  plt.axes(aspect='equal')\n",
    "  plt.scatter(y_train, train_labels, label='Predictions (train)')\n",
    "  plt.scatter(y_test, test_labels, label='Predictions (test)')\n",
    "  lims = [0, 2000]\n",
    "  plt.xlim(lims)\n",
    "  plt.ylim(lims)\n",
    "  plt.plot(lims, lims, 'k', )\n",
    "  plt.xlabel('Predicted Cycle life')\n",
    "  plt.ylabel('Actual Cycle life')\n",
    "  plt.legend()\n",
    "\n",
    "train_prediction = variance_model_normal_charge.predict(normal_charge_train_ds['QDiffLinVar'])\n",
    "test_prediction = variance_model_normal_charge.predict(normal_charge_test_ds['QDiffLinVar'])\n",
    "plot_prediction(train_prediction, test_prediction)\n",
    "print(train_prediction.size, test_prediction.size)"
   ]
  },
  {
   "cell_type": "code",
   "execution_count": null,
   "metadata": {},
   "outputs": [],
   "source": [
    "print(\"weights:\", len(variance_model_normal_charge.weights))\n",
    "print(\"trainable_weights:\", len(variance_model_normal_charge.trainable_weights))\n",
    "print(\"non_trainable_weights:\", len(variance_model_normal_charge.non_trainable_weights))\n"
   ]
  },
  {
   "cell_type": "code",
   "execution_count": null,
   "metadata": {},
   "outputs": [],
   "source": [
    "test_results['normal_charge_variance_model'][0] = test_results['normal_charge_variance_model'][0] ** 0.5\n",
    "pd.DataFrame(test_results, index=['MSE', 'Mean absolute error']).T"
   ]
  },
  {
   "cell_type": "code",
   "execution_count": null,
   "metadata": {},
   "outputs": [],
   "source": [
    "variance_model_normal_charge.summary()"
   ]
  },
  {
   "cell_type": "markdown",
   "metadata": {},
   "source": [
    "# Transfer Learning"
   ]
  },
  {
   "cell_type": "markdown",
   "metadata": {},
   "source": [
    "### Model Building\n",
    "Freeze last layer for TF"
   ]
  },
  {
   "cell_type": "code",
   "execution_count": null,
   "metadata": {},
   "outputs": [],
   "source": [
    "variance_model_fast_charge = variance_model_normal_charge"
   ]
  },
  {
   "cell_type": "code",
   "execution_count": null,
   "metadata": {},
   "outputs": [],
   "source": [
    "for layer in variance_model_fast_charge.layers[:-1]:\n",
    "  layer.trainable = False"
   ]
  },
  {
   "cell_type": "markdown",
   "metadata": {},
   "source": [
    "### Fast-charge Data Train-Test split"
   ]
  },
  {
   "cell_type": "code",
   "execution_count": null,
   "metadata": {},
   "outputs": [],
   "source": [
    "fast_charge_train_ds = fast_charge_dataset.iloc[0::2, :]\n",
    "fast_charge_test_ds = fast_charge_dataset.iloc[1::2, :]\n",
    "sns.pairplot(fast_charge_train_ds[['cycle_life', 'QDiffLinVar']], diag_kind='kde')\n",
    "sns.pairplot(fast_charge_test_ds[['cycle_life', 'QDiffLinVar']], diag_kind='kde')\n",
    "# fast_charge_test_ds"
   ]
  },
  {
   "cell_type": "code",
   "execution_count": null,
   "metadata": {},
   "outputs": [],
   "source": [
    "fastcharge_train_features = fast_charge_train_ds.copy()\n",
    "fastcharge_test_features = fast_charge_test_ds.copy()\n",
    "\n",
    "fast_train_labels = fastcharge_train_features.pop('cycle_life')\n",
    "fast_test_labels = fastcharge_test_features.pop('cycle_life')\n"
   ]
  },
  {
   "cell_type": "markdown",
   "metadata": {},
   "source": [
    "### Compile and fit"
   ]
  },
  {
   "cell_type": "code",
   "execution_count": null,
   "metadata": {},
   "outputs": [],
   "source": [
    "variance_model_fast_charge2 = tf.keras.Sequential([\n",
    "    QDiffLinVar_normalizer,\n",
    "    layers.Dense(64, activation='relu'),\n",
    "    layers.Dense(64, activation='relu'),\n",
    "    layers.Dense(1)\n",
    "])\n",
    "variance_model_fast_charge2.compile(\n",
    "    optimizer=tf.keras.optimizers.Adam(learning_rate=0.01),\n",
    "    loss='mse',\n",
    "    metrics=['mae']\n",
    "    )\n",
    "variance_model_fast_charge.compile(\n",
    "    optimizer=tf.keras.optimizers.Adam(learning_rate=0.01),\n",
    "    loss='mse',\n",
    "    metrics=['mae']\n",
    "    )"
   ]
  },
  {
   "cell_type": "code",
   "execution_count": null,
   "metadata": {},
   "outputs": [],
   "source": [
    "%%time\n",
    "history = variance_model_fast_charge.fit(\n",
    "    fastcharge_train_features['QDiffLinVar'],\n",
    "    fast_train_labels,\n",
    "    epochs=1000,\n",
    "    # Suppress logging.\n",
    "    verbose=1,\n",
    "    # Calculate validation results on 20% of the training data.\n",
    "    validation_split = 0.2)"
   ]
  },
  {
   "cell_type": "code",
   "execution_count": null,
   "metadata": {},
   "outputs": [],
   "source": [
    "%%time\n",
    "history2 = variance_model_fast_charge2.fit(\n",
    "    fastcharge_train_features['QDiffLinVar'],\n",
    "    fast_train_labels,\n",
    "    epochs=1000,\n",
    "    # Suppress logging.\n",
    "    verbose=1,\n",
    "    # Calculate validation results on 20% of the training data.\n",
    "    validation_split = 0.2)"
   ]
  },
  {
   "cell_type": "markdown",
   "metadata": {},
   "source": [
    "### Plot loss graph"
   ]
  },
  {
   "cell_type": "code",
   "execution_count": null,
   "metadata": {},
   "outputs": [],
   "source": [
    "def plot_loss(history):\n",
    "  plt.plot(np.sqrt(history.history['loss']), label='loss')\n",
    "  plt.plot(np.sqrt(history.history['val_loss']), label='val_loss')\n",
    "  # plt.ylim([200, 130])\n",
    "  plt.ylim([50, 300])\n",
    "  plt.xlabel('Epoch')\n",
    "  plt.ylabel('Error [cycles]')\n",
    "  plt.legend()\n",
    "  plt.grid(True)\n",
    "\n",
    "plot_loss(history)\n",
    "plot_loss(history2)"
   ]
  },
  {
   "cell_type": "code",
   "execution_count": null,
   "metadata": {},
   "outputs": [],
   "source": [
    "hist = pd.DataFrame(history.history)\n",
    "hist = hist.pow(0.5) # Power 1/2 is the same as square root\n",
    "hist['epoch'] = history.epoch\n",
    "hist\n",
    "\n"
   ]
  },
  {
   "cell_type": "code",
   "execution_count": null,
   "metadata": {},
   "outputs": [],
   "source": [
    "hist2 = pd.DataFrame(history2.history)\n",
    "hist2 = hist.pow(0.5)\n",
    "hist2['epoch'] = history2.epoch\n",
    "hist2"
   ]
  },
  {
   "cell_type": "code",
   "execution_count": null,
   "metadata": {},
   "outputs": [],
   "source": [
    "test_results['fast_charge_variance_model'] = variance_model_fast_charge.evaluate(\n",
    "    fastcharge_test_features['QDiffLinVar'],\n",
    "    fast_test_labels, verbose=1) #sqrt for mse\n",
    "test_results['fast_charge_variance_model2'] = variance_model_fast_charge2.evaluate(\n",
    "    fastcharge_test_features['QDiffLinVar'],\n",
    "    fast_test_labels, verbose=1) #sqrt for mse"
   ]
  },
  {
   "cell_type": "code",
   "execution_count": null,
   "metadata": {},
   "outputs": [],
   "source": [
    "def plot_prediction(y_train, y_test):\n",
    "  plt.axes(aspect='equal')\n",
    "  plt.scatter(y_train, fast_train_labels, label='Predictions (train)')\n",
    "  plt.scatter(y_test, fast_test_labels, label='Predictions (test)')\n",
    "  lims = [0, 2000]\n",
    "  plt.xlim(lims)\n",
    "  plt.ylim(lims)\n",
    "  plt.plot(lims, lims, 'k', )\n",
    "  plt.xlabel('Predicted Cycle life')\n",
    "  plt.ylabel('Actual Cycle life')\n",
    "  plt.legend()\n",
    "\n",
    "fast_train_prediction = variance_model_fast_charge.predict(fast_charge_train_ds['QDiffLinVar'])\n",
    "fast_test_prediction = variance_model_fast_charge.predict(fast_charge_test_ds['QDiffLinVar'])\n",
    "plot_prediction(fast_train_prediction, fast_test_prediction)\n",
    "\n"
   ]
  },
  {
   "cell_type": "code",
   "execution_count": null,
   "metadata": {},
   "outputs": [],
   "source": [
    "fast_train_prediction2 = variance_model_fast_charge2.predict(fast_charge_train_ds['QDiffLinVar'])\n",
    "fast_test_prediction2 = variance_model_fast_charge2.predict(fast_charge_test_ds['QDiffLinVar'])\n",
    "plot_prediction(fast_train_prediction2, fast_test_prediction2)"
   ]
  },
  {
   "cell_type": "code",
   "execution_count": null,
   "metadata": {},
   "outputs": [],
   "source": [
    "test_results['fast_charge_variance_model'][0] = test_results['fast_charge_variance_model'][0] ** 0.5\n",
    "test_results['fast_charge_variance_model2'][0] = test_results['fast_charge_variance_model2'][0] ** 0.5\n",
    "pd.DataFrame(test_results, index=['MSE', 'Mean absolute error']).T"
   ]
  },
  {
   "cell_type": "markdown",
   "metadata": {},
   "source": [
    "# Scratch Test"
   ]
  },
  {
   "cell_type": "code",
   "execution_count": null,
   "metadata": {},
   "outputs": [],
   "source": [
    "# model = tf.keras.Sequential(\n",
    "#     [\n",
    "#         layers.Dense(2, activation=\"relu\"),\n",
    "#         layers.Dense(3, activation=\"relu\"),\n",
    "#         layers.Dense(4),\n",
    "#     ]\n",
    "# ) \n",
    "# model.summary()"
   ]
  },
  {
   "cell_type": "code",
   "execution_count": null,
   "metadata": {},
   "outputs": [],
   "source": []
  }
 ],
 "metadata": {
  "kernelspec": {
   "display_name": "Python 3.9.13 64-bit",
   "language": "python",
   "name": "python3"
  },
  "language_info": {
   "codemirror_mode": {
    "name": "ipython",
    "version": 3
   },
   "file_extension": ".py",
   "mimetype": "text/x-python",
   "name": "python",
   "nbconvert_exporter": "python",
   "pygments_lexer": "ipython3",
   "version": "3.9.13"
  },
  "orig_nbformat": 4,
  "vscode": {
   "interpreter": {
    "hash": "aee8b7b246df8f9039afb4144a1f6fd8d2ca17a180786b69acc140d282b71a49"
   }
  }
 },
 "nbformat": 4,
 "nbformat_minor": 2
}
