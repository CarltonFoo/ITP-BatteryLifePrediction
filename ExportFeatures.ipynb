{
 "cells": [
  {
   "cell_type": "code",
   "execution_count": null,
   "metadata": {},
   "outputs": [],
   "source": [
    "%pip install jupyter numpy pandas matplotlib scikit-learn h5py"
   ]
  },
  {
   "cell_type": "code",
   "execution_count": null,
   "metadata": {},
   "outputs": [],
   "source": [
    "import h5py\n",
    "import scipy.io\n",
    "import scipy.stats\n",
    "from sklearn import linear_model\n",
    "import pandas as pd\n",
    "import numpy as np"
   ]
  },
  {
   "cell_type": "code",
   "execution_count": null,
   "metadata": {},
   "outputs": [],
   "source": [
    "%run \"VQlinspace2.ipynb\""
   ]
  },
  {
   "cell_type": "markdown",
   "metadata": {},
   "source": [
    "## Read matlab files"
   ]
  },
  {
   "cell_type": "code",
   "execution_count": null,
   "metadata": {},
   "outputs": [],
   "source": [
    "matFilename = '/Users/guancong/Desktop/sch/3110_ITP/BatteryLifeTimeML/Data/2017-05-12_batchdata_updated_struct_errorcorrect.mat'\n",
    "f1 = h5py.File(matFilename)"
   ]
  },
  {
   "cell_type": "code",
   "execution_count": null,
   "metadata": {},
   "outputs": [],
   "source": [
    "matFilename = '/Users/guancong/Desktop/sch/3110_ITP/BatteryLifeTimeML/Data/2017-06-30_batchdata_updated_struct_errorcorrect.mat'\n",
    "f2 = h5py.File(matFilename)"
   ]
  },
  {
   "cell_type": "code",
   "execution_count": null,
   "metadata": {},
   "outputs": [],
   "source": [
    "batch1 = f1['batch']\n",
    "batch2 = f2['batch']\n",
    "batch1.keys()"
   ]
  },
  {
   "cell_type": "code",
   "execution_count": null,
   "metadata": {},
   "outputs": [],
   "source": [
    "f1[batch1['summary'][0,0]].keys()"
   ]
  },
  {
   "cell_type": "code",
   "execution_count": null,
   "metadata": {},
   "outputs": [],
   "source": [
    "f1[batch1['cycles'][0,0]].keys()"
   ]
  },
  {
   "cell_type": "code",
   "execution_count": null,
   "metadata": {},
   "outputs": [],
   "source": [
    "f1[batch1['cycles'][0,0]]['V'].shape"
   ]
  },
  {
   "cell_type": "code",
   "execution_count": null,
   "metadata": {},
   "outputs": [],
   "source": [
    "s1 = f2[batch2['summary'][3,0]]\n",
    "np.argmax(s1['QDischarge'][0] < 0.88)\n",
    "# f2[batch2['cycle_life'][3,0]][0,0]"
   ]
  },
  {
   "cell_type": "code",
   "execution_count": null,
   "metadata": {},
   "outputs": [],
   "source": [
    "num_cells = batch1['summary'].shape[0] + batch2['summary'].shape[0]"
   ]
  },
  {
   "cell_type": "markdown",
   "metadata": {},
   "source": [
    "## Extract Features"
   ]
  },
  {
   "cell_type": "code",
   "execution_count": null,
   "metadata": {},
   "outputs": [],
   "source": [
    "def extract_string(batch, file, column, row):\n",
    "    text = file[batch[column][row,0]]\n",
    "    return u''.join(chr(c[0]) for c in text)\n",
    "\n",
    "def extract_features(batch, file, start_from=0):\n",
    "    num_cells_batch = batch['summary'].shape[0]\n",
    "    batch_feats = pd.DataFrame(0.0, index=np.arange(num_cells_batch), columns=(\n",
    "        'policy', 'barcode', 'cycle_life', 'QD2', 'QD(Max-2)', 'QD100',\n",
    "        'QDiffMin', 'QDiffMean', 'QDiffVar', 'QDiffSkew', 'QDiffKurtosis',\n",
    "        'QDiffStart', 'R3Coef', 'R3Intercept', 'R1Coef', 'R1Intercept',\n",
    "        'QDiffLinVar'\n",
    "    ))\n",
    "    batch_feats['policy'] = batch_feats['policy'].astype(str)\n",
    "    batch_feats['barcode'] = batch_feats['barcode'].astype(str)\n",
    "    for i in range(num_cells_batch):\n",
    "        c_index = start_from + i\n",
    "        batch_feats.at[c_index, 'policy'] = extract_string(batch, file, 'policy', i)\n",
    "        # barcode is encoded in MATLAB proprietary string format\n",
    "        # Mathworks Inc have not disclosed how this encoding works\n",
    "        # so no open source library is able to load it\n",
    "        # batch_feats.at[c_index, 'barcode'] = extract_string(batch, file, 'barcode', i)\n",
    "        batch_feats.at[c_index, 'barcode'] = \"???\"\n",
    "        # batch_feats.at[c_index, 'cycle_life'] = file[batch['cycle_life'][i,0]][0,0]\n",
    "        \n",
    "        summary = file[batch['summary'][i,0]]\n",
    "        cycles = file[batch['cycles'][i,0]]\n",
    "\n",
    "        # extract the number of cycles to 0.88\n",
    "        if summary['QDischarge'][0,-1] < 0.88:\n",
    "            batch_feats.at[c_index, 'cycle_life'] = np.argmax(\n",
    "                summary['QDischarge'][0] < 0.88\n",
    "            ) + 1\n",
    "        else:\n",
    "            batch_feats.at[c_index, 'cycle_life'] = cycles['V'].shape[0]\n",
    "        # capacity features\n",
    "        batch_feats.at[c_index,'QD2'] = summary['QDischarge'][0,1]\n",
    "        batch_feats.at[c_index,'QD(Max-2)'] = max(\n",
    "            summary['QDischarge'][0,0:99]\n",
    "        ) - batch_feats.at[c_index,'QD2']\n",
    "        batch_feats.at[c_index,'QD100'] = summary['QDischarge'][0,99]\n",
    "\n",
    "        # Q features\n",
    "        Q10 = np.hstack((file[cycles['Qdlin'][9,0]]))\n",
    "        Q100 = np.hstack((file[cycles['Qdlin'][99,0]]))\n",
    "        Qdiff = Q100 - Q10\n",
    "\n",
    "        batch_feats.at[c_index,'QDiffMin'] = np.log10(np.abs(np.min(Qdiff)))\n",
    "        batch_feats.at[c_index,'QDiffMean'] = np.log10(np.abs(np.mean(Qdiff)))\n",
    "        batch_feats.at[c_index,'QDiffVar'] = np.log10(np.abs(np.var(Qdiff)))\n",
    "        batch_feats.at[c_index,'QDiffSkew'] = np.log10(np.abs(scipy.stats.skew(Qdiff)))\n",
    "        batch_feats.at[c_index,'QDiffKurtosis'] = np.log10(np.abs(scipy.stats.kurtosis(Qdiff)))\n",
    "        batch_feats.at[c_index,'QDiffStart'] = np.log10(np.abs(Qdiff[0]))\n",
    "\n",
    "        # https://stackoverflow.com/questions/46779605/in-the-linearregression-method-in-sklearn-what-exactly-is-the-fit-intercept-par\n",
    "        R3 = linear_model.LinearRegression(fit_intercept=True)\n",
    "        R3.fit(\n",
    "            np.arange(2,100).reshape(-1,1),\n",
    "            summary['QDischarge'][0,1:99]\n",
    "        )\n",
    "        batch_feats.at[c_index,'R3Coef'] = R3.coef_[0]\n",
    "        batch_feats.at[c_index,'R3Intercept'] = R3.intercept_\n",
    "\n",
    "        R1 = linear_model.LinearRegression(fit_intercept=True)\n",
    "        R1.fit(\n",
    "            np.arange(91,100).reshape(-1,1),\n",
    "            summary['QDischarge'][0,90:99]\n",
    "        )\n",
    "        batch_feats.at[c_index,'R1Coef'] = R1.coef_[0]\n",
    "        batch_feats.at[c_index,'R1Intercept'] = R1.intercept_\n",
    "\n",
    "        # Linearly Interpolated Var(QD100-QD10)\n",
    "        Q10Lin, _ = VQlinspace2(\n",
    "            file[cycles['I'][9,0]][0],\n",
    "            file[cycles['V'][9,0]][0],\n",
    "            file[cycles['t'][9,0]][0]\n",
    "        )\n",
    "        Q100Lin, _ = VQlinspace2(\n",
    "            file[cycles['I'][99,0]][0],\n",
    "            file[cycles['V'][99,0]][0],\n",
    "            file[cycles['t'][99,0]][0]\n",
    "        )\n",
    "        QDiffLin = Q100Lin - Q10Lin\n",
    "        batch_feats.at[c_index,'QDiffLinVar'] = np.log10(np.abs(np.var(\n",
    "            QDiffLin\n",
    "        )))\n",
    "\n",
    "    return batch_feats"
   ]
  },
  {
   "cell_type": "code",
   "execution_count": null,
   "metadata": {},
   "outputs": [],
   "source": [
    "batch1_feats = extract_features(batch1, f1)\n",
    "numbat1 = batch1_feats.shape[0]\n",
    "batch1_feats"
   ]
  },
  {
   "cell_type": "code",
   "execution_count": null,
   "metadata": {},
   "outputs": [],
   "source": [
    "batch2_feats = extract_features(batch2, f2)\n",
    "batch2_feats"
   ]
  },
  {
   "cell_type": "code",
   "execution_count": null,
   "metadata": {},
   "outputs": [],
   "source": [
    "# remove batteries continuing from batch 1\n",
    "batch2_feats.drop([7,8,9,15,16], inplace=True)\n",
    "numbat2 = batch2_feats.shape[0]"
   ]
  },
  {
   "cell_type": "code",
   "execution_count": null,
   "metadata": {},
   "outputs": [],
   "source": [
    "batch_combined = pd.concat((batch1_feats, batch2_feats))\n",
    "num_cells = numbat1 + numbat2\n",
    "batch_combined"
   ]
  },
  {
   "cell_type": "code",
   "execution_count": null,
   "metadata": {},
   "outputs": [],
   "source": [
    "# remove the batteries that do not finish in Batch 1\n",
    "batch_combined.drop([8,10,12,13,22], inplace=True)\n",
    "num_cells = num_cells - 5\n",
    "numbat1 = numbat1 - 5"
   ]
  },
  {
   "cell_type": "code",
   "execution_count": null,
   "metadata": {},
   "outputs": [],
   "source": [
    "batch_combined.to_csv(\"./features_combined.csv\", index=False)"
   ]
  },
  {
   "cell_type": "markdown",
   "metadata": {},
   "source": [
    "### Test Sketches\n",
    "Just some notes"
   ]
  },
  {
   "cell_type": "code",
   "execution_count": null,
   "metadata": {},
   "outputs": [],
   "source": [
    "policy_n = f1[batch1['barcode'][0,0]]"
   ]
  },
  {
   "cell_type": "code",
   "execution_count": null,
   "metadata": {},
   "outputs": [],
   "source": [
    "policy_n.attrs['MATLAB_class']"
   ]
  },
  {
   "cell_type": "code",
   "execution_count": null,
   "metadata": {},
   "outputs": [],
   "source": [
    "policy_n[0]"
   ]
  },
  {
   "cell_type": "code",
   "execution_count": null,
   "metadata": {},
   "outputs": [],
   "source": [
    "strlist = [u''.join(chr(c[0]) for c in policy_n)]\n",
    "strlist"
   ]
  }
 ],
 "metadata": {
  "kernelspec": {
   "display_name": "Python 3.9.13 64-bit",
   "language": "python",
   "name": "python3"
  },
  "language_info": {
   "codemirror_mode": {
    "name": "ipython",
    "version": 3
   },
   "file_extension": ".py",
   "mimetype": "text/x-python",
   "name": "python",
   "nbconvert_exporter": "python",
   "pygments_lexer": "ipython3",
   "version": "3.9.13"
  },
  "orig_nbformat": 4,
  "vscode": {
   "interpreter": {
    "hash": "aee8b7b246df8f9039afb4144a1f6fd8d2ca17a180786b69acc140d282b71a49"
   }
  }
 },
 "nbformat": 4,
 "nbformat_minor": 2
}
